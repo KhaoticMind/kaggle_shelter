{
 "cells": [
  {
   "cell_type": "code",
   "execution_count": 1,
   "metadata": {
    "collapsed": false
   },
   "outputs": [],
   "source": [
    "%matplotlib inline\n",
    "\n",
    "import pandas as pd\n",
    "import seaborn as sns\n",
    "import numpy as np\n",
    "\n",
    "from matplotlib import pyplot as plt\n",
    "\n",
    "from sklearn.ensemble import RandomForestClassifier, BaggingClassifier, GradientBoostingClassifier\n",
    "from sklearn.svm import SVC\n",
    "from sklearn.preprocessing import label_binarize, normalize, LabelEncoder\n",
    "from sklearn.metrics import log_loss, classification_report\n",
    "from sklearn.decomposition import PCA\n",
    "\n",
    "from sklearn.cross_validation import cross_val_score, KFold, StratifiedKFold, train_test_split\n",
    "from sklearn.feature_selection import RFECV\n",
    "from sklearn.grid_search import GridSearchCV\n",
    "from sklearn.linear_model import SGDClassifier\n",
    "from sklearn.calibration import CalibratedClassifierCV\n",
    "\n",
    "#from xgboost import XGBClassifier\n",
    "#import xgboost as xgb"
   ]
  },
  {
   "cell_type": "code",
   "execution_count": 2,
   "metadata": {
    "collapsed": false
   },
   "outputs": [
    {
     "name": "stdout",
     "output_type": "stream",
     "text": [
      "<class 'pandas.core.frame.DataFrame'>\n",
      "RangeIndex: 26729 entries, 0 to 26728\n",
      "Data columns (total 10 columns):\n",
      "AnimalID          26729 non-null object\n",
      "Name              19038 non-null object\n",
      "DateTime          26729 non-null object\n",
      "OutcomeType       26729 non-null object\n",
      "OutcomeSubtype    13117 non-null object\n",
      "AnimalType        26729 non-null object\n",
      "SexuponOutcome    26728 non-null object\n",
      "AgeuponOutcome    26711 non-null object\n",
      "Breed             26729 non-null object\n",
      "Color             26729 non-null object\n",
      "dtypes: object(10)\n",
      "memory usage: 2.0+ MB\n"
     ]
    }
   ],
   "source": [
    "df = pd.read_csv('../input/train.csv')\n",
    "df.info()"
   ]
  },
  {
   "cell_type": "code",
   "execution_count": 3,
   "metadata": {
    "collapsed": false
   },
   "outputs": [
    {
     "data": {
      "text/html": [
       "<div>\n",
       "<table border=\"1\" class=\"dataframe\">\n",
       "  <thead>\n",
       "    <tr style=\"text-align: right;\">\n",
       "      <th></th>\n",
       "      <th>AnimalID</th>\n",
       "      <th>Name</th>\n",
       "      <th>DateTime</th>\n",
       "      <th>OutcomeType</th>\n",
       "      <th>OutcomeSubtype</th>\n",
       "      <th>AnimalType</th>\n",
       "      <th>SexuponOutcome</th>\n",
       "      <th>AgeuponOutcome</th>\n",
       "      <th>Breed</th>\n",
       "      <th>Color</th>\n",
       "    </tr>\n",
       "  </thead>\n",
       "  <tbody>\n",
       "    <tr>\n",
       "      <th>0</th>\n",
       "      <td>A671945</td>\n",
       "      <td>Hambone</td>\n",
       "      <td>2014-02-12 18:22:00</td>\n",
       "      <td>Return_to_owner</td>\n",
       "      <td>NaN</td>\n",
       "      <td>Dog</td>\n",
       "      <td>Neutered Male</td>\n",
       "      <td>1 year</td>\n",
       "      <td>Shetland Sheepdog Mix</td>\n",
       "      <td>Brown/White</td>\n",
       "    </tr>\n",
       "    <tr>\n",
       "      <th>1</th>\n",
       "      <td>A656520</td>\n",
       "      <td>Emily</td>\n",
       "      <td>2013-10-13 12:44:00</td>\n",
       "      <td>Euthanasia</td>\n",
       "      <td>Suffering</td>\n",
       "      <td>Cat</td>\n",
       "      <td>Spayed Female</td>\n",
       "      <td>1 year</td>\n",
       "      <td>Domestic Shorthair Mix</td>\n",
       "      <td>Cream Tabby</td>\n",
       "    </tr>\n",
       "    <tr>\n",
       "      <th>2</th>\n",
       "      <td>A686464</td>\n",
       "      <td>Pearce</td>\n",
       "      <td>2015-01-31 12:28:00</td>\n",
       "      <td>Adoption</td>\n",
       "      <td>Foster</td>\n",
       "      <td>Dog</td>\n",
       "      <td>Neutered Male</td>\n",
       "      <td>2 years</td>\n",
       "      <td>Pit Bull Mix</td>\n",
       "      <td>Blue/White</td>\n",
       "    </tr>\n",
       "    <tr>\n",
       "      <th>3</th>\n",
       "      <td>A683430</td>\n",
       "      <td>NaN</td>\n",
       "      <td>2014-07-11 19:09:00</td>\n",
       "      <td>Transfer</td>\n",
       "      <td>Partner</td>\n",
       "      <td>Cat</td>\n",
       "      <td>Intact Male</td>\n",
       "      <td>3 weeks</td>\n",
       "      <td>Domestic Shorthair Mix</td>\n",
       "      <td>Blue Cream</td>\n",
       "    </tr>\n",
       "    <tr>\n",
       "      <th>4</th>\n",
       "      <td>A667013</td>\n",
       "      <td>NaN</td>\n",
       "      <td>2013-11-15 12:52:00</td>\n",
       "      <td>Transfer</td>\n",
       "      <td>Partner</td>\n",
       "      <td>Dog</td>\n",
       "      <td>Neutered Male</td>\n",
       "      <td>2 years</td>\n",
       "      <td>Lhasa Apso/Miniature Poodle</td>\n",
       "      <td>Tan</td>\n",
       "    </tr>\n",
       "  </tbody>\n",
       "</table>\n",
       "</div>"
      ],
      "text/plain": [
       "  AnimalID     Name             DateTime      OutcomeType OutcomeSubtype  \\\n",
       "0  A671945  Hambone  2014-02-12 18:22:00  Return_to_owner            NaN   \n",
       "1  A656520    Emily  2013-10-13 12:44:00       Euthanasia      Suffering   \n",
       "2  A686464   Pearce  2015-01-31 12:28:00         Adoption         Foster   \n",
       "3  A683430      NaN  2014-07-11 19:09:00         Transfer        Partner   \n",
       "4  A667013      NaN  2013-11-15 12:52:00         Transfer        Partner   \n",
       "\n",
       "  AnimalType SexuponOutcome AgeuponOutcome                        Breed  \\\n",
       "0        Dog  Neutered Male         1 year        Shetland Sheepdog Mix   \n",
       "1        Cat  Spayed Female         1 year       Domestic Shorthair Mix   \n",
       "2        Dog  Neutered Male        2 years                 Pit Bull Mix   \n",
       "3        Cat    Intact Male        3 weeks       Domestic Shorthair Mix   \n",
       "4        Dog  Neutered Male        2 years  Lhasa Apso/Miniature Poodle   \n",
       "\n",
       "         Color  \n",
       "0  Brown/White  \n",
       "1  Cream Tabby  \n",
       "2   Blue/White  \n",
       "3   Blue Cream  \n",
       "4          Tan  "
      ]
     },
     "execution_count": 3,
     "metadata": {},
     "output_type": "execute_result"
    }
   ],
   "source": [
    "df.head()"
   ]
  },
  {
   "cell_type": "markdown",
   "metadata": {},
   "source": [
    "Obviously the age of the animals should be importante, so we need to clean it up a bit.\n",
    "From the frist lines we can see that the age is in the format Numberperiod. \n",
    "\n",
    "Lets see what periods are there."
   ]
  },
  {
   "cell_type": "code",
   "execution_count": 4,
   "metadata": {
    "collapsed": false
   },
   "outputs": [
    {
     "data": {
      "text/plain": [
       "array(['year', 'years', 'weeks', 'month', 'months', 'days', 'week', 'day',\n",
       "       None], dtype=object)"
      ]
     },
     "execution_count": 4,
     "metadata": {},
     "output_type": "execute_result"
    }
   ],
   "source": [
    "df['AgeuponOutcome'].str.split(expand=True)[1].unique()"
   ]
  },
  {
   "cell_type": "markdown",
   "metadata": {},
   "source": [
    "So lets map each of these to a \"multiplier\", and calculate the age of the animals in days."
   ]
  },
  {
   "cell_type": "code",
   "execution_count": 5,
   "metadata": {
    "collapsed": false
   },
   "outputs": [],
   "source": [
    "time_multiplier = dict(year = 365, years=365, weeks = 7, month = 30, months=30, days = 1, week = 7, day= 1)\n",
    "foo = df['AgeuponOutcome'].str.split(expand=True)\n",
    "age = foo[0].astype('float32')\n",
    "period = foo[1]\n",
    "del foo\n",
    "period = period.map(time_multiplier)\n",
    "df['age_in_days'] = age * period\n",
    "df['age_in_years'] = df['age_in_days'] / 365\n",
    "df['age_in_months'] = df['age_in_days'] / 30"
   ]
  },
  {
   "cell_type": "code",
   "execution_count": 6,
   "metadata": {
    "collapsed": false
   },
   "outputs": [
    {
     "name": "stdout",
     "output_type": "stream",
     "text": [
      "['Neutered' 'Spayed' 'Intact' 'Unknown' nan]\n",
      "['Male' 'Female' None]\n"
     ]
    }
   ],
   "source": [
    "print(df['SexuponOutcome'].str.split(expand=True)[0].unique())\n",
    "print(df['SexuponOutcome'].str.split(expand=True)[1].unique())"
   ]
  },
  {
   "cell_type": "code",
   "execution_count": 7,
   "metadata": {
    "collapsed": false
   },
   "outputs": [
    {
     "data": {
      "text/plain": [
       "<matplotlib.axes._subplots.AxesSubplot at 0xc59a160>"
      ]
     },
     "execution_count": 7,
     "metadata": {},
     "output_type": "execute_result"
    },
    {
     "data": {
      "image/png": "[encoded data removed]",
      "text/plain": [
       "<matplotlib.figure.Figure at 0xc58b7b8>"
      ]
     },
     "metadata": {},
     "output_type": "display_data"
    }
   ],
   "source": [
    "foo = df['SexuponOutcome'].str.split(expand=True)\n",
    "df['condition'] = foo[0].map({'Neutered': 'operated', 'Spayed':'operated', 'Intact': 'intact', 'Unknown': 'unknown'})\n",
    "df['sex'] = foo[1]\n",
    "sns.countplot(x='OutcomeType', data=df)"
   ]
  },
  {
   "cell_type": "markdown",
   "metadata": {},
   "source": [
    "So, it looks like most of the animals are being adopted or transfered. With some returning to their owner.\n",
    "Only a small part of them are suffering euthanasia or dying (thanks god).\n",
    "\n",
    "But how are these outcomes related to other characteristics of the animal? Are dogs and cats being are threated alike?"
   ]
  },
  {
   "cell_type": "code",
   "execution_count": 8,
   "metadata": {
    "collapsed": false
   },
   "outputs": [
    {
     "data": {
      "text/plain": [
       "<matplotlib.axes._subplots.AxesSubplot at 0xc697f28>"
      ]
     },
     "execution_count": 8,
     "metadata": {},
     "output_type": "execute_result"
    },
    {
     "data": {
      "image/png": "[encoded data removed]",
      "text/plain": [
       "<matplotlib.figure.Figure at 0xc698048>"
      ]
     },
     "metadata": {},
     "output_type": "display_data"
    }
   ],
   "source": [
    "sns.countplot(x='OutcomeType', data=df, hue='AnimalType')"
   ]
  },
  {
   "cell_type": "markdown",
   "metadata": {},
   "source": [
    "Dogs are prefered (as one would expect). The vast majority the animals returned to their owner are dogs. \n",
    "Dogs also haave a nice leading on adoption rate.\n",
    " \n",
    "What about the sex?"
   ]
  },
  {
   "cell_type": "code",
   "execution_count": 9,
   "metadata": {
    "collapsed": false
   },
   "outputs": [
    {
     "data": {
      "text/plain": [
       "<matplotlib.axes._subplots.AxesSubplot at 0xc7ece80>"
      ]
     },
     "execution_count": 9,
     "metadata": {},
     "output_type": "execute_result"
    },
    {
     "data": {
      "image/png": "[encoded data removed]",
      "text/plain": [
       "<matplotlib.figure.Figure at 0xc6def98>"
      ]
     },
     "metadata": {},
     "output_type": "display_data"
    }
   ],
   "source": [
    "sns.countplot(x='OutcomeType', data=df, hue='sex')"
   ]
  },
  {
   "cell_type": "markdown",
   "metadata": {},
   "source": [
    "So, in general the sex of the animal doesn't appear to have much influence on their final destinty."
   ]
  },
  {
   "cell_type": "code",
   "execution_count": 10,
   "metadata": {
    "collapsed": false
   },
   "outputs": [
    {
     "data": {
      "text/plain": [
       "<matplotlib.axes._subplots.AxesSubplot at 0xc6fef98>"
      ]
     },
     "execution_count": 10,
     "metadata": {},
     "output_type": "execute_result"
    },
    {
     "data": {
      "image/png": "[encoded data removed]",
      "text/plain": [
       "<matplotlib.figure.Figure at 0xc6e1dd8>"
      ]
     },
     "metadata": {},
     "output_type": "display_data"
    }
   ],
   "source": [
    "sns.countplot(x='OutcomeType', data=df, hue='condition')"
   ]
  },
  {
   "cell_type": "markdown",
   "metadata": {},
   "source": [
    "Thats not the case when dealing on the codition of the animal. Most of the adopted or returned animals are operated.\n",
    "\n",
    "Now lets see how the age influences this, for this we will use a boxplot."
   ]
  },
  {
   "cell_type": "code",
   "execution_count": 11,
   "metadata": {
    "collapsed": false
   },
   "outputs": [
    {
     "data": {
      "text/plain": [
       "<matplotlib.axes._subplots.AxesSubplot at 0xc75df60>"
      ]
     },
     "execution_count": 11,
     "metadata": {},
     "output_type": "execute_result"
    },
    {
     "data": {
      "image/png": "[encoded data removed]",
      "text/plain": [
       "<matplotlib.figure.Figure at 0xc74d128>"
      ]
     },
     "metadata": {},
     "output_type": "display_data"
    }
   ],
   "source": [
    "sns.boxplot(x='OutcomeType', y='age_in_days', data=df, showfliers=False) #showfliers=false disable the display of the outliers"
   ]
  },
  {
   "cell_type": "markdown",
   "metadata": {},
   "source": [
    "Contrary to my initial expectations, young animals are the ones that die most, while old animmals return to their owner (the owner miss them?) or suffer from euthanasia (putting their out of their misery).\n",
    "\n",
    "Adoptions are mainly about youg animals.\n",
    "\n",
    "Lets see how the name of the animals influence their odds."
   ]
  },
  {
   "cell_type": "code",
   "execution_count": 12,
   "metadata": {
    "collapsed": false
   },
   "outputs": [
    {
     "data": {
      "text/plain": [
       "<matplotlib.axes._subplots.AxesSubplot at 0xc8a3a58>"
      ]
     },
     "execution_count": 12,
     "metadata": {},
     "output_type": "execute_result"
    },
    {
     "data": {
      "image/png": "[encoded data removed]",
      "text/plain": [
       "<matplotlib.figure.Figure at 0xb506978>"
      ]
     },
     "metadata": {},
     "output_type": "display_data"
    }
   ],
   "source": [
    "df['has_name'] = pd.notnull(df['Name'])\n",
    "sns.countplot(x='OutcomeType', data=df, hue='has_name')"
   ]
  },
  {
   "cell_type": "markdown",
   "metadata": {},
   "source": [
    "So, if the animal has a name people are more propensed to get them back or even adopt them (I get the case of return_to_owner, but... can't new owners give their pets a name?)."
   ]
  },
  {
   "cell_type": "code",
   "execution_count": 13,
   "metadata": {
    "collapsed": false
   },
   "outputs": [
    {
     "data": {
      "text/plain": [
       "<matplotlib.axes._subplots.AxesSubplot at 0xc8ad048>"
      ]
     },
     "execution_count": 13,
     "metadata": {},
     "output_type": "execute_result"
    },
    {
     "data": {
      "image/png": "[encoded data removed]",
      "text/plain": [
       "<matplotlib.figure.Figure at 0xc8b8f60>"
      ]
     },
     "metadata": {},
     "output_type": "display_data"
    }
   ],
   "source": [
    "df['pure_breed'] = df.Breed.apply(lambda x : 'mix' not in x.lower())\n",
    "sns.countplot(x='OutcomeType', data=df, hue='pure_breed')"
   ]
  },
  {
   "cell_type": "code",
   "execution_count": 14,
   "metadata": {
    "collapsed": false
   },
   "outputs": [
    {
     "data": {
      "text/plain": [
       "<matplotlib.axes._subplots.AxesSubplot at 0xd106320>"
      ]
     },
     "execution_count": 14,
     "metadata": {},
     "output_type": "execute_result"
    },
    {
     "data": {
      "image/png": "[encoded data removed]",
      "text/plain": [
       "<matplotlib.figure.Figure at 0xd10ad68>"
      ]
     },
     "metadata": {},
     "output_type": "display_data"
    }
   ],
   "source": [
    "df.DateTime = pd.to_datetime(df.DateTime)\n",
    "df['month'] = df.DateTime.dt.month.astype('category')\n",
    "df['weekday'] = df.DateTime.dt.weekday.astype('category')\n",
    "df['hour'] = df.DateTime.dt.hour.astype('category')\n",
    "sns.countplot(x='OutcomeType', data=df, hue='month')"
   ]
  },
  {
   "cell_type": "code",
   "execution_count": 15,
   "metadata": {
    "collapsed": false
   },
   "outputs": [
    {
     "data": {
      "text/plain": [
       "<matplotlib.axes._subplots.AxesSubplot at 0xc9176a0>"
      ]
     },
     "execution_count": 15,
     "metadata": {},
     "output_type": "execute_result"
    },
    {
     "data": {
      "image/png": "[encoded data removed]",
      "text/plain": [
       "<matplotlib.figure.Figure at 0xc73e8d0>"
      ]
     },
     "metadata": {},
     "output_type": "display_data"
    }
   ],
   "source": [
    "sns.countplot(x='OutcomeType', data=df, hue='weekday')"
   ]
  },
  {
   "cell_type": "code",
   "execution_count": 16,
   "metadata": {
    "collapsed": false
   },
   "outputs": [
    {
     "data": {
      "text/plain": [
       "<matplotlib.axes._subplots.AxesSubplot at 0xe43e2e8>"
      ]
     },
     "execution_count": 16,
     "metadata": {},
     "output_type": "execute_result"
    },
    {
     "data": {
      "image/png": "[encoded data removed]",
      "text/plain": [
       "<matplotlib.figure.Figure at 0xca1c400>"
      ]
     },
     "metadata": {},
     "output_type": "display_data"
    }
   ],
   "source": [
    "sns.countplot(x='OutcomeType', data=df, hue='hour')"
   ]
  },
  {
   "cell_type": "code",
   "execution_count": 17,
   "metadata": {
    "collapsed": false
   },
   "outputs": [
    {
     "name": "stdout",
     "output_type": "stream",
     "text": [
      "['Brown' 'Cream Tabby' 'Blue' 'Blue Cream' 'Tan' 'Black' 'Blue Tabby'\n",
      " 'Brown Tabby' 'Red' 'White' 'Silver' 'Orange Tabby' 'Brown Brindle'\n",
      " 'Chocolate' 'Calico' 'Torbie' 'Yellow' 'Tricolor' 'Tortie' 'Gray' 'Buff'\n",
      " 'Seal Point' 'Yellow Brindle' 'Fawn' 'Flame Point' 'Black Tabby'\n",
      " 'Red Tick' 'Blue Merle' 'Sable' 'Brown Merle' 'Brown Tiger' 'Liver'\n",
      " 'Cream' 'Blue Point' 'Apricot' 'Red Merle' 'Lynx Point' 'Lilac Point'\n",
      " 'Tortie Point' 'Gray Tabby' 'Blue Tiger' 'Gold' 'Blue Tick' 'Black Smoke'\n",
      " 'Calico Point' 'Black Brindle' 'Silver Tabby' 'Orange' 'Chocolate Point'\n",
      " 'Agouti' 'Blue Smoke' 'Liver Tick' 'Pink' 'Silver Lynx Point' 'Ruddy'\n",
      " 'Black Tiger' 'Orange Tiger']\n",
      "['White' None 'Tan' 'Red' 'Cream' 'Brown' 'Black' 'Calico' 'Brown Brindle'\n",
      " 'Gray' 'Silver' 'Cream Tabby' 'Blue Tabby' 'Brown Tabby' 'Red Tick' 'Blue'\n",
      " 'Orange Tabby' 'Tricolor' 'Orange' 'Blue Tiger' 'Lynx Point' 'Buff'\n",
      " 'Chocolate Point' 'Liver' 'Gold' 'Black Brindle' 'Blue Merle' 'Blue Tick'\n",
      " 'Chocolate' 'Blue Cream' 'Black Tabby' 'Silver Tabby' 'Brown Tiger'\n",
      " 'Apricot' 'Brown Merle' 'Red Merle' 'Black Smoke' 'Tortie' 'Yellow'\n",
      " 'Yellow Brindle' 'Blue Smoke' 'Pink' 'Gray Tabby' 'Flame Point'\n",
      " 'Seal Point']\n"
     ]
    }
   ],
   "source": [
    "color_split = df.Color.str.split('/', expand=True)\n",
    "df['color_1'] = color_split[0]\n",
    "print(df.color_1.unique())\n",
    "df['color_2'] = color_split[1]\n",
    "print(df.color_2.unique())"
   ]
  },
  {
   "cell_type": "code",
   "execution_count": 18,
   "metadata": {
    "collapsed": false
   },
   "outputs": [
    {
     "name": "stdout",
     "output_type": "stream",
     "text": [
      "Domestic Shorthair Mix       8810\n",
      "Pit Bull Mix                 1906\n",
      "Chihuahua Shorthair Mix      1766\n",
      "Labrador Retriever Mix       1363\n",
      "Domestic Medium Hair Mix      839\n",
      "German Shepherd Mix           575\n",
      "Domestic Longhair Mix         520\n",
      "Siamese Mix                   389\n",
      "Australian Cattle Dog Mix     367\n",
      "Dachshund Mix                 318\n",
      "Name: Breed, dtype: int64\n",
      "---------\n",
      "Domestic Shorthair       8953\n",
      "Pit Bull                 1972\n",
      "Chihuahua Shorthair      1851\n",
      "Labrador Retriever       1432\n",
      "Domestic Medium Hair      881\n",
      "German Shepherd           652\n",
      "Domestic Longhair         543\n",
      "Siamese                   413\n",
      "Australian Cattle Dog     392\n",
      "Dachshund                 364\n",
      "Name: Breed, dtype: int64\n",
      "\n",
      "\n",
      "1380\n",
      "1244\n"
     ]
    }
   ],
   "source": [
    "print(df.Breed.value_counts()[:10])\n",
    "print('---------')\n",
    "print(df.Breed.str.replace(' Mix', '').value_counts()[:10])\n",
    "print()\n",
    "print()\n",
    "print(len(df.Breed.value_counts()))\n",
    "print(len(df.Breed.str.replace(' Mix', '').value_counts()))\n",
    "df.Breed.value_counts()\n",
    "df['breed_rarity']=  pd.cut(df.Breed.value_counts(), 5, include_lowest=True, labels=['super rare', 'rare', 'comon', 'very comon', 'very very common' ])"
   ]
  },
  {
   "cell_type": "code",
   "execution_count": 19,
   "metadata": {
    "collapsed": false
   },
   "outputs": [
    {
     "name": "stdout",
     "output_type": "stream",
     "text": [
      "<class 'pandas.core.frame.DataFrame'>\n",
      "RangeIndex: 26729 entries, 0 to 26728\n",
      "Data columns (total 157 columns):\n",
      "age_in_days                      26711 non-null float64\n",
      "age_in_years                     26711 non-null float64\n",
      "age_in_months                    26711 non-null float64\n",
      "has_name                         26729 non-null bool\n",
      "pure_breed                       26729 non-null bool\n",
      "condition_intact                 26729 non-null float64\n",
      "condition_operated               26729 non-null float64\n",
      "condition_unknown                26729 non-null float64\n",
      "sex_Female                       26729 non-null float64\n",
      "sex_Male                         26729 non-null float64\n",
      "AnimalType_Cat                   26729 non-null float64\n",
      "AnimalType_Dog                   26729 non-null float64\n",
      "color_1_Agouti                   26729 non-null float64\n",
      "color_1_Apricot                  26729 non-null float64\n",
      "color_1_Black                    26729 non-null float64\n",
      "color_1_Black Brindle            26729 non-null float64\n",
      "color_1_Black Smoke              26729 non-null float64\n",
      "color_1_Black Tabby              26729 non-null float64\n",
      "color_1_Black Tiger              26729 non-null float64\n",
      "color_1_Blue                     26729 non-null float64\n",
      "color_1_Blue Cream               26729 non-null float64\n",
      "color_1_Blue Merle               26729 non-null float64\n",
      "color_1_Blue Point               26729 non-null float64\n",
      "color_1_Blue Smoke               26729 non-null float64\n",
      "color_1_Blue Tabby               26729 non-null float64\n",
      "color_1_Blue Tick                26729 non-null float64\n",
      "color_1_Blue Tiger               26729 non-null float64\n",
      "color_1_Brown                    26729 non-null float64\n",
      "color_1_Brown Brindle            26729 non-null float64\n",
      "color_1_Brown Merle              26729 non-null float64\n",
      "color_1_Brown Tabby              26729 non-null float64\n",
      "color_1_Brown Tiger              26729 non-null float64\n",
      "color_1_Buff                     26729 non-null float64\n",
      "color_1_Calico                   26729 non-null float64\n",
      "color_1_Calico Point             26729 non-null float64\n",
      "color_1_Chocolate                26729 non-null float64\n",
      "color_1_Chocolate Point          26729 non-null float64\n",
      "color_1_Cream                    26729 non-null float64\n",
      "color_1_Cream Tabby              26729 non-null float64\n",
      "color_1_Fawn                     26729 non-null float64\n",
      "color_1_Flame Point              26729 non-null float64\n",
      "color_1_Gold                     26729 non-null float64\n",
      "color_1_Gray                     26729 non-null float64\n",
      "color_1_Gray Tabby               26729 non-null float64\n",
      "color_1_Lilac Point              26729 non-null float64\n",
      "color_1_Liver                    26729 non-null float64\n",
      "color_1_Liver Tick               26729 non-null float64\n",
      "color_1_Lynx Point               26729 non-null float64\n",
      "color_1_Orange                   26729 non-null float64\n",
      "color_1_Orange Tabby             26729 non-null float64\n",
      "color_1_Orange Tiger             26729 non-null float64\n",
      "color_1_Pink                     26729 non-null float64\n",
      "color_1_Red                      26729 non-null float64\n",
      "color_1_Red Merle                26729 non-null float64\n",
      "color_1_Red Tick                 26729 non-null float64\n",
      "color_1_Ruddy                    26729 non-null float64\n",
      "color_1_Sable                    26729 non-null float64\n",
      "color_1_Seal Point               26729 non-null float64\n",
      "color_1_Silver                   26729 non-null float64\n",
      "color_1_Silver Lynx Point        26729 non-null float64\n",
      "color_1_Silver Tabby             26729 non-null float64\n",
      "color_1_Tan                      26729 non-null float64\n",
      "color_1_Torbie                   26729 non-null float64\n",
      "color_1_Tortie                   26729 non-null float64\n",
      "color_1_Tortie Point             26729 non-null float64\n",
      "color_1_Tricolor                 26729 non-null float64\n",
      "color_1_White                    26729 non-null float64\n",
      "color_1_Yellow                   26729 non-null float64\n",
      "color_1_Yellow Brindle           26729 non-null float64\n",
      "color_2_Apricot                  26729 non-null float64\n",
      "color_2_Black                    26729 non-null float64\n",
      "color_2_Black Brindle            26729 non-null float64\n",
      "color_2_Black Smoke              26729 non-null float64\n",
      "color_2_Black Tabby              26729 non-null float64\n",
      "color_2_Blue                     26729 non-null float64\n",
      "color_2_Blue Cream               26729 non-null float64\n",
      "color_2_Blue Merle               26729 non-null float64\n",
      "color_2_Blue Smoke               26729 non-null float64\n",
      "color_2_Blue Tabby               26729 non-null float64\n",
      "color_2_Blue Tick                26729 non-null float64\n",
      "color_2_Blue Tiger               26729 non-null float64\n",
      "color_2_Brown                    26729 non-null float64\n",
      "color_2_Brown Brindle            26729 non-null float64\n",
      "color_2_Brown Merle              26729 non-null float64\n",
      "color_2_Brown Tabby              26729 non-null float64\n",
      "color_2_Brown Tiger              26729 non-null float64\n",
      "color_2_Buff                     26729 non-null float64\n",
      "color_2_Calico                   26729 non-null float64\n",
      "color_2_Chocolate                26729 non-null float64\n",
      "color_2_Chocolate Point          26729 non-null float64\n",
      "color_2_Cream                    26729 non-null float64\n",
      "color_2_Cream Tabby              26729 non-null float64\n",
      "color_2_Flame Point              26729 non-null float64\n",
      "color_2_Gold                     26729 non-null float64\n",
      "color_2_Gray                     26729 non-null float64\n",
      "color_2_Gray Tabby               26729 non-null float64\n",
      "color_2_Liver                    26729 non-null float64\n",
      "color_2_Lynx Point               26729 non-null float64\n",
      "color_2_Orange                   26729 non-null float64\n",
      "color_2_Orange Tabby             26729 non-null float64\n",
      "color_2_Pink                     26729 non-null float64\n",
      "color_2_Red                      26729 non-null float64\n",
      "color_2_Red Merle                26729 non-null float64\n",
      "color_2_Red Tick                 26729 non-null float64\n",
      "color_2_Seal Point               26729 non-null float64\n",
      "color_2_Silver                   26729 non-null float64\n",
      "color_2_Silver Tabby             26729 non-null float64\n",
      "color_2_Tan                      26729 non-null float64\n",
      "color_2_Tortie                   26729 non-null float64\n",
      "color_2_Tricolor                 26729 non-null float64\n",
      "color_2_White                    26729 non-null float64\n",
      "color_2_Yellow                   26729 non-null float64\n",
      "color_2_Yellow Brindle           26729 non-null float64\n",
      "breed_rarity_super rare          26729 non-null float64\n",
      "breed_rarity_rare                26729 non-null float64\n",
      "breed_rarity_comon               26729 non-null float64\n",
      "breed_rarity_very comon          26729 non-null float64\n",
      "breed_rarity_very very common    26729 non-null float64\n",
      "hour_0                           26729 non-null float64\n",
      "hour_5                           26729 non-null float64\n",
      "hour_6                           26729 non-null float64\n",
      "hour_7                           26729 non-null float64\n",
      "hour_8                           26729 non-null float64\n",
      "hour_9                           26729 non-null float64\n",
      "hour_10                          26729 non-null float64\n",
      "hour_11                          26729 non-null float64\n",
      "hour_12                          26729 non-null float64\n",
      "hour_13                          26729 non-null float64\n",
      "hour_14                          26729 non-null float64\n",
      "hour_15                          26729 non-null float64\n",
      "hour_16                          26729 non-null float64\n",
      "hour_17                          26729 non-null float64\n",
      "hour_18                          26729 non-null float64\n",
      "hour_19                          26729 non-null float64\n",
      "hour_20                          26729 non-null float64\n",
      "hour_21                          26729 non-null float64\n",
      "hour_22                          26729 non-null float64\n",
      "hour_23                          26729 non-null float64\n",
      "weekday_0                        26729 non-null float64\n",
      "weekday_1                        26729 non-null float64\n",
      "weekday_2                        26729 non-null float64\n",
      "weekday_3                        26729 non-null float64\n",
      "weekday_4                        26729 non-null float64\n",
      "weekday_5                        26729 non-null float64\n",
      "weekday_6                        26729 non-null float64\n",
      "month_1                          26729 non-null float64\n",
      "month_2                          26729 non-null float64\n",
      "month_3                          26729 non-null float64\n",
      "month_4                          26729 non-null float64\n",
      "month_5                          26729 non-null float64\n",
      "month_6                          26729 non-null float64\n",
      "month_7                          26729 non-null float64\n",
      "month_8                          26729 non-null float64\n",
      "month_9                          26729 non-null float64\n",
      "month_10                         26729 non-null float64\n",
      "month_11                         26729 non-null float64\n",
      "month_12                         26729 non-null float64\n",
      "dtypes: bool(2), float64(155)\n",
      "memory usage: 31.7 MB\n"
     ]
    }
   ],
   "source": [
    "y = df['OutcomeType']\n",
    "x = df[['age_in_days', 'age_in_years', 'age_in_months', 'condition', 'sex','AnimalType', 'has_name', 'color_1', 'color_2', 'pure_breed', 'breed_rarity', 'hour', 'weekday', 'month']]\n",
    "x = pd.get_dummies(x)\n",
    "x.info(null_counts=True, memory_usage='deep', verbose=True)"
   ]
  },
  {
   "cell_type": "markdown",
   "metadata": {},
   "source": [
    "Age in days has some null values. Lets fix it."
   ]
  },
  {
   "cell_type": "code",
   "execution_count": 20,
   "metadata": {
    "collapsed": false
   },
   "outputs": [
    {
     "name": "stdout",
     "output_type": "stream",
     "text": [
      "(26711, 159)\n",
      "(26711,)\n"
     ]
    }
   ],
   "source": [
    "df2 = df[['OutcomeType', 'age_in_days','age_in_years', 'age_in_months', 'condition', 'sex','AnimalType', 'has_name', 'color_1', 'color_2', 'pure_breed', 'breed_rarity', 'hour', 'weekday', 'month']]\n",
    "df2 = pd.get_dummies(df2.reindex(), columns=['condition', 'sex','AnimalType', 'has_name', 'color_1', 'color_2', 'pure_breed', 'breed_rarity', 'hour', 'weekday', 'month'])\n",
    "df2.dropna(axis=0, inplace=True)\n",
    "y = df2['OutcomeType']\n",
    "x = df2.drop('OutcomeType', axis=1)\n",
    "print(x.shape)\n",
    "print(y.shape)"
   ]
  },
  {
   "cell_type": "code",
   "execution_count": 21,
   "metadata": {
    "collapsed": false
   },
   "outputs": [
    {
     "name": "stdout",
     "output_type": "stream",
     "text": [
      "0.193884643713\n"
     ]
    }
   ],
   "source": [
    "rf = RandomForestClassifier()\n",
    "rf.fit(x, y)\n",
    "\n",
    "y_pred = rf.predict_proba(x)\n",
    "print(log_loss(y, y_pred))"
   ]
  },
  {
   "cell_type": "code",
   "execution_count": 22,
   "metadata": {
    "collapsed": false
   },
   "outputs": [
    {
     "name": "stdout",
     "output_type": "stream",
     "text": [
      "Top features\n",
      "0.078 age_in_days\n",
      "0.074 condition_operated\n",
      "0.070 age_in_months\n",
      "0.062 age_in_years\n",
      "0.045 condition_intact\n",
      "0.033 has_name_False\n",
      "0.025 color_2_White\n",
      "0.019 color_1_Black\n",
      "0.015 AnimalType_Cat\n",
      "0.014 hour_18\n",
      "\n",
      "Botton features\n",
      "0.00003 color_2_Blue Smoke\n",
      "0.00003 color_1_Orange Tiger\n",
      "0.00003 color_1_Agouti\n",
      "0.00002 hour_5\n",
      "0.00001 color_1_Silver Lynx Point\n",
      "0.00001 color_2_Brown Tiger\n",
      "0.00001 color_2_Seal Point\n",
      "0.00000 color_1_Pink\n",
      "0.00000 color_2_Lynx Point\n",
      "0.00000 color_2_Chocolate Point\n",
      "0.00000 color_2_Silver Tabby\n",
      "0.00000 color_2_Flame Point\n",
      "0.00000 color_2_Blue Tiger\n",
      "0.00000 color_2_Black Tabby\n",
      "0.00000 color_1_Ruddy\n",
      "0.00000 breed_rarity_very very common\n",
      "0.00000 breed_rarity_very comon\n",
      "0.00000 breed_rarity_super rare\n",
      "0.00000 breed_rarity_rare\n",
      "0.00000 breed_rarity_comon\n"
     ]
    }
   ],
   "source": [
    "print('Top features')\n",
    "for score, feat in sorted(zip(rf.feature_importances_, x.columns), reverse=True)[:10]:\n",
    "    print('{:.3f} {}'.format(score,feat))\n",
    "print()    \n",
    "print('Botton features')\n",
    "for score, feat in sorted(zip(rf.feature_importances_, x.columns), reverse=True)[-20:]:\n",
    "    print('{:.5f} {}'.format(score,feat))"
   ]
  },
  {
   "cell_type": "markdown",
   "metadata": {},
   "source": [
    "So age in days is really important... What if we bin it?\n",
    " \n",
    "Also breed_rarity didn't help a bit. So lets remove it."
   ]
  },
  {
   "cell_type": "code",
   "execution_count": 23,
   "metadata": {
    "collapsed": false
   },
   "outputs": [
    {
     "name": "stdout",
     "output_type": "stream",
     "text": [
      "(26729, 161)\n",
      "(26729,)\n",
      "0.201278615276\n"
     ]
    }
   ],
   "source": [
    "df['age_bined'] =  pd.cut(df.age_in_days, 10, include_lowest=True)\n",
    "\n",
    "df2 = df[['age_bined', 'OutcomeType', 'condition', 'sex','AnimalType', 'has_name', 'color_1', 'color_2', 'pure_breed', 'hour', 'weekday', 'month']]\n",
    "df2 = pd.get_dummies(df2.reindex(), columns=['age_bined', 'condition', 'sex','AnimalType', 'has_name', 'color_1', 'color_2', 'pure_breed', 'hour', 'weekday', 'month'])\n",
    "df2.dropna(axis=0, inplace=True)\n",
    "y = df2['OutcomeType']\n",
    "x = df2.drop('OutcomeType', axis=1)\n",
    "\n",
    "print(x.shape)\n",
    "print(y.shape)\n",
    "\n",
    "rf = RandomForestClassifier(n_estimators=30, max_depth=None)\n",
    "rf.fit(x, y)\n",
    "y_pred = rf.predict_proba(x)\n",
    "print(log_loss(y, y_pred))"
   ]
  },
  {
   "cell_type": "code",
   "execution_count": 24,
   "metadata": {
    "collapsed": false
   },
   "outputs": [
    {
     "name": "stdout",
     "output_type": "stream",
     "text": [
      "Top features\n",
      "0.103 condition_operated\n",
      "0.039 condition_intact\n",
      "0.032 has_name_True\n",
      "0.031 color_2_White\n",
      "0.030 age_bined_[-7.3, 730]\n",
      "0.024 color_1_Black\n",
      "0.019 has_name_False\n",
      "0.017 AnimalType_Dog\n",
      "0.017 weekday_0\n",
      "0.017 month_12\n",
      "\n",
      "Botton features\n",
      "0.00003 color_2_Lynx Point\n",
      "0.00001 hour_5\n",
      "0.00001 color_1_Silver Lynx Point\n",
      "0.00001 color_2_Black Tabby\n",
      "0.00001 color_2_Brown Tiger\n",
      "0.00000 color_1_Ruddy\n",
      "0.00000 color_1_Pink\n",
      "0.00000 color_2_Flame Point\n",
      "0.00000 color_2_Silver Tabby\n",
      "0.00000 color_2_Chocolate Point\n"
     ]
    }
   ],
   "source": [
    "print('Top features')\n",
    "for score, feat in sorted(zip(rf.feature_importances_, x.columns), reverse=True)[:10]:\n",
    "    print('{:.3f} {}'.format(score,feat))\n",
    "print()    \n",
    "print('Botton features')\n",
    "for score, feat in sorted(zip(rf.feature_importances_, x.columns), reverse=True)[-10:]:\n",
    "    print('{:.5f} {}'.format(score,feat))"
   ]
  },
  {
   "cell_type": "markdown",
   "metadata": {},
   "source": [
    "So... binning the age didn't help a bit... Lets keep the age_in_days.\n",
    " \n",
    "We can try using the breed information to augment the dataset, but its too large (lots of different values).\n",
    "We can use it, but first we have to reduce the number of feature (columns) using PCA."
   ]
  },
  {
   "cell_type": "code",
   "execution_count": 43,
   "metadata": {
    "collapsed": false
   },
   "outputs": [
    {
     "name": "stdout",
     "output_type": "stream",
     "text": [
      "(26729, 20)\n",
      "0.655449131895\n"
     ]
    }
   ],
   "source": [
    "pca = PCA(20)\n",
    "breed = pca.fit_transform(pd.get_dummies(df['Breed']))\n",
    "print(breed.shape)\n",
    "print(np.sum(pca.explained_variance_ratio_))\n",
    "\n",
    "breed = pd.DataFrame(breed, columns=['breed_' + str(i) for i in range(breed.shape[1]) ])"
   ]
  },
  {
   "cell_type": "code",
   "execution_count": 44,
   "metadata": {
    "collapsed": false
   },
   "outputs": [
    {
     "name": "stdout",
     "output_type": "stream",
     "text": [
      "0.187293431672\n"
     ]
    }
   ],
   "source": [
    "#df2 = df[['age_in_days', 'age_in_years', 'age_in_months', 'OutcomeType', 'condition', 'sex','AnimalType', 'has_name', 'color_1', 'color_2', 'pure_breed', 'hour', 'weekday', 'month']]\n",
    "df2 = df[['age_in_years', 'OutcomeType', 'condition', 'sex','AnimalType', 'has_name', 'color_1', 'color_2', 'pure_breed', 'hour', 'weekday', 'month']]\n",
    "df2 = pd.get_dummies(df2.reindex(), columns=['condition', 'sex','AnimalType', 'has_name', 'color_1', 'color_2', 'pure_breed', 'hour', 'weekday', 'month'])\n",
    "df2 = pd.concat((df2, breed), axis=1)\n",
    "\n",
    "df2.dropna(axis=0, inplace=True)\n",
    "y = df2['OutcomeType']\n",
    "x = df2.drop('OutcomeType', axis=1)\n",
    "\n",
    "rf = RandomForestClassifier(n_estimators=30, max_depth=None)\n",
    "rf.fit(x, y)\n",
    "y_pred = rf.predict_proba(x)\n",
    "print(log_loss(y, y_pred))"
   ]
  },
  {
   "cell_type": "code",
   "execution_count": 45,
   "metadata": {
    "collapsed": false
   },
   "outputs": [
    {
     "name": "stdout",
     "output_type": "stream",
     "text": [
      "Top features\n",
      "0.136 age_in_years\n",
      "0.061 condition_operated\n",
      "0.053 condition_intact\n",
      "0.025 has_name_False\n",
      "0.023 has_name_True\n",
      "0.020 color_2_White\n",
      "0.016 color_1_Black\n",
      "0.015 hour_17\n",
      "0.015 sex_Male\n",
      "0.015 sex_Female\n",
      "\n",
      "Botton features\n",
      "0.00002 color_2_Seal Point\n",
      "0.00001 color_2_Black Tabby\n",
      "0.00001 color_1_Silver Lynx Point\n",
      "0.00001 hour_5\n",
      "0.00000 color_2_Flame Point\n",
      "0.00000 color_2_Chocolate Point\n",
      "0.00000 color_1_Ruddy\n",
      "0.00000 color_1_Pink\n",
      "0.00000 color_2_Silver Tabby\n",
      "0.00000 color_2_Brown Tiger\n"
     ]
    }
   ],
   "source": [
    "print('Top features')\n",
    "for score, feat in sorted(zip(rf.feature_importances_, x.columns), reverse=True)[:10]:\n",
    "    print('{:.3f} {}'.format(score,feat))\n",
    "print()    \n",
    "print('Botton features')\n",
    "for score, feat in sorted(zip(rf.feature_importances_, x.columns), reverse=True)[-10:]:\n",
    "    print('{:.5f} {}'.format(score,feat))"
   ]
  },
  {
   "cell_type": "markdown",
   "metadata": {},
   "source": [
    "While not among the top 10 features, obviously the breed of the animal helped a bit\n",
    " \n",
    "Lets see how our model behaves on unseen data. To do it we will do crossvalidation"
   ]
  },
  {
   "cell_type": "code",
   "execution_count": 46,
   "metadata": {
    "collapsed": false
   },
   "outputs": [
    {
     "data": {
      "text/plain": [
       "array([-2.58825271, -2.52017498, -2.47778593])"
      ]
     },
     "execution_count": 46,
     "metadata": {},
     "output_type": "execute_result"
    }
   ],
   "source": [
    "cross_val_score(RandomForestClassifier(), x, y , cv =3, scoring='log_loss')"
   ]
  },
  {
   "cell_type": "markdown",
   "metadata": {},
   "source": [
    "eek! This is bad! The predictions are really BAD. But on the training set all was good... This indicates a problem of overfitting: the model understands the training really well but can't generalize to unseen problems.\n",
    "When dealing with trees one way to overcome this is to control the max_depth of the tree. Lets see how this influences the predictions."
   ]
  },
  {
   "cell_type": "code",
   "execution_count": 47,
   "metadata": {
    "collapsed": false
   },
   "outputs": [
    {
     "data": {
      "image/png": "[encoded data removed]",
      "text/plain": [
       "<matplotlib.figure.Figure at 0xe91a9b0>"
      ]
     },
     "metadata": {},
     "output_type": "display_data"
    }
   ],
   "source": [
    "X_train, X_test, y_train,  y_test = train_test_split(x, y)\n",
    "depth = list(range(1, 30, 2))\n",
    "test_score = []\n",
    "train_score = []\n",
    "for d in depth:\n",
    "    rfc = RandomForestClassifier(max_depth=d)\n",
    "    rfc.fit(X_train, y_train)\n",
    "    train_score.append(log_loss(y_train, rfc.predict_proba(X_train)))\n",
    "    test_score.append(log_loss(y_test, rfc.predict_proba(X_test)))\n",
    "\n",
    "ax = sns.pointplot(depth, train_score, color='red')\n",
    "ax = sns.pointplot(depth, test_score, color='blue')"
   ]
  },
  {
   "cell_type": "markdown",
   "metadata": {},
   "source": [
    "Thats the problem! The depth plays an important role here. Until depth is 9-10 all is good and is helps lower the training scores (a bit), but when we go above 13 the test results start increasing REALLY fast. So lets keep the depth at check with a value of 10.\n",
    "\n",
    "As our data is also very unbalanced (very few animals die), we might take a look at the min_samples_leaf variable on RandomForests as well (this contrl how many itens must be at the leaf)."
   ]
  },
  {
   "cell_type": "code",
   "execution_count": 53,
   "metadata": {
    "collapsed": false
   },
   "outputs": [
    {
     "data": {
      "image/png": "[encoded data removed]",
      "text/plain": [
       "<matplotlib.figure.Figure at 0xe59e470>"
      ]
     },
     "metadata": {},
     "output_type": "display_data"
    }
   ],
   "source": [
    "min_samples_leaf = list(range(1, 50, 2))\n",
    "test_score = []\n",
    "train_score = []\n",
    "for m in min_samples_leaf:\n",
    "    rfc = RandomForestClassifier(max_depth=10, min_samples_leaf= m, random_state=42)\n",
    "    rfc.fit(X_train, y_train)\n",
    "    train_score.append(log_loss(y_train, rfc.predict_proba(X_train)))\n",
    "    test_score.append(log_loss(y_test, rfc.predict_proba(X_test)))\n",
    "\n",
    "ax = sns.pointplot(min_samples_leaf, train_score, color='red')\n",
    "ax = sns.pointplot(min_samples_leaf, test_score, color='blue')"
   ]
  },
  {
   "cell_type": "code",
   "execution_count": 54,
   "metadata": {
    "collapsed": false
   },
   "outputs": [
    {
     "data": {
      "image/png": "[encoded data removed]",
      "text/plain": [
       "<matplotlib.figure.Figure at 0x110c9e10>"
      ]
     },
     "metadata": {},
     "output_type": "display_data"
    }
   ],
   "source": [
    "estimators = list(range(10, 80, 10))\n",
    "test_score = []\n",
    "train_score = []\n",
    "for e in estimators:\n",
    "    rfc = RandomForestClassifier(max_depth=15, min_samples_leaf=1, random_state=42, n_estimators=e)\n",
    "    rfc.fit(X_train, y_train)\n",
    "    train_score.append(log_loss(y_train, rfc.predict_proba(X_train)))\n",
    "    test_score.append(log_loss(y_test, rfc.predict_proba(X_test)))\n",
    "\n",
    "ax = sns.pointplot(estimators, train_score, color='red')\n",
    "ax = sns.pointplot(estimators, test_score, color='blue')"
   ]
  },
  {
   "cell_type": "markdown",
   "metadata": {},
   "source": [
    "So, above 40 trees we don't see much improvement? But maybe, now that we have more trees some of the other parameters can be changed. While we could go back and check max_depth and min_samples_leaf with the new values there is a better way: grid search with cross validation."
   ]
  },
  {
   "cell_type": "code",
   "execution_count": 62,
   "metadata": {
    "collapsed": false
   },
   "outputs": [
    {
     "data": {
      "text/plain": [
       "array([-0.93823668, -0.94222852, -0.93461056])"
      ]
     },
     "execution_count": 62,
     "metadata": {},
     "output_type": "execute_result"
    }
   ],
   "source": [
    "df.age_in_days = df.age_in_days.astype('category')\n",
    "df2 = df[['age_in_days', 'OutcomeType', 'condition', 'sex','AnimalType', 'has_name', 'color_1', 'color_2', 'pure_breed', 'hour', 'weekday', 'month']]\n",
    "df2 = pd.get_dummies(df2.reindex(), columns=['condition', 'sex', 'AnimalType', 'has_name', 'color_1', 'color_2', 'pure_breed', 'hour', 'weekday', 'month'])\n",
    "df2 = pd.concat((df2, breed), axis=1)\n",
    "\n",
    "df2.dropna(axis=0, inplace=True)\n",
    "y = df2['OutcomeType']\n",
    "x = df2.drop('OutcomeType', axis=1)\n",
    "\n",
    "cross_val_score(RandomForestClassifier(max_depth=10, n_estimators=100), x, y , cv=3, scoring='log_loss')"
   ]
  },
  {
   "cell_type": "code",
   "execution_count": 71,
   "metadata": {
    "collapsed": false
   },
   "outputs": [
    {
     "name": "stdout",
     "output_type": "stream",
     "text": [
      "Fitting 3 folds for each of 90 candidates, totalling 270 fits\n",
      "[CV] n_estimators=10, max_depth=2, min_samples_leaf=1 ................\n",
      "[CV]  n_estimators=10, max_depth=2, min_samples_leaf=1, score=-1.144132 -   1.1s\n",
      "[CV] n_estimators=10, max_depth=2, min_samples_leaf=1 ................\n",
      "[CV]  n_estimators=10, max_depth=2, min_samples_leaf=1, score=-1.109530 -   1.1s\n",
      "[CV] n_estimators=10, max_depth=2, min_samples_leaf=1 ................\n",
      "[CV]  n_estimators=10, max_depth=2, min_samples_leaf=1, score=-1.109571 -   1.1s\n",
      "[CV] n_estimators=32, max_depth=2, min_samples_leaf=1 ................\n",
      "[CV]  n_estimators=32, max_depth=2, min_samples_leaf=1, score=-1.129368 -   1.3s\n",
      "[CV] n_estimators=32, max_depth=2, min_samples_leaf=1 ................\n",
      "[CV]  n_estimators=32, max_depth=2, min_samples_leaf=1, score=-1.110777 -   1.4s\n",
      "[CV] n_estimators=32, max_depth=2, min_samples_leaf=1 ................\n",
      "[CV]  n_estimators=32, max_depth=2, min_samples_leaf=1, score=-1.112599 -   1.4s\n",
      "[CV] n_estimators=55, max_depth=2, min_samples_leaf=1 ................\n",
      "[CV]  n_estimators=55, max_depth=2, min_samples_leaf=1, score=-1.103088 -   1.7s\n",
      "[CV] n_estimators=55, max_depth=2, min_samples_leaf=1 ................\n",
      "[CV]  n_estimators=55, max_depth=2, min_samples_leaf=1, score=-1.120308 -   1.8s\n",
      "[CV] n_estimators=55, max_depth=2, min_samples_leaf=1 ................\n",
      "[CV]  n_estimators=55, max_depth=2, min_samples_leaf=1, score=-1.128104 -   1.8s\n",
      "[CV] n_estimators=77, max_depth=2, min_samples_leaf=1 ................\n",
      "[CV]  n_estimators=77, max_depth=2, min_samples_leaf=1, score=-1.121739 -   2.0s\n",
      "[CV] n_estimators=77, max_depth=2, min_samples_leaf=1 ................\n",
      "[CV]  n_estimators=77, max_depth=2, min_samples_leaf=1, score=-1.123943 -   2.1s\n",
      "[CV] n_estimators=77, max_depth=2, min_samples_leaf=1 ................\n",
      "[CV]  n_estimators=77, max_depth=2, min_samples_leaf=1, score=-1.111928 -   2.1s\n",
      "[CV] n_estimators=100, max_depth=2, min_samples_leaf=1 ...............\n",
      "[CV]  n_estimators=100, max_depth=2, min_samples_leaf=1, score=-1.124908 -   2.3s\n",
      "[CV] n_estimators=100, max_depth=2, min_samples_leaf=1 ...............\n",
      "[CV]  n_estimators=100, max_depth=2, min_samples_leaf=1, score=-1.123026 -   2.6s\n",
      "[CV] n_estimators=100, max_depth=2, min_samples_leaf=1 ...............\n",
      "[CV]  n_estimators=100, max_depth=2, min_samples_leaf=1, score=-1.116350 -   2.6s\n",
      "[CV] n_estimators=10, max_depth=2, min_samples_leaf=8 ................\n",
      "[CV]  n_estimators=10, max_depth=2, min_samples_leaf=8, score=-1.100333 -   1.1s\n",
      "[CV] n_estimators=10, max_depth=2, min_samples_leaf=8 ................\n",
      "[CV]  n_estimators=10, max_depth=2, min_samples_leaf=8, score=-1.120653 -   1.1s\n",
      "[CV] n_estimators=10, max_depth=2, min_samples_leaf=8 ................\n",
      "[CV]  n_estimators=10, max_depth=2, min_samples_leaf=8, score=-1.111701 -   1.2s\n",
      "[CV] n_estimators=32, max_depth=2, min_samples_leaf=8 ................\n",
      "[CV]  n_estimators=32, max_depth=2, min_samples_leaf=8, score=-1.139063 -   1.4s\n",
      "[CV] n_estimators=32, max_depth=2, min_samples_leaf=8 ................\n",
      "[CV]  n_estimators=32, max_depth=2, min_samples_leaf=8, score=-1.107159 -   1.4s\n",
      "[CV] n_estimators=32, max_depth=2, min_samples_leaf=8 ................\n",
      "[CV]  n_estimators=32, max_depth=2, min_samples_leaf=8, score=-1.113686 -   1.4s\n",
      "[CV] n_estimators=55, max_depth=2, min_samples_leaf=8 ................\n",
      "[CV]  n_estimators=55, max_depth=2, min_samples_leaf=8, score=-1.117643 -   1.7s\n",
      "[CV] n_estimators=55, max_depth=2, min_samples_leaf=8 ................\n",
      "[CV]  n_estimators=55, max_depth=2, min_samples_leaf=8, score=-1.123931 -   1.8s\n",
      "[CV] n_estimators=55, max_depth=2, min_samples_leaf=8 ................\n",
      "[CV]  n_estimators=55, max_depth=2, min_samples_leaf=8, score=-1.121977 -   1.8s\n",
      "[CV] n_estimators=77, max_depth=2, min_samples_leaf=8 ................\n",
      "[CV]  n_estimators=77, max_depth=2, min_samples_leaf=8, score=-1.099857 -   2.1s\n",
      "[CV] n_estimators=77, max_depth=2, min_samples_leaf=8 ................\n",
      "[CV]  n_estimators=77, max_depth=2, min_samples_leaf=8, score=-1.130723 -   2.3s\n",
      "[CV] n_estimators=77, max_depth=2, min_samples_leaf=8 ................\n",
      "[CV]  n_estimators=77, max_depth=2, min_samples_leaf=8, score=-1.108524 -   2.4s\n",
      "[CV] n_estimators=100, max_depth=2, min_samples_leaf=8 ...............\n",
      "[CV]  n_estimators=100, max_depth=2, min_samples_leaf=8, score=-1.116167 -   2.3s\n",
      "[CV] n_estimators=100, max_depth=2, min_samples_leaf=8 ...............\n",
      "[CV]  n_estimators=100, max_depth=2, min_samples_leaf=8, score=-1.115014 -   2.5s\n",
      "[CV] n_estimators=100, max_depth=2, min_samples_leaf=8 ...............\n",
      "[CV]  n_estimators=100, max_depth=2, min_samples_leaf=8, score=-1.105498 -   2.5s\n",
      "[CV] n_estimators=10, max_depth=2, min_samples_leaf=15 ...............\n",
      "[CV]  n_estimators=10, max_depth=2, min_samples_leaf=15, score=-1.124007 -   1.1s\n",
      "[CV] n_estimators=10, max_depth=2, min_samples_leaf=15 ...............\n"
     ]
    },
    {
     "name": "stderr",
     "output_type": "stream",
     "text": [
      "[Parallel(n_jobs=1)]: Done  31 tasks       | elapsed:   57.9s\n"
     ]
    },
    {
     "ename": "KeyboardInterrupt",
     "evalue": "",
     "output_type": "error",
     "traceback": [
      "\u001b[1;31m---------------------------------------------------------------------------\u001b[0m",
      "\u001b[1;31mKeyboardInterrupt\u001b[0m                         Traceback (most recent call last)",
      "\u001b[1;32m<ipython-input-71-166e62665aa7>\u001b[0m in \u001b[0;36m<module>\u001b[1;34m()\u001b[0m\n\u001b[0;32m      5\u001b[0m }\n\u001b[0;32m      6\u001b[0m \u001b[0mgrid\u001b[0m \u001b[1;33m=\u001b[0m \u001b[0mGridSearchCV\u001b[0m\u001b[1;33m(\u001b[0m\u001b[0mRandomForestClassifier\u001b[0m\u001b[1;33m(\u001b[0m\u001b[1;33m)\u001b[0m\u001b[1;33m,\u001b[0m \u001b[0mrfc_params\u001b[0m\u001b[1;33m,\u001b[0m \u001b[0mverbose\u001b[0m\u001b[1;33m=\u001b[0m\u001b[1;36m3\u001b[0m\u001b[1;33m,\u001b[0m \u001b[0mscoring\u001b[0m\u001b[1;33m=\u001b[0m\u001b[1;34m'log_loss'\u001b[0m\u001b[1;33m,\u001b[0m \u001b[0mn_jobs\u001b[0m\u001b[1;33m=\u001b[0m\u001b[1;36m1\u001b[0m\u001b[1;33m)\u001b[0m\u001b[1;33m\u001b[0m\u001b[0m\n\u001b[1;32m----> 7\u001b[1;33m \u001b[0mgrid\u001b[0m\u001b[1;33m.\u001b[0m\u001b[0mfit\u001b[0m\u001b[1;33m(\u001b[0m\u001b[0mx\u001b[0m\u001b[1;33m,\u001b[0m \u001b[0my\u001b[0m\u001b[1;33m)\u001b[0m\u001b[1;33m\u001b[0m\u001b[0m\n\u001b[0m\u001b[0;32m      8\u001b[0m \u001b[0mprint\u001b[0m\u001b[1;33m(\u001b[0m\u001b[0mgrid\u001b[0m\u001b[1;33m.\u001b[0m\u001b[0mbest_score_\u001b[0m\u001b[1;33m)\u001b[0m\u001b[1;33m\u001b[0m\u001b[0m\n\u001b[0;32m      9\u001b[0m \u001b[0mprint\u001b[0m\u001b[1;33m(\u001b[0m\u001b[0mgrid\u001b[0m\u001b[1;33m.\u001b[0m\u001b[0mbest_params_\u001b[0m\u001b[1;33m)\u001b[0m\u001b[1;33m\u001b[0m\u001b[0m\n",
      "\u001b[1;32mC:\\Users\\ur57\\AppData\\Local\\Continuum\\Anaconda3-64\\lib\\site-packages\\sklearn\\grid_search.py\u001b[0m in \u001b[0;36mfit\u001b[1;34m(self, X, y)\u001b[0m\n\u001b[0;32m    802\u001b[0m \u001b[1;33m\u001b[0m\u001b[0m\n\u001b[0;32m    803\u001b[0m         \"\"\"\n\u001b[1;32m--> 804\u001b[1;33m         \u001b[1;32mreturn\u001b[0m \u001b[0mself\u001b[0m\u001b[1;33m.\u001b[0m\u001b[0m_fit\u001b[0m\u001b[1;33m(\u001b[0m\u001b[0mX\u001b[0m\u001b[1;33m,\u001b[0m \u001b[0my\u001b[0m\u001b[1;33m,\u001b[0m \u001b[0mParameterGrid\u001b[0m\u001b[1;33m(\u001b[0m\u001b[0mself\u001b[0m\u001b[1;33m.\u001b[0m\u001b[0mparam_grid\u001b[0m\u001b[1;33m)\u001b[0m\u001b[1;33m)\u001b[0m\u001b[1;33m\u001b[0m\u001b[0m\n\u001b[0m\u001b[0;32m    805\u001b[0m \u001b[1;33m\u001b[0m\u001b[0m\n\u001b[0;32m    806\u001b[0m \u001b[1;33m\u001b[0m\u001b[0m\n",
      "\u001b[1;32mC:\\Users\\ur57\\AppData\\Local\\Continuum\\Anaconda3-64\\lib\\site-packages\\sklearn\\grid_search.py\u001b[0m in \u001b[0;36m_fit\u001b[1;34m(self, X, y, parameter_iterable)\u001b[0m\n\u001b[0;32m    551\u001b[0m                                     \u001b[0mself\u001b[0m\u001b[1;33m.\u001b[0m\u001b[0mfit_params\u001b[0m\u001b[1;33m,\u001b[0m \u001b[0mreturn_parameters\u001b[0m\u001b[1;33m=\u001b[0m\u001b[1;32mTrue\u001b[0m\u001b[1;33m,\u001b[0m\u001b[1;33m\u001b[0m\u001b[0m\n\u001b[0;32m    552\u001b[0m                                     error_score=self.error_score)\n\u001b[1;32m--> 553\u001b[1;33m                 \u001b[1;32mfor\u001b[0m \u001b[0mparameters\u001b[0m \u001b[1;32min\u001b[0m \u001b[0mparameter_iterable\u001b[0m\u001b[1;33m\u001b[0m\u001b[0m\n\u001b[0m\u001b[0;32m    554\u001b[0m                 for train, test in cv)\n\u001b[0;32m    555\u001b[0m \u001b[1;33m\u001b[0m\u001b[0m\n",
      "\u001b[1;32mC:\\Users\\ur57\\AppData\\Local\\Continuum\\Anaconda3-64\\lib\\site-packages\\sklearn\\externals\\joblib\\parallel.py\u001b[0m in \u001b[0;36m__call__\u001b[1;34m(self, iterable)\u001b[0m\n\u001b[0;32m    798\u001b[0m             \u001b[1;31m# was dispatched. In particular this covers the edge\u001b[0m\u001b[1;33m\u001b[0m\u001b[1;33m\u001b[0m\u001b[0m\n\u001b[0;32m    799\u001b[0m             \u001b[1;31m# case of Parallel used with an exhausted iterator.\u001b[0m\u001b[1;33m\u001b[0m\u001b[1;33m\u001b[0m\u001b[0m\n\u001b[1;32m--> 800\u001b[1;33m             \u001b[1;32mwhile\u001b[0m \u001b[0mself\u001b[0m\u001b[1;33m.\u001b[0m\u001b[0mdispatch_one_batch\u001b[0m\u001b[1;33m(\u001b[0m\u001b[0miterator\u001b[0m\u001b[1;33m)\u001b[0m\u001b[1;33m:\u001b[0m\u001b[1;33m\u001b[0m\u001b[0m\n\u001b[0m\u001b[0;32m    801\u001b[0m                 \u001b[0mself\u001b[0m\u001b[1;33m.\u001b[0m\u001b[0m_iterating\u001b[0m \u001b[1;33m=\u001b[0m \u001b[1;32mTrue\u001b[0m\u001b[1;33m\u001b[0m\u001b[0m\n\u001b[0;32m    802\u001b[0m             \u001b[1;32melse\u001b[0m\u001b[1;33m:\u001b[0m\u001b[1;33m\u001b[0m\u001b[0m\n",
      "\u001b[1;32mC:\\Users\\ur57\\AppData\\Local\\Continuum\\Anaconda3-64\\lib\\site-packages\\sklearn\\externals\\joblib\\parallel.py\u001b[0m in \u001b[0;36mdispatch_one_batch\u001b[1;34m(self, iterator)\u001b[0m\n\u001b[0;32m    656\u001b[0m                 \u001b[1;32mreturn\u001b[0m \u001b[1;32mFalse\u001b[0m\u001b[1;33m\u001b[0m\u001b[0m\n\u001b[0;32m    657\u001b[0m             \u001b[1;32melse\u001b[0m\u001b[1;33m:\u001b[0m\u001b[1;33m\u001b[0m\u001b[0m\n\u001b[1;32m--> 658\u001b[1;33m                 \u001b[0mself\u001b[0m\u001b[1;33m.\u001b[0m\u001b[0m_dispatch\u001b[0m\u001b[1;33m(\u001b[0m\u001b[0mtasks\u001b[0m\u001b[1;33m)\u001b[0m\u001b[1;33m\u001b[0m\u001b[0m\n\u001b[0m\u001b[0;32m    659\u001b[0m                 \u001b[1;32mreturn\u001b[0m \u001b[1;32mTrue\u001b[0m\u001b[1;33m\u001b[0m\u001b[0m\n\u001b[0;32m    660\u001b[0m \u001b[1;33m\u001b[0m\u001b[0m\n",
      "\u001b[1;32mC:\\Users\\ur57\\AppData\\Local\\Continuum\\Anaconda3-64\\lib\\site-packages\\sklearn\\externals\\joblib\\parallel.py\u001b[0m in \u001b[0;36m_dispatch\u001b[1;34m(self, batch)\u001b[0m\n\u001b[0;32m    564\u001b[0m \u001b[1;33m\u001b[0m\u001b[0m\n\u001b[0;32m    565\u001b[0m         \u001b[1;32mif\u001b[0m \u001b[0mself\u001b[0m\u001b[1;33m.\u001b[0m\u001b[0m_pool\u001b[0m \u001b[1;32mis\u001b[0m \u001b[1;32mNone\u001b[0m\u001b[1;33m:\u001b[0m\u001b[1;33m\u001b[0m\u001b[0m\n\u001b[1;32m--> 566\u001b[1;33m             \u001b[0mjob\u001b[0m \u001b[1;33m=\u001b[0m \u001b[0mImmediateComputeBatch\u001b[0m\u001b[1;33m(\u001b[0m\u001b[0mbatch\u001b[0m\u001b[1;33m)\u001b[0m\u001b[1;33m\u001b[0m\u001b[0m\n\u001b[0m\u001b[0;32m    567\u001b[0m             \u001b[0mself\u001b[0m\u001b[1;33m.\u001b[0m\u001b[0m_jobs\u001b[0m\u001b[1;33m.\u001b[0m\u001b[0mappend\u001b[0m\u001b[1;33m(\u001b[0m\u001b[0mjob\u001b[0m\u001b[1;33m)\u001b[0m\u001b[1;33m\u001b[0m\u001b[0m\n\u001b[0;32m    568\u001b[0m             \u001b[0mself\u001b[0m\u001b[1;33m.\u001b[0m\u001b[0mn_dispatched_batches\u001b[0m \u001b[1;33m+=\u001b[0m \u001b[1;36m1\u001b[0m\u001b[1;33m\u001b[0m\u001b[0m\n",
      "\u001b[1;32mC:\\Users\\ur57\\AppData\\Local\\Continuum\\Anaconda3-64\\lib\\site-packages\\sklearn\\externals\\joblib\\parallel.py\u001b[0m in \u001b[0;36m__init__\u001b[1;34m(self, batch)\u001b[0m\n\u001b[0;32m    178\u001b[0m         \u001b[1;31m# Don't delay the application, to avoid keeping the input\u001b[0m\u001b[1;33m\u001b[0m\u001b[1;33m\u001b[0m\u001b[0m\n\u001b[0;32m    179\u001b[0m         \u001b[1;31m# arguments in memory\u001b[0m\u001b[1;33m\u001b[0m\u001b[1;33m\u001b[0m\u001b[0m\n\u001b[1;32m--> 180\u001b[1;33m         \u001b[0mself\u001b[0m\u001b[1;33m.\u001b[0m\u001b[0mresults\u001b[0m \u001b[1;33m=\u001b[0m \u001b[0mbatch\u001b[0m\u001b[1;33m(\u001b[0m\u001b[1;33m)\u001b[0m\u001b[1;33m\u001b[0m\u001b[0m\n\u001b[0m\u001b[0;32m    181\u001b[0m \u001b[1;33m\u001b[0m\u001b[0m\n\u001b[0;32m    182\u001b[0m     \u001b[1;32mdef\u001b[0m \u001b[0mget\u001b[0m\u001b[1;33m(\u001b[0m\u001b[0mself\u001b[0m\u001b[1;33m)\u001b[0m\u001b[1;33m:\u001b[0m\u001b[1;33m\u001b[0m\u001b[0m\n",
      "\u001b[1;32mC:\\Users\\ur57\\AppData\\Local\\Continuum\\Anaconda3-64\\lib\\site-packages\\sklearn\\externals\\joblib\\parallel.py\u001b[0m in \u001b[0;36m__call__\u001b[1;34m(self)\u001b[0m\n\u001b[0;32m     70\u001b[0m \u001b[1;33m\u001b[0m\u001b[0m\n\u001b[0;32m     71\u001b[0m     \u001b[1;32mdef\u001b[0m \u001b[0m__call__\u001b[0m\u001b[1;33m(\u001b[0m\u001b[0mself\u001b[0m\u001b[1;33m)\u001b[0m\u001b[1;33m:\u001b[0m\u001b[1;33m\u001b[0m\u001b[0m\n\u001b[1;32m---> 72\u001b[1;33m         \u001b[1;32mreturn\u001b[0m \u001b[1;33m[\u001b[0m\u001b[0mfunc\u001b[0m\u001b[1;33m(\u001b[0m\u001b[1;33m*\u001b[0m\u001b[0margs\u001b[0m\u001b[1;33m,\u001b[0m \u001b[1;33m**\u001b[0m\u001b[0mkwargs\u001b[0m\u001b[1;33m)\u001b[0m \u001b[1;32mfor\u001b[0m \u001b[0mfunc\u001b[0m\u001b[1;33m,\u001b[0m \u001b[0margs\u001b[0m\u001b[1;33m,\u001b[0m \u001b[0mkwargs\u001b[0m \u001b[1;32min\u001b[0m \u001b[0mself\u001b[0m\u001b[1;33m.\u001b[0m\u001b[0mitems\u001b[0m\u001b[1;33m]\u001b[0m\u001b[1;33m\u001b[0m\u001b[0m\n\u001b[0m\u001b[0;32m     73\u001b[0m \u001b[1;33m\u001b[0m\u001b[0m\n\u001b[0;32m     74\u001b[0m     \u001b[1;32mdef\u001b[0m \u001b[0m__len__\u001b[0m\u001b[1;33m(\u001b[0m\u001b[0mself\u001b[0m\u001b[1;33m)\u001b[0m\u001b[1;33m:\u001b[0m\u001b[1;33m\u001b[0m\u001b[0m\n",
      "\u001b[1;32mC:\\Users\\ur57\\AppData\\Local\\Continuum\\Anaconda3-64\\lib\\site-packages\\sklearn\\externals\\joblib\\parallel.py\u001b[0m in \u001b[0;36m<listcomp>\u001b[1;34m(.0)\u001b[0m\n\u001b[0;32m     70\u001b[0m \u001b[1;33m\u001b[0m\u001b[0m\n\u001b[0;32m     71\u001b[0m     \u001b[1;32mdef\u001b[0m \u001b[0m__call__\u001b[0m\u001b[1;33m(\u001b[0m\u001b[0mself\u001b[0m\u001b[1;33m)\u001b[0m\u001b[1;33m:\u001b[0m\u001b[1;33m\u001b[0m\u001b[0m\n\u001b[1;32m---> 72\u001b[1;33m         \u001b[1;32mreturn\u001b[0m \u001b[1;33m[\u001b[0m\u001b[0mfunc\u001b[0m\u001b[1;33m(\u001b[0m\u001b[1;33m*\u001b[0m\u001b[0margs\u001b[0m\u001b[1;33m,\u001b[0m \u001b[1;33m**\u001b[0m\u001b[0mkwargs\u001b[0m\u001b[1;33m)\u001b[0m \u001b[1;32mfor\u001b[0m \u001b[0mfunc\u001b[0m\u001b[1;33m,\u001b[0m \u001b[0margs\u001b[0m\u001b[1;33m,\u001b[0m \u001b[0mkwargs\u001b[0m \u001b[1;32min\u001b[0m \u001b[0mself\u001b[0m\u001b[1;33m.\u001b[0m\u001b[0mitems\u001b[0m\u001b[1;33m]\u001b[0m\u001b[1;33m\u001b[0m\u001b[0m\n\u001b[0m\u001b[0;32m     73\u001b[0m \u001b[1;33m\u001b[0m\u001b[0m\n\u001b[0;32m     74\u001b[0m     \u001b[1;32mdef\u001b[0m \u001b[0m__len__\u001b[0m\u001b[1;33m(\u001b[0m\u001b[0mself\u001b[0m\u001b[1;33m)\u001b[0m\u001b[1;33m:\u001b[0m\u001b[1;33m\u001b[0m\u001b[0m\n",
      "\u001b[1;32mC:\\Users\\ur57\\AppData\\Local\\Continuum\\Anaconda3-64\\lib\\site-packages\\sklearn\\cross_validation.py\u001b[0m in \u001b[0;36m_fit_and_score\u001b[1;34m(estimator, X, y, scorer, train, test, verbose, parameters, fit_params, return_train_score, return_parameters, error_score)\u001b[0m\n\u001b[0;32m   1529\u001b[0m             \u001b[0mestimator\u001b[0m\u001b[1;33m.\u001b[0m\u001b[0mfit\u001b[0m\u001b[1;33m(\u001b[0m\u001b[0mX_train\u001b[0m\u001b[1;33m,\u001b[0m \u001b[1;33m**\u001b[0m\u001b[0mfit_params\u001b[0m\u001b[1;33m)\u001b[0m\u001b[1;33m\u001b[0m\u001b[0m\n\u001b[0;32m   1530\u001b[0m         \u001b[1;32melse\u001b[0m\u001b[1;33m:\u001b[0m\u001b[1;33m\u001b[0m\u001b[0m\n\u001b[1;32m-> 1531\u001b[1;33m             \u001b[0mestimator\u001b[0m\u001b[1;33m.\u001b[0m\u001b[0mfit\u001b[0m\u001b[1;33m(\u001b[0m\u001b[0mX_train\u001b[0m\u001b[1;33m,\u001b[0m \u001b[0my_train\u001b[0m\u001b[1;33m,\u001b[0m \u001b[1;33m**\u001b[0m\u001b[0mfit_params\u001b[0m\u001b[1;33m)\u001b[0m\u001b[1;33m\u001b[0m\u001b[0m\n\u001b[0m\u001b[0;32m   1532\u001b[0m \u001b[1;33m\u001b[0m\u001b[0m\n\u001b[0;32m   1533\u001b[0m     \u001b[1;32mexcept\u001b[0m \u001b[0mException\u001b[0m \u001b[1;32mas\u001b[0m \u001b[0me\u001b[0m\u001b[1;33m:\u001b[0m\u001b[1;33m\u001b[0m\u001b[0m\n",
      "\u001b[1;32mC:\\Users\\ur57\\AppData\\Local\\Continuum\\Anaconda3-64\\lib\\site-packages\\sklearn\\ensemble\\forest.py\u001b[0m in \u001b[0;36mfit\u001b[1;34m(self, X, y, sample_weight)\u001b[0m\n\u001b[0;32m    210\u001b[0m         \"\"\"\n\u001b[0;32m    211\u001b[0m         \u001b[1;31m# Validate or convert input data\u001b[0m\u001b[1;33m\u001b[0m\u001b[1;33m\u001b[0m\u001b[0m\n\u001b[1;32m--> 212\u001b[1;33m         \u001b[0mX\u001b[0m \u001b[1;33m=\u001b[0m \u001b[0mcheck_array\u001b[0m\u001b[1;33m(\u001b[0m\u001b[0mX\u001b[0m\u001b[1;33m,\u001b[0m \u001b[0mdtype\u001b[0m\u001b[1;33m=\u001b[0m\u001b[0mDTYPE\u001b[0m\u001b[1;33m,\u001b[0m \u001b[0maccept_sparse\u001b[0m\u001b[1;33m=\u001b[0m\u001b[1;34m\"csc\"\u001b[0m\u001b[1;33m)\u001b[0m\u001b[1;33m\u001b[0m\u001b[0m\n\u001b[0m\u001b[0;32m    213\u001b[0m         \u001b[1;32mif\u001b[0m \u001b[0missparse\u001b[0m\u001b[1;33m(\u001b[0m\u001b[0mX\u001b[0m\u001b[1;33m)\u001b[0m\u001b[1;33m:\u001b[0m\u001b[1;33m\u001b[0m\u001b[0m\n\u001b[0;32m    214\u001b[0m             \u001b[1;31m# Pre-sort indices to avoid that each individual tree of the\u001b[0m\u001b[1;33m\u001b[0m\u001b[1;33m\u001b[0m\u001b[0m\n",
      "\u001b[1;32mC:\\Users\\ur57\\AppData\\Local\\Continuum\\Anaconda3-64\\lib\\site-packages\\sklearn\\utils\\validation.py\u001b[0m in \u001b[0;36mcheck_array\u001b[1;34m(array, accept_sparse, dtype, order, copy, force_all_finite, ensure_2d, allow_nd, ensure_min_samples, ensure_min_features, warn_on_dtype, estimator)\u001b[0m\n\u001b[0;32m    371\u001b[0m                                       force_all_finite)\n\u001b[0;32m    372\u001b[0m     \u001b[1;32melse\u001b[0m\u001b[1;33m:\u001b[0m\u001b[1;33m\u001b[0m\u001b[0m\n\u001b[1;32m--> 373\u001b[1;33m         \u001b[0marray\u001b[0m \u001b[1;33m=\u001b[0m \u001b[0mnp\u001b[0m\u001b[1;33m.\u001b[0m\u001b[0marray\u001b[0m\u001b[1;33m(\u001b[0m\u001b[0marray\u001b[0m\u001b[1;33m,\u001b[0m \u001b[0mdtype\u001b[0m\u001b[1;33m=\u001b[0m\u001b[0mdtype\u001b[0m\u001b[1;33m,\u001b[0m \u001b[0morder\u001b[0m\u001b[1;33m=\u001b[0m\u001b[0morder\u001b[0m\u001b[1;33m,\u001b[0m \u001b[0mcopy\u001b[0m\u001b[1;33m=\u001b[0m\u001b[0mcopy\u001b[0m\u001b[1;33m)\u001b[0m\u001b[1;33m\u001b[0m\u001b[0m\n\u001b[0m\u001b[0;32m    374\u001b[0m \u001b[1;33m\u001b[0m\u001b[0m\n\u001b[0;32m    375\u001b[0m         \u001b[1;32mif\u001b[0m \u001b[0mensure_2d\u001b[0m\u001b[1;33m:\u001b[0m\u001b[1;33m\u001b[0m\u001b[0m\n",
      "\u001b[1;32mC:\\Users\\ur57\\AppData\\Local\\Continuum\\Anaconda3-64\\lib\\site-packages\\pandas\\core\\generic.py\u001b[0m in \u001b[0;36m__array__\u001b[1;34m(self, dtype)\u001b[0m\n\u001b[0;32m    915\u001b[0m \u001b[1;33m\u001b[0m\u001b[0m\n\u001b[0;32m    916\u001b[0m     \u001b[1;32mdef\u001b[0m \u001b[0m__array__\u001b[0m\u001b[1;33m(\u001b[0m\u001b[0mself\u001b[0m\u001b[1;33m,\u001b[0m \u001b[0mdtype\u001b[0m\u001b[1;33m=\u001b[0m\u001b[1;32mNone\u001b[0m\u001b[1;33m)\u001b[0m\u001b[1;33m:\u001b[0m\u001b[1;33m\u001b[0m\u001b[0m\n\u001b[1;32m--> 917\u001b[1;33m         \u001b[1;32mreturn\u001b[0m \u001b[0m_values_from_object\u001b[0m\u001b[1;33m(\u001b[0m\u001b[0mself\u001b[0m\u001b[1;33m)\u001b[0m\u001b[1;33m\u001b[0m\u001b[0m\n\u001b[0m\u001b[0;32m    918\u001b[0m \u001b[1;33m\u001b[0m\u001b[0m\n\u001b[0;32m    919\u001b[0m     \u001b[1;32mdef\u001b[0m \u001b[0m__array_wrap__\u001b[0m\u001b[1;33m(\u001b[0m\u001b[0mself\u001b[0m\u001b[1;33m,\u001b[0m \u001b[0mresult\u001b[0m\u001b[1;33m,\u001b[0m \u001b[0mcontext\u001b[0m\u001b[1;33m=\u001b[0m\u001b[1;32mNone\u001b[0m\u001b[1;33m)\u001b[0m\u001b[1;33m:\u001b[0m\u001b[1;33m\u001b[0m\u001b[0m\n",
      "\u001b[1;32mpandas\\lib.pyx\u001b[0m in \u001b[0;36mpandas.lib.values_from_object (pandas\\lib.c:4239)\u001b[1;34m()\u001b[0m\n",
      "\u001b[1;32mC:\\Users\\ur57\\AppData\\Local\\Continuum\\Anaconda3-64\\lib\\site-packages\\pandas\\core\\generic.py\u001b[0m in \u001b[0;36mget_values\u001b[1;34m(self)\u001b[0m\n\u001b[0;32m   2861\u001b[0m     \u001b[1;32mdef\u001b[0m \u001b[0mget_values\u001b[0m\u001b[1;33m(\u001b[0m\u001b[0mself\u001b[0m\u001b[1;33m)\u001b[0m\u001b[1;33m:\u001b[0m\u001b[1;33m\u001b[0m\u001b[0m\n\u001b[0;32m   2862\u001b[0m         \u001b[1;34m\"\"\"same as values (but handles sparseness conversions)\"\"\"\u001b[0m\u001b[1;33m\u001b[0m\u001b[0m\n\u001b[1;32m-> 2863\u001b[1;33m         \u001b[1;32mreturn\u001b[0m \u001b[0mself\u001b[0m\u001b[1;33m.\u001b[0m\u001b[0mas_matrix\u001b[0m\u001b[1;33m(\u001b[0m\u001b[1;33m)\u001b[0m\u001b[1;33m\u001b[0m\u001b[0m\n\u001b[0m\u001b[0;32m   2864\u001b[0m \u001b[1;33m\u001b[0m\u001b[0m\n\u001b[0;32m   2865\u001b[0m     \u001b[1;32mdef\u001b[0m \u001b[0mget_dtype_counts\u001b[0m\u001b[1;33m(\u001b[0m\u001b[0mself\u001b[0m\u001b[1;33m)\u001b[0m\u001b[1;33m:\u001b[0m\u001b[1;33m\u001b[0m\u001b[0m\n",
      "\u001b[1;32mC:\\Users\\ur57\\AppData\\Local\\Continuum\\Anaconda3-64\\lib\\site-packages\\pandas\\core\\generic.py\u001b[0m in \u001b[0;36mas_matrix\u001b[1;34m(self, columns)\u001b[0m\n\u001b[0;32m   2829\u001b[0m         \u001b[0mself\u001b[0m\u001b[1;33m.\u001b[0m\u001b[0m_consolidate_inplace\u001b[0m\u001b[1;33m(\u001b[0m\u001b[1;33m)\u001b[0m\u001b[1;33m\u001b[0m\u001b[0m\n\u001b[0;32m   2830\u001b[0m         \u001b[1;32mif\u001b[0m \u001b[0mself\u001b[0m\u001b[1;33m.\u001b[0m\u001b[0m_AXIS_REVERSED\u001b[0m\u001b[1;33m:\u001b[0m\u001b[1;33m\u001b[0m\u001b[0m\n\u001b[1;32m-> 2831\u001b[1;33m             \u001b[1;32mreturn\u001b[0m \u001b[0mself\u001b[0m\u001b[1;33m.\u001b[0m\u001b[0m_data\u001b[0m\u001b[1;33m.\u001b[0m\u001b[0mas_matrix\u001b[0m\u001b[1;33m(\u001b[0m\u001b[0mcolumns\u001b[0m\u001b[1;33m)\u001b[0m\u001b[1;33m.\u001b[0m\u001b[0mT\u001b[0m\u001b[1;33m\u001b[0m\u001b[0m\n\u001b[0m\u001b[0;32m   2832\u001b[0m         \u001b[1;32mreturn\u001b[0m \u001b[0mself\u001b[0m\u001b[1;33m.\u001b[0m\u001b[0m_data\u001b[0m\u001b[1;33m.\u001b[0m\u001b[0mas_matrix\u001b[0m\u001b[1;33m(\u001b[0m\u001b[0mcolumns\u001b[0m\u001b[1;33m)\u001b[0m\u001b[1;33m\u001b[0m\u001b[0m\n\u001b[0;32m   2833\u001b[0m \u001b[1;33m\u001b[0m\u001b[0m\n",
      "\u001b[1;32mC:\\Users\\ur57\\AppData\\Local\\Continuum\\Anaconda3-64\\lib\\site-packages\\pandas\\core\\internals.py\u001b[0m in \u001b[0;36mas_matrix\u001b[1;34m(self, items)\u001b[0m\n\u001b[0;32m   3083\u001b[0m             \u001b[1;32mreturn\u001b[0m \u001b[0mmgr\u001b[0m\u001b[1;33m.\u001b[0m\u001b[0mblocks\u001b[0m\u001b[1;33m[\u001b[0m\u001b[1;36m0\u001b[0m\u001b[1;33m]\u001b[0m\u001b[1;33m.\u001b[0m\u001b[0mget_values\u001b[0m\u001b[1;33m(\u001b[0m\u001b[1;33m)\u001b[0m\u001b[1;33m\u001b[0m\u001b[0m\n\u001b[0;32m   3084\u001b[0m         \u001b[1;32melse\u001b[0m\u001b[1;33m:\u001b[0m\u001b[1;33m\u001b[0m\u001b[0m\n\u001b[1;32m-> 3085\u001b[1;33m             \u001b[1;32mreturn\u001b[0m \u001b[0mmgr\u001b[0m\u001b[1;33m.\u001b[0m\u001b[0m_interleave\u001b[0m\u001b[1;33m(\u001b[0m\u001b[1;33m)\u001b[0m\u001b[1;33m\u001b[0m\u001b[0m\n\u001b[0m\u001b[0;32m   3086\u001b[0m \u001b[1;33m\u001b[0m\u001b[0m\n\u001b[0;32m   3087\u001b[0m     \u001b[1;32mdef\u001b[0m \u001b[0m_interleave\u001b[0m\u001b[1;33m(\u001b[0m\u001b[0mself\u001b[0m\u001b[1;33m)\u001b[0m\u001b[1;33m:\u001b[0m\u001b[1;33m\u001b[0m\u001b[0m\n",
      "\u001b[1;32mC:\\Users\\ur57\\AppData\\Local\\Continuum\\Anaconda3-64\\lib\\site-packages\\pandas\\core\\internals.py\u001b[0m in \u001b[0;36m_interleave\u001b[1;34m(self)\u001b[0m\n\u001b[0;32m   3094\u001b[0m         \u001b[0mresult\u001b[0m \u001b[1;33m=\u001b[0m \u001b[0mnp\u001b[0m\u001b[1;33m.\u001b[0m\u001b[0mempty\u001b[0m\u001b[1;33m(\u001b[0m\u001b[0mself\u001b[0m\u001b[1;33m.\u001b[0m\u001b[0mshape\u001b[0m\u001b[1;33m,\u001b[0m \u001b[0mdtype\u001b[0m\u001b[1;33m=\u001b[0m\u001b[0mdtype\u001b[0m\u001b[1;33m)\u001b[0m\u001b[1;33m\u001b[0m\u001b[0m\n\u001b[0;32m   3095\u001b[0m \u001b[1;33m\u001b[0m\u001b[0m\n\u001b[1;32m-> 3096\u001b[1;33m         \u001b[1;32mif\u001b[0m \u001b[0mresult\u001b[0m\u001b[1;33m.\u001b[0m\u001b[0mshape\u001b[0m\u001b[1;33m[\u001b[0m\u001b[1;36m0\u001b[0m\u001b[1;33m]\u001b[0m \u001b[1;33m==\u001b[0m \u001b[1;36m0\u001b[0m\u001b[1;33m:\u001b[0m\u001b[1;33m\u001b[0m\u001b[0m\n\u001b[0m\u001b[0;32m   3097\u001b[0m             \u001b[1;31m# Workaround for numpy 1.7 bug:\u001b[0m\u001b[1;33m\u001b[0m\u001b[1;33m\u001b[0m\u001b[0m\n\u001b[0;32m   3098\u001b[0m             \u001b[1;31m#\u001b[0m\u001b[1;33m\u001b[0m\u001b[1;33m\u001b[0m\u001b[0m\n",
      "\u001b[1;31mKeyboardInterrupt\u001b[0m: "
     ]
    }
   ],
   "source": [
    "rfc_params = {\n",
    "    'n_estimators' : np.linspace(10, 100, 5, dtype='int'),\n",
    "    'max_depth': np.linspace(2, 30, 6, dtype='int'),\n",
    "    'min_samples_leaf': np.linspace(1, 15, 3, dtype='int'), \n",
    "}\n",
    "grid = GridSearchCV(RandomForestClassifier(), rfc_params, verbose=3, scoring='log_loss', n_jobs=1)\n",
    "grid.fit(x, y)\n",
    "print(grid.best_score_)\n",
    "print(grid.best_params_)"
   ]
  },
  {
   "cell_type": "code",
   "execution_count": null,
   "metadata": {
    "collapsed": false
   },
   "outputs": [],
   "source": [
    "#xgb_params = dict(objective='multi:softprob',                    \n",
    "#                  max_depth=6, \n",
    "#                  learning_rate=0.2,\n",
    "#                  num_class=5,\n",
    "#                  subsample=0.75, \n",
    "#                  colsample_bytree=0.85,)\n",
    "#data = xgb.DMatrix(x, y)\n",
    "#xgb.cv(xgb_params, data, num_boost_round=125,  metrics='mlogloss', verbose_eval=True)\n"
   ]
  },
  {
   "cell_type": "code",
   "execution_count": 38,
   "metadata": {
    "collapsed": false
   },
   "outputs": [
    {
     "name": "stdout",
     "output_type": "stream",
     "text": [
      "Fitting estimator with 616 features.\n",
      "Fitting estimator with 611 features.\n",
      "Fitting estimator with 606 features.\n",
      "Fitting estimator with 601 features.\n",
      "Fitting estimator with 596 features.\n",
      "Fitting estimator with 591 features.\n",
      "Fitting estimator with 586 features.\n",
      "Fitting estimator with 581 features.\n",
      "Fitting estimator with 576 features.\n",
      "Fitting estimator with 571 features.\n",
      "Fitting estimator with 566 features.\n",
      "Fitting estimator with 561 features.\n",
      "Fitting estimator with 556 features.\n",
      "Fitting estimator with 551 features.\n",
      "Fitting estimator with 546 features.\n",
      "Fitting estimator with 541 features.\n",
      "Fitting estimator with 536 features.\n",
      "Fitting estimator with 531 features.\n",
      "Fitting estimator with 526 features.\n",
      "Fitting estimator with 521 features.\n",
      "Fitting estimator with 516 features.\n",
      "Fitting estimator with 511 features.\n",
      "Fitting estimator with 506 features.\n",
      "Fitting estimator with 501 features.\n",
      "Fitting estimator with 496 features.\n",
      "Fitting estimator with 491 features.\n",
      "Fitting estimator with 486 features.\n",
      "Fitting estimator with 481 features.\n",
      "Fitting estimator with 476 features.\n",
      "Fitting estimator with 471 features.\n",
      "Fitting estimator with 466 features.\n",
      "Fitting estimator with 461 features.\n",
      "Fitting estimator with 456 features.\n",
      "Fitting estimator with 451 features.\n",
      "Fitting estimator with 446 features.\n",
      "Fitting estimator with 441 features.\n",
      "Fitting estimator with 436 features.\n",
      "Fitting estimator with 431 features.\n",
      "Fitting estimator with 426 features.\n",
      "Fitting estimator with 421 features.\n",
      "Fitting estimator with 416 features.\n",
      "Fitting estimator with 411 features.\n",
      "Fitting estimator with 406 features.\n",
      "Fitting estimator with 401 features.\n",
      "Fitting estimator with 396 features.\n",
      "Fitting estimator with 391 features.\n",
      "Fitting estimator with 386 features.\n",
      "Fitting estimator with 381 features.\n",
      "Fitting estimator with 376 features.\n",
      "Fitting estimator with 371 features.\n",
      "Fitting estimator with 366 features.\n",
      "Fitting estimator with 361 features.\n",
      "Fitting estimator with 356 features.\n",
      "Fitting estimator with 351 features.\n",
      "Fitting estimator with 346 features.\n",
      "Fitting estimator with 341 features.\n",
      "Fitting estimator with 336 features.\n",
      "Fitting estimator with 331 features.\n",
      "Fitting estimator with 326 features.\n",
      "Fitting estimator with 321 features.\n",
      "Fitting estimator with 316 features.\n",
      "Fitting estimator with 311 features.\n",
      "Fitting estimator with 306 features.\n",
      "Fitting estimator with 301 features.\n",
      "Fitting estimator with 296 features.\n",
      "Fitting estimator with 291 features.\n",
      "Fitting estimator with 286 features.\n",
      "Fitting estimator with 281 features.\n",
      "Fitting estimator with 276 features.\n",
      "Fitting estimator with 271 features.\n",
      "Fitting estimator with 266 features.\n",
      "Fitting estimator with 261 features.\n",
      "Fitting estimator with 256 features.\n",
      "Fitting estimator with 251 features.\n",
      "Fitting estimator with 246 features.\n",
      "Fitting estimator with 241 features.\n",
      "Fitting estimator with 236 features.\n",
      "Fitting estimator with 231 features.\n",
      "Fitting estimator with 226 features.\n",
      "Fitting estimator with 221 features.\n",
      "Fitting estimator with 216 features.\n",
      "Fitting estimator with 211 features.\n",
      "Fitting estimator with 206 features.\n",
      "Fitting estimator with 201 features.\n",
      "Fitting estimator with 196 features.\n",
      "Fitting estimator with 191 features.\n",
      "Fitting estimator with 186 features.\n",
      "Fitting estimator with 181 features.\n",
      "Fitting estimator with 176 features.\n",
      "Fitting estimator with 171 features.\n",
      "Fitting estimator with 166 features.\n",
      "Fitting estimator with 161 features.\n",
      "Fitting estimator with 156 features.\n",
      "Fitting estimator with 151 features.\n",
      "Fitting estimator with 146 features.\n",
      "Fitting estimator with 141 features.\n",
      "Fitting estimator with 136 features.\n",
      "Fitting estimator with 131 features.\n",
      "Fitting estimator with 126 features.\n",
      "Fitting estimator with 121 features.\n",
      "Fitting estimator with 116 features.\n",
      "Fitting estimator with 111 features.\n",
      "Fitting estimator with 106 features.\n",
      "Fitting estimator with 101 features.\n",
      "Fitting estimator with 96 features.\n",
      "Fitting estimator with 91 features.\n",
      "Fitting estimator with 86 features.\n",
      "Fitting estimator with 81 features.\n",
      "Fitting estimator with 76 features.\n",
      "Fitting estimator with 71 features.\n",
      "Fitting estimator with 66 features.\n",
      "Fitting estimator with 61 features.\n",
      "Fitting estimator with 56 features.\n",
      "Fitting estimator with 51 features.\n",
      "Fitting estimator with 46 features.\n",
      "Fitting estimator with 41 features.\n",
      "Fitting estimator with 36 features.\n",
      "Fitting estimator with 31 features.\n",
      "Fitting estimator with 26 features.\n",
      "Fitting estimator with 21 features.\n",
      "Fitting estimator with 16 features.\n",
      "Fitting estimator with 11 features.\n",
      "Fitting estimator with 6 features.\n",
      "Fitting estimator with 616 features.\n",
      "Fitting estimator with 611 features.\n",
      "Fitting estimator with 606 features.\n",
      "Fitting estimator with 601 features.\n",
      "Fitting estimator with 596 features.\n",
      "Fitting estimator with 591 features.\n",
      "Fitting estimator with 586 features.\n",
      "Fitting estimator with 581 features.\n",
      "Fitting estimator with 576 features.\n",
      "Fitting estimator with 571 features.\n",
      "Fitting estimator with 566 features.\n",
      "Fitting estimator with 561 features.\n",
      "Fitting estimator with 556 features.\n",
      "Fitting estimator with 551 features.\n",
      "Fitting estimator with 546 features.\n",
      "Fitting estimator with 541 features.\n",
      "Fitting estimator with 536 features.\n",
      "Fitting estimator with 531 features.\n",
      "Fitting estimator with 526 features.\n",
      "Fitting estimator with 521 features.\n",
      "Fitting estimator with 516 features.\n",
      "Fitting estimator with 511 features.\n",
      "Fitting estimator with 506 features.\n",
      "Fitting estimator with 501 features.\n",
      "Fitting estimator with 496 features.\n",
      "Fitting estimator with 491 features.\n",
      "Fitting estimator with 486 features.\n",
      "Fitting estimator with 481 features.\n",
      "Fitting estimator with 476 features.\n",
      "Fitting estimator with 471 features.\n",
      "Fitting estimator with 466 features.\n",
      "Fitting estimator with 461 features.\n",
      "Fitting estimator with 456 features.\n",
      "Fitting estimator with 451 features.\n",
      "Fitting estimator with 446 features.\n",
      "Fitting estimator with 441 features.\n",
      "Fitting estimator with 436 features.\n",
      "Fitting estimator with 431 features.\n",
      "Fitting estimator with 426 features.\n",
      "Fitting estimator with 421 features.\n",
      "Fitting estimator with 416 features.\n",
      "Fitting estimator with 411 features.\n",
      "Fitting estimator with 406 features.\n",
      "Fitting estimator with 401 features.\n",
      "Fitting estimator with 396 features.\n",
      "Fitting estimator with 391 features.\n",
      "Fitting estimator with 386 features.\n",
      "Fitting estimator with 381 features.\n",
      "Fitting estimator with 376 features.\n",
      "Fitting estimator with 371 features.\n",
      "Fitting estimator with 366 features.\n",
      "Fitting estimator with 361 features.\n",
      "Fitting estimator with 356 features.\n",
      "Fitting estimator with 351 features.\n",
      "Fitting estimator with 346 features.\n",
      "Fitting estimator with 341 features.\n",
      "Fitting estimator with 336 features.\n",
      "Fitting estimator with 331 features.\n",
      "Fitting estimator with 326 features.\n",
      "Fitting estimator with 321 features.\n",
      "Fitting estimator with 316 features.\n",
      "Fitting estimator with 311 features.\n",
      "Fitting estimator with 306 features.\n",
      "Fitting estimator with 301 features.\n",
      "Fitting estimator with 296 features.\n",
      "Fitting estimator with 291 features.\n",
      "Fitting estimator with 286 features.\n",
      "Fitting estimator with 281 features.\n",
      "Fitting estimator with 276 features.\n",
      "Fitting estimator with 271 features.\n",
      "Fitting estimator with 266 features.\n",
      "Fitting estimator with 261 features.\n",
      "Fitting estimator with 256 features.\n",
      "Fitting estimator with 251 features.\n",
      "Fitting estimator with 246 features.\n",
      "Fitting estimator with 241 features.\n",
      "Fitting estimator with 236 features.\n",
      "Fitting estimator with 231 features.\n",
      "Fitting estimator with 226 features.\n",
      "Fitting estimator with 221 features.\n",
      "Fitting estimator with 216 features.\n",
      "Fitting estimator with 211 features.\n",
      "Fitting estimator with 206 features.\n",
      "Fitting estimator with 201 features.\n",
      "Fitting estimator with 196 features.\n",
      "Fitting estimator with 191 features.\n",
      "Fitting estimator with 186 features.\n",
      "Fitting estimator with 181 features.\n",
      "Fitting estimator with 176 features.\n",
      "Fitting estimator with 171 features.\n",
      "Fitting estimator with 166 features.\n",
      "Fitting estimator with 161 features.\n",
      "Fitting estimator with 156 features.\n",
      "Fitting estimator with 151 features.\n",
      "Fitting estimator with 146 features.\n",
      "Fitting estimator with 141 features.\n",
      "Fitting estimator with 136 features.\n",
      "Fitting estimator with 131 features.\n",
      "Fitting estimator with 126 features.\n",
      "Fitting estimator with 121 features.\n",
      "Fitting estimator with 116 features.\n",
      "Fitting estimator with 111 features.\n",
      "Fitting estimator with 106 features.\n",
      "Fitting estimator with 101 features.\n",
      "Fitting estimator with 96 features.\n",
      "Fitting estimator with 91 features.\n",
      "Fitting estimator with 86 features.\n",
      "Fitting estimator with 81 features.\n",
      "Fitting estimator with 76 features.\n",
      "Fitting estimator with 71 features.\n",
      "Fitting estimator with 66 features.\n",
      "Fitting estimator with 61 features.\n",
      "Fitting estimator with 56 features.\n",
      "Fitting estimator with 51 features.\n",
      "Fitting estimator with 46 features.\n",
      "Fitting estimator with 41 features.\n",
      "Fitting estimator with 36 features.\n",
      "Fitting estimator with 31 features.\n",
      "Fitting estimator with 26 features.\n",
      "Fitting estimator with 21 features.\n",
      "Fitting estimator with 16 features.\n",
      "Fitting estimator with 11 features.\n",
      "Fitting estimator with 6 features.\n",
      "Fitting estimator with 616 features.\n",
      "Fitting estimator with 611 features.\n",
      "Fitting estimator with 606 features.\n",
      "Fitting estimator with 601 features.\n",
      "Fitting estimator with 596 features.\n",
      "Fitting estimator with 591 features.\n",
      "Fitting estimator with 586 features.\n",
      "Fitting estimator with 581 features.\n",
      "Fitting estimator with 576 features.\n",
      "Fitting estimator with 571 features.\n",
      "Fitting estimator with 566 features.\n",
      "Fitting estimator with 561 features.\n",
      "Fitting estimator with 556 features.\n",
      "Fitting estimator with 551 features.\n",
      "Fitting estimator with 546 features.\n",
      "Fitting estimator with 541 features.\n",
      "Fitting estimator with 536 features.\n",
      "Fitting estimator with 531 features.\n",
      "Fitting estimator with 526 features.\n",
      "Fitting estimator with 521 features.\n",
      "Fitting estimator with 516 features.\n",
      "Fitting estimator with 511 features.\n",
      "Fitting estimator with 506 features.\n",
      "Fitting estimator with 501 features.\n",
      "Fitting estimator with 496 features.\n",
      "Fitting estimator with 491 features.\n",
      "Fitting estimator with 486 features.\n",
      "Fitting estimator with 481 features.\n",
      "Fitting estimator with 476 features.\n",
      "Fitting estimator with 471 features.\n",
      "Fitting estimator with 466 features.\n",
      "Fitting estimator with 461 features.\n",
      "Fitting estimator with 456 features.\n",
      "Fitting estimator with 451 features.\n",
      "Fitting estimator with 446 features.\n",
      "Fitting estimator with 441 features.\n",
      "Fitting estimator with 436 features.\n",
      "Fitting estimator with 431 features.\n",
      "Fitting estimator with 426 features.\n",
      "Fitting estimator with 421 features.\n",
      "Fitting estimator with 416 features.\n",
      "Fitting estimator with 411 features.\n",
      "Fitting estimator with 406 features.\n",
      "Fitting estimator with 401 features.\n",
      "Fitting estimator with 396 features.\n",
      "Fitting estimator with 391 features.\n",
      "Fitting estimator with 386 features.\n",
      "Fitting estimator with 381 features.\n",
      "Fitting estimator with 376 features.\n",
      "Fitting estimator with 371 features.\n",
      "Fitting estimator with 366 features.\n",
      "Fitting estimator with 361 features.\n",
      "Fitting estimator with 356 features.\n",
      "Fitting estimator with 351 features.\n",
      "Fitting estimator with 346 features.\n",
      "Fitting estimator with 341 features.\n",
      "Fitting estimator with 336 features.\n",
      "Fitting estimator with 331 features.\n",
      "Fitting estimator with 326 features.\n",
      "Fitting estimator with 321 features.\n",
      "Fitting estimator with 316 features.\n",
      "Fitting estimator with 311 features.\n",
      "Fitting estimator with 306 features.\n",
      "Fitting estimator with 301 features.\n",
      "Fitting estimator with 296 features.\n",
      "Fitting estimator with 291 features.\n",
      "Fitting estimator with 286 features.\n",
      "Fitting estimator with 281 features.\n",
      "Fitting estimator with 276 features.\n",
      "Fitting estimator with 271 features.\n",
      "Fitting estimator with 266 features.\n",
      "Fitting estimator with 261 features.\n",
      "Fitting estimator with 256 features.\n",
      "Fitting estimator with 251 features.\n",
      "Fitting estimator with 246 features.\n",
      "Fitting estimator with 241 features.\n",
      "Fitting estimator with 236 features.\n",
      "Fitting estimator with 231 features.\n",
      "Fitting estimator with 226 features.\n",
      "Fitting estimator with 221 features.\n",
      "Fitting estimator with 216 features.\n",
      "Fitting estimator with 211 features.\n",
      "Fitting estimator with 206 features.\n",
      "Fitting estimator with 201 features.\n",
      "Fitting estimator with 196 features.\n",
      "Fitting estimator with 191 features.\n",
      "Fitting estimator with 186 features.\n",
      "Fitting estimator with 181 features.\n",
      "Fitting estimator with 176 features.\n",
      "Fitting estimator with 171 features.\n",
      "Fitting estimator with 166 features.\n",
      "Fitting estimator with 161 features.\n",
      "Fitting estimator with 156 features.\n",
      "Fitting estimator with 151 features.\n",
      "Fitting estimator with 146 features.\n",
      "Fitting estimator with 141 features.\n",
      "Fitting estimator with 136 features.\n",
      "Fitting estimator with 131 features.\n",
      "Fitting estimator with 126 features.\n",
      "Fitting estimator with 121 features.\n",
      "Fitting estimator with 116 features.\n",
      "Fitting estimator with 111 features.\n",
      "Fitting estimator with 106 features.\n",
      "Fitting estimator with 101 features.\n",
      "Fitting estimator with 96 features.\n",
      "Fitting estimator with 91 features.\n",
      "Fitting estimator with 86 features.\n",
      "Fitting estimator with 81 features.\n",
      "Fitting estimator with 76 features.\n",
      "Fitting estimator with 71 features.\n",
      "Fitting estimator with 66 features.\n",
      "Fitting estimator with 61 features.\n",
      "Fitting estimator with 56 features.\n",
      "Fitting estimator with 51 features.\n",
      "Fitting estimator with 46 features.\n",
      "Fitting estimator with 41 features.\n",
      "Fitting estimator with 36 features.\n",
      "Fitting estimator with 31 features.\n",
      "Fitting estimator with 26 features.\n",
      "Fitting estimator with 21 features.\n",
      "Fitting estimator with 16 features.\n",
      "Fitting estimator with 11 features.\n",
      "Fitting estimator with 6 features.\n"
     ]
    },
    {
     "data": {
      "text/plain": [
       "RFECV(cv=None,\n",
       "   estimator=RandomForestClassifier(bootstrap=True, class_weight=None, criterion='gini',\n",
       "            max_depth=16, max_features='auto', max_leaf_nodes=None,\n",
       "            min_samples_leaf=1, min_samples_split=2,\n",
       "            min_weight_fraction_leaf=0.0, n_estimators=40, n_jobs=1,\n",
       "            oob_score=False, random_state=None, verbose=0,\n",
       "            warm_start=False),\n",
       "   estimator_params=None, scoring='log_loss', step=5, verbose=5)"
      ]
     },
     "execution_count": 38,
     "metadata": {},
     "output_type": "execute_result"
    }
   ],
   "source": [
    "#rfe = RFECV(RandomForestClassifier(max_depth=16, n_estimators=40), step=5, scoring='log_loss', verbose=0)\n",
    "#rfe.fit(x, y)\n",
    "#print(np.sum(rfe.support_))\n",
    "#rfe.grid_scores_"
   ]
  },
  {
   "cell_type": "code",
   "execution_count": 94,
   "metadata": {
    "collapsed": false
   },
   "outputs": [
    {
     "name": "stdout",
     "output_type": "stream",
     "text": [
      "             precision    recall  f1-score   support\n",
      "\n",
      "   Adoption       0.74      0.70      0.72      2672\n",
      "       Died       0.12      0.09      0.11        43\n",
      " Euthanasia       0.38      0.26      0.31       375\n",
      "Return_to_owner       0.43      0.69      0.53      1233\n",
      "   Transfer       0.80      0.64      0.71      2355\n",
      "\n",
      "avg / total       0.68      0.65      0.65      6678\n",
      "\n",
      "\n",
      "0.903687744455\n",
      "[[1871    4   22  650  125]\n",
      " [   1    4    3    2   33]\n",
      " [  28    9   99  109  130]\n",
      " [ 247    0   46  847   93]\n",
      " [ 372   16   94  376 1497]]\n",
      "[2519   33  264 1984 1878]\n"
     ]
    }
   ],
   "source": [
    "x_reduzido = x.ix[:, rfe.get_support()]\n",
    "x_red_train, x_red_test, y_train, y_test = train_test_split(x_reduzido, y, random_state=42)\n",
    "rfc = RandomForestClassifier(max_depth=15, n_estimators=60, class_weight='balanced_subsample')\n",
    "rfc.fit(x_red_train, y_train)\n",
    "y_pred = rfc.predict(x_red_test)\n",
    "y_pred_proba = rfc.predict_proba(x_red_test)\n",
    "print(classification_report(y_test, y_pred))\n",
    "print()\n",
    "print(log_loss(y_test, y_pred_proba))\n",
    "\n",
    "cm = confusion_matrix(y_test, y_pred)\n",
    "print(cm)\n",
    "\n",
    "print(np.sum(cm, axis=0))\n"
   ]
  },
  {
   "cell_type": "code",
   "execution_count": 102,
   "metadata": {
    "collapsed": false
   },
   "outputs": [],
   "source": [
    "#foo = pd.concat( (x, y), axis=1)\n",
    "#foo.shape\n",
    "#foo.to_csv('../input/saida1.csv', index=False)"
   ]
  },
  {
   "cell_type": "code",
   "execution_count": null,
   "metadata": {
    "collapsed": true
   },
   "outputs": [],
   "source": []
  }
 ],
 "metadata": {
  "kernelspec": {
   "display_name": "Python 3",
   "language": "python",
   "name": "python3"
  },
  "language_info": {
   "codemirror_mode": {
    "name": "ipython",
    "version": 3
   },
   "file_extension": ".py",
   "mimetype": "text/x-python",
   "name": "python",
   "nbconvert_exporter": "python",
   "pygments_lexer": "ipython3",
   "version": "3.5.1"
  }
 },
 "nbformat": 4,
 "nbformat_minor": 0
}
