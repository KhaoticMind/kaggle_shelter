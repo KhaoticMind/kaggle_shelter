{
 "cells": [
  {
   "cell_type": "code",
   "execution_count": 1,
   "metadata": {
    "collapsed": true
   },
   "outputs": [],
   "source": [
    "%matplotlib inline\n",
    "\n",
    "import pandas as pd\n",
    "import seaborn as sns\n",
    "import numpy as np\n",
    "\n",
    "from matplotlib import pyplot as plt\n",
    "\n",
    "from sklearn.ensemble import RandomForestClassifier, BaggingClassifier, GradientBoostingClassifier, BaggingClassifier, VotingClassifier\n",
    "from sklearn.svm import SVC, LinearSVC, NuSVC\n",
    "from sklearn.preprocessing import label_binarize, normalize, LabelEncoder\n",
    "from sklearn.metrics import log_loss, classification_report\n",
    "from sklearn.decomposition import PCA\n",
    "\n",
    "from sklearn.cross_validation import cross_val_score, KFold, StratifiedKFold, train_test_split\n",
    "from sklearn.feature_selection import RFECV\n",
    "from sklearn.grid_search import GridSearchCV\n",
    "from sklearn.linear_model import SGDClassifier\n",
    "from sklearn.calibration import CalibratedClassifierCV\n"
   ]
  },
  {
   "cell_type": "code",
   "execution_count": 2,
   "metadata": {
    "collapsed": false
   },
   "outputs": [
    {
     "data": {
      "text/html": [
       "<div>\n",
       "<table border=\"1\" class=\"dataframe\">\n",
       "  <thead>\n",
       "    <tr style=\"text-align: right;\">\n",
       "      <th></th>\n",
       "      <th>AnimalID</th>\n",
       "      <th>Name</th>\n",
       "      <th>DateTime</th>\n",
       "      <th>OutcomeType</th>\n",
       "      <th>OutcomeSubtype</th>\n",
       "      <th>AnimalType</th>\n",
       "      <th>SexuponOutcome</th>\n",
       "      <th>AgeuponOutcome</th>\n",
       "      <th>Breed</th>\n",
       "      <th>Color</th>\n",
       "    </tr>\n",
       "  </thead>\n",
       "  <tbody>\n",
       "    <tr>\n",
       "      <th>0</th>\n",
       "      <td>A671945</td>\n",
       "      <td>Hambone</td>\n",
       "      <td>2014-02-12 18:22:00</td>\n",
       "      <td>Return_to_owner</td>\n",
       "      <td>NaN</td>\n",
       "      <td>Dog</td>\n",
       "      <td>Neutered Male</td>\n",
       "      <td>1 year</td>\n",
       "      <td>Shetland Sheepdog Mix</td>\n",
       "      <td>Brown/White</td>\n",
       "    </tr>\n",
       "    <tr>\n",
       "      <th>1</th>\n",
       "      <td>A656520</td>\n",
       "      <td>Emily</td>\n",
       "      <td>2013-10-13 12:44:00</td>\n",
       "      <td>Euthanasia</td>\n",
       "      <td>Suffering</td>\n",
       "      <td>Cat</td>\n",
       "      <td>Spayed Female</td>\n",
       "      <td>1 year</td>\n",
       "      <td>Domestic Shorthair Mix</td>\n",
       "      <td>Cream Tabby</td>\n",
       "    </tr>\n",
       "    <tr>\n",
       "      <th>2</th>\n",
       "      <td>A686464</td>\n",
       "      <td>Pearce</td>\n",
       "      <td>2015-01-31 12:28:00</td>\n",
       "      <td>Adoption</td>\n",
       "      <td>Foster</td>\n",
       "      <td>Dog</td>\n",
       "      <td>Neutered Male</td>\n",
       "      <td>2 years</td>\n",
       "      <td>Pit Bull Mix</td>\n",
       "      <td>Blue/White</td>\n",
       "    </tr>\n",
       "    <tr>\n",
       "      <th>3</th>\n",
       "      <td>A683430</td>\n",
       "      <td>NaN</td>\n",
       "      <td>2014-07-11 19:09:00</td>\n",
       "      <td>Transfer</td>\n",
       "      <td>Partner</td>\n",
       "      <td>Cat</td>\n",
       "      <td>Intact Male</td>\n",
       "      <td>3 weeks</td>\n",
       "      <td>Domestic Shorthair Mix</td>\n",
       "      <td>Blue Cream</td>\n",
       "    </tr>\n",
       "    <tr>\n",
       "      <th>4</th>\n",
       "      <td>A667013</td>\n",
       "      <td>NaN</td>\n",
       "      <td>2013-11-15 12:52:00</td>\n",
       "      <td>Transfer</td>\n",
       "      <td>Partner</td>\n",
       "      <td>Dog</td>\n",
       "      <td>Neutered Male</td>\n",
       "      <td>2 years</td>\n",
       "      <td>Lhasa Apso/Miniature Poodle</td>\n",
       "      <td>Tan</td>\n",
       "    </tr>\n",
       "  </tbody>\n",
       "</table>\n",
       "</div>"
      ],
      "text/plain": [
       "  AnimalID     Name             DateTime      OutcomeType OutcomeSubtype  \\\n",
       "0  A671945  Hambone  2014-02-12 18:22:00  Return_to_owner            NaN   \n",
       "1  A656520    Emily  2013-10-13 12:44:00       Euthanasia      Suffering   \n",
       "2  A686464   Pearce  2015-01-31 12:28:00         Adoption         Foster   \n",
       "3  A683430      NaN  2014-07-11 19:09:00         Transfer        Partner   \n",
       "4  A667013      NaN  2013-11-15 12:52:00         Transfer        Partner   \n",
       "\n",
       "  AnimalType SexuponOutcome AgeuponOutcome                        Breed  \\\n",
       "0        Dog  Neutered Male         1 year        Shetland Sheepdog Mix   \n",
       "1        Cat  Spayed Female         1 year       Domestic Shorthair Mix   \n",
       "2        Dog  Neutered Male        2 years                 Pit Bull Mix   \n",
       "3        Cat    Intact Male        3 weeks       Domestic Shorthair Mix   \n",
       "4        Dog  Neutered Male        2 years  Lhasa Apso/Miniature Poodle   \n",
       "\n",
       "         Color  \n",
       "0  Brown/White  \n",
       "1  Cream Tabby  \n",
       "2   Blue/White  \n",
       "3   Blue Cream  \n",
       "4          Tan  "
      ]
     },
     "execution_count": 2,
     "metadata": {},
     "output_type": "execute_result"
    }
   ],
   "source": [
    "df = pd.read_csv('../input/train.csv')\n",
    "df.head()"
   ]
  },
  {
   "cell_type": "code",
   "execution_count": 3,
   "metadata": {
    "collapsed": false
   },
   "outputs": [
    {
     "name": "stdout",
     "output_type": "stream",
     "text": [
      "<class 'pandas.core.frame.DataFrame'>\n",
      "RangeIndex: 26729 entries, 0 to 26728\n",
      "Data columns (total 27 columns):\n",
      "AnimalID          26729 non-null object\n",
      "Name              19038 non-null object\n",
      "DateTime          26729 non-null datetime64[ns]\n",
      "OutcomeType       26729 non-null object\n",
      "OutcomeSubtype    13117 non-null object\n",
      "AnimalType        26729 non-null object\n",
      "SexuponOutcome    26728 non-null object\n",
      "AgeuponOutcome    26711 non-null object\n",
      "Breed             26729 non-null object\n",
      "Color             26729 non-null object\n",
      "has_name          26729 non-null bool\n",
      "year              26729 non-null category\n",
      "month             26729 non-null category\n",
      "weekday           26729 non-null category\n",
      "week_end          26729 non-null bool\n",
      "hour              26729 non-null category\n",
      "period            26729 non-null object\n",
      "is_dog            26729 non-null bool\n",
      "condition         26728 non-null object\n",
      "is_male           26729 non-null bool\n",
      "age_in_days       26711 non-null float64\n",
      "age_in_years      26711 non-null float64\n",
      "age_in_months     26711 non-null float64\n",
      "pure_breed        26729 non-null bool\n",
      "cores_1           26729 non-null object\n",
      "cores_2           13924 non-null object\n",
      "bi_color          26729 non-null bool\n",
      "dtypes: bool(6), category(4), datetime64[ns](1), float64(3), object(13)\n",
      "memory usage: 3.7+ MB\n"
     ]
    }
   ],
   "source": [
    "df['has_name'] = pd.notnull(df['Name']).astype('bool8')\n",
    "#####\n",
    "df.DateTime = pd.to_datetime(df.DateTime)\n",
    "df['year'] = df.DateTime.dt.year.astype('category')\n",
    "df['month'] = df.DateTime.dt.month.astype('category')\n",
    "df['weekday'] = df.DateTime.dt.weekday.astype('category')\n",
    "df['week_end'] = df.weekday.isin([5,6])\n",
    "df['hour'] = df.DateTime.dt.hour.astype('category')\n",
    "def hour_period_map(x):\n",
    "    if x in [7,8,9,10,11,12]:\n",
    "        return 'morning'\n",
    "    elif x in [13,14,15,16,17,18]:\n",
    "        return 'afternoon'\n",
    "    elif x in [19,20,21,22,23]:\n",
    "        return 'night'\n",
    "    else:  # [0,1,2,3,4,5,6]\n",
    "        return 'dawn'\n",
    "    \n",
    "df['period'] = df.hour.apply(hour_period_map)\n",
    "#####\n",
    "df['is_dog'] = (df['AnimalType'] == 'Dog')\n",
    "####\n",
    "foo = df['SexuponOutcome'].str.split(expand=True)\n",
    "df['condition'] = foo[0].map({'Neutered': 'operated', 'Spayed':'operated', 'Intact': 'intact', 'Unknown': 'unknown'})\n",
    "df['is_male'] = (foo[1] == 'Male')\n",
    "#####\n",
    "time_multiplier = dict(year = 365, years=365, weeks = 7, month = 30, months=30, days = 1, week = 7, day= 1)\n",
    "foo = df['AgeuponOutcome'].str.split(expand=True)\n",
    "age = foo[0].astype('float32')\n",
    "period = foo[1]\n",
    "period = period.map(time_multiplier)\n",
    "df['age_in_days'] = age * period\n",
    "df['age_in_years'] = (df['age_in_days'] / 365).round()\n",
    "df['age_in_months'] = (df['age_in_days'] / 30).round()\n",
    "#####\n",
    "df['pure_breed'] = df.Breed.apply(lambda x : 'mix' not in x.lower()).astype('bool8')\n",
    "####\n",
    "cores = df.Color.str.split('/', expand=True)\n",
    "\n",
    "df['cores_1'] = cores[0].str.split(expand=True).ix[:,0]\n",
    "df['cores_2'] = cores[1].str.split(expand=True).ix[:,0]\n",
    "df['bi_color'] =  df.Color.str.contains('/').astype('bool8')\n",
    "####\n",
    "df.info()"
   ]
  },
  {
   "cell_type": "code",
   "execution_count": null,
   "metadata": {
    "collapsed": false
   },
   "outputs": [],
   "source": [
    "#foo = df.groupby(['OutcomeType','cores_1'])['AnimalID'].count()\n",
    "#foo = foo.unstack(level=0)\n",
    "\n",
    "#foo.divide(np.sum(foo, axis=1), axis=0)\n",
    "#foo = ' '.join(df.Breed.ravel()).replace('/', ' ').split()\n",
    "#hair =  pd.value_counts([f for f in foo if 'hair' in f.lower()])\n"
   ]
  },
  {
   "cell_type": "code",
   "execution_count": 4,
   "metadata": {
    "collapsed": false
   },
   "outputs": [],
   "source": [
    "df2 = df[['has_name', \n",
    "          'year',\n",
    "          'month', \n",
    "          'weekday', \n",
    "          #'weekend',\n",
    "          #'period', \n",
    "          'hour',\n",
    "          'is_dog', \n",
    "          'condition', \n",
    "          'is_male', \n",
    "          'age_in_days', \n",
    "          'pure_breed', \n",
    "          'cores_1', \n",
    "          'cores_2', \n",
    "          'bi_color', \n",
    "          'OutcomeType']]\n",
    "df2 = pd.get_dummies(df2, columns=['year', \n",
    "                                   'month', \n",
    "                                   'weekday', \n",
    "                                   #'weekend',\n",
    "                                   #'period', \n",
    "                                   'hour',                                   \n",
    "                                   'condition', \n",
    "                                   'cores_1', \n",
    "                                   'cores_2'])\n",
    "df2.dropna(axis=0, inplace=True)\n",
    "y = df2['OutcomeType']\n",
    "x = df2.drop('OutcomeType', axis=1)\n",
    "#x_norm = normalize(x, 'l2')"
   ]
  },
  {
   "cell_type": "code",
   "execution_count": null,
   "metadata": {
    "collapsed": false
   },
   "outputs": [],
   "source": [
    "rfc_params = {\n",
    "    'n_estimators' : np.linspace(100, 300, 3, dtype='int'),\n",
    "    'max_depth': np.linspace(20, 50, 5, dtype='int'),\n",
    "    'min_samples_leaf': np.linspace(1, 3, 2, dtype='int'),   \n",
    "    'class_weight' : [None, 'balanced'],\n",
    "}\n",
    "rf_grid = GridSearchCV(RandomForestClassifier(), rfc_params, verbose=3, scoring='log_loss', n_jobs=4)\n",
    "rf_grid.fit(x, y)\n",
    "print(rf_grid.best_score_)\n",
    "print(rf_grid.best_params_)"
   ]
  },
  {
   "cell_type": "code",
   "execution_count": null,
   "metadata": {
    "collapsed": false
   },
   "outputs": [
    {
     "name": "stdout",
     "output_type": "stream",
     "text": [
      "Fitting 3 folds for each of 135 candidates, totalling 405 fits\n"
     ]
    },
    {
     "name": "stderr",
     "output_type": "stream",
     "text": [
      "[Parallel(n_jobs=4)]: Done  24 tasks      | elapsed:   57.3s\n"
     ]
    }
   ],
   "source": [
    "grad_params = {\n",
    "    'n_estimators' : np.linspace(10, 40, 3, dtype='int'),\n",
    "    'max_depth': np.linspace(3, 10, 3, dtype='int'),    \n",
    "    'subsample' : np.linspace(0.3, 0.95, 3),\n",
    "    'learning_rate' : np.linspace(0.01, 0.3, 5),\n",
    "}\n",
    "grad_grid = GridSearchCV(GradientBoostingClassifier(), grad_params, verbose=3, scoring='log_loss', n_jobs=4)\n",
    "grad_grid.fit(x, y)\n",
    "print(grad_grid.best_score_)\n",
    "print(grad_grid.best_params_)"
   ]
  },
  {
   "cell_type": "code",
   "execution_count": null,
   "metadata": {
    "collapsed": false
   },
   "outputs": [],
   "source": [
    "bag = BaggingClassifier(max_samples=0.8, max_features=0.7, n_estimators=40)\n",
    "#sgd = SGDClassifier(loss='log')\n",
    "grad = GradientBoostingClassifier(n_estimators=20, max_depth=4, verbose=0, subsample=0.9)\n",
    "rfc = RandomForestClassifier(max_depth=20, n_estimators=300)\n",
    "votecf = VotingClassifier([('rf1', rfc),\n",
    "                           ('bag', bag),\n",
    "                           ('grad', grad),\n",
    "                           ('sgd', sgd)\n",
    "                          ], 'soft')\n",
    "cross_val_score(votecf, x, y, cv = 5, scoring='log_loss', n_jobs=4)"
   ]
  },
  {
   "cell_type": "code",
   "execution_count": null,
   "metadata": {
    "collapsed": false,
    "scrolled": true
   },
   "outputs": [],
   "source": [
    "rfc = RandomForestClassifier(max_depth=10, n_estimators=50)\n",
    "rfc.fit(x, y)\n",
    "print('Top features')\n",
    "for score, feat in sorted(zip(rfc.feature_importances_, x.columns), reverse=True)[:10]:\n",
    "    print('{:.3f} {}'.format(score,feat))\n",
    "print()    \n",
    "print('Botton features')\n",
    "for score, feat in sorted(zip(rfc.feature_importances_, x.columns), reverse=True)[-20:]:\n",
    "    print('{:.5f} {}'.format(score,feat))"
   ]
  },
  {
   "cell_type": "code",
   "execution_count": null,
   "metadata": {
    "collapsed": false
   },
   "outputs": [],
   "source": [
    "#x_norm = normalize(x)\n",
    "#svc = SVC(probability=True)\n",
    "#cross_val_score(svc, x, y, cv=5, verbose=3, scoring='log_loss')"
   ]
  },
  {
   "cell_type": "code",
   "execution_count": null,
   "metadata": {
    "collapsed": false
   },
   "outputs": [],
   "source": [
    "#pca = PCA(0.999)\n",
    "#x_pca = pca.fit_transform(x)\n",
    "#x_pca.shape"
   ]
  },
  {
   "cell_type": "code",
   "execution_count": null,
   "metadata": {
    "collapsed": true
   },
   "outputs": [],
   "source": []
  }
 ],
 "metadata": {
  "kernelspec": {
   "display_name": "Python 3",
   "language": "python",
   "name": "python3"
  },
  "language_info": {
   "codemirror_mode": {
    "name": "ipython",
    "version": 3
   },
   "file_extension": ".py",
   "mimetype": "text/x-python",
   "name": "python",
   "nbconvert_exporter": "python",
   "pygments_lexer": "ipython3",
   "version": "3.5.1"
  }
 },
 "nbformat": 4,
 "nbformat_minor": 0
}
