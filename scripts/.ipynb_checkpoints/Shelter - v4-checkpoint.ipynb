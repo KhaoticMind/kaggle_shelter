{
 "cells": [
  {
   "cell_type": "code",
   "execution_count": 8,
   "metadata": {
    "collapsed": true
   },
   "outputs": [],
   "source": [
    "%matplotlib inline\n",
    "\n",
    "import pandas as pd\n",
    "import seaborn as sns\n",
    "import numpy as np\n",
    "\n",
    "from matplotlib import pyplot as plt\n",
    "\n",
    "from sklearn.ensemble import RandomForestClassifier, BaggingClassifier, GradientBoostingClassifier, BaggingClassifier, VotingClassifier\n",
    "from sklearn.svm import SVC, LinearSVC, NuSVC\n",
    "from sklearn.preprocessing import label_binarize, normalize, LabelEncoder\n",
    "from sklearn.metrics import log_loss, classification_report\n",
    "from sklearn.decomposition import PCA\n",
    "\n",
    "from sklearn.cross_validation import cross_val_score, KFold, StratifiedKFold, train_test_split\n",
    "from sklearn.feature_selection import RFECV\n",
    "from sklearn.grid_search import GridSearchCV\n",
    "from sklearn.linear_model import SGDClassifier\n",
    "from sklearn.calibration import CalibratedClassifierCV\n"
   ]
  },
  {
   "cell_type": "code",
   "execution_count": 9,
   "metadata": {
    "collapsed": false
   },
   "outputs": [
    {
     "data": {
      "text/html": [
       "<div>\n",
       "<table border=\"1\" class=\"dataframe\">\n",
       "  <thead>\n",
       "    <tr style=\"text-align: right;\">\n",
       "      <th></th>\n",
       "      <th>AnimalID</th>\n",
       "      <th>Name</th>\n",
       "      <th>DateTime</th>\n",
       "      <th>OutcomeType</th>\n",
       "      <th>OutcomeSubtype</th>\n",
       "      <th>AnimalType</th>\n",
       "      <th>SexuponOutcome</th>\n",
       "      <th>AgeuponOutcome</th>\n",
       "      <th>Breed</th>\n",
       "      <th>Color</th>\n",
       "    </tr>\n",
       "  </thead>\n",
       "  <tbody>\n",
       "    <tr>\n",
       "      <th>0</th>\n",
       "      <td>A671945</td>\n",
       "      <td>Hambone</td>\n",
       "      <td>2014-02-12 18:22:00</td>\n",
       "      <td>Return_to_owner</td>\n",
       "      <td>NaN</td>\n",
       "      <td>Dog</td>\n",
       "      <td>Neutered Male</td>\n",
       "      <td>1 year</td>\n",
       "      <td>Shetland Sheepdog Mix</td>\n",
       "      <td>Brown/White</td>\n",
       "    </tr>\n",
       "    <tr>\n",
       "      <th>1</th>\n",
       "      <td>A656520</td>\n",
       "      <td>Emily</td>\n",
       "      <td>2013-10-13 12:44:00</td>\n",
       "      <td>Euthanasia</td>\n",
       "      <td>Suffering</td>\n",
       "      <td>Cat</td>\n",
       "      <td>Spayed Female</td>\n",
       "      <td>1 year</td>\n",
       "      <td>Domestic Shorthair Mix</td>\n",
       "      <td>Cream Tabby</td>\n",
       "    </tr>\n",
       "    <tr>\n",
       "      <th>2</th>\n",
       "      <td>A686464</td>\n",
       "      <td>Pearce</td>\n",
       "      <td>2015-01-31 12:28:00</td>\n",
       "      <td>Adoption</td>\n",
       "      <td>Foster</td>\n",
       "      <td>Dog</td>\n",
       "      <td>Neutered Male</td>\n",
       "      <td>2 years</td>\n",
       "      <td>Pit Bull Mix</td>\n",
       "      <td>Blue/White</td>\n",
       "    </tr>\n",
       "    <tr>\n",
       "      <th>3</th>\n",
       "      <td>A683430</td>\n",
       "      <td>NaN</td>\n",
       "      <td>2014-07-11 19:09:00</td>\n",
       "      <td>Transfer</td>\n",
       "      <td>Partner</td>\n",
       "      <td>Cat</td>\n",
       "      <td>Intact Male</td>\n",
       "      <td>3 weeks</td>\n",
       "      <td>Domestic Shorthair Mix</td>\n",
       "      <td>Blue Cream</td>\n",
       "    </tr>\n",
       "    <tr>\n",
       "      <th>4</th>\n",
       "      <td>A667013</td>\n",
       "      <td>NaN</td>\n",
       "      <td>2013-11-15 12:52:00</td>\n",
       "      <td>Transfer</td>\n",
       "      <td>Partner</td>\n",
       "      <td>Dog</td>\n",
       "      <td>Neutered Male</td>\n",
       "      <td>2 years</td>\n",
       "      <td>Lhasa Apso/Miniature Poodle</td>\n",
       "      <td>Tan</td>\n",
       "    </tr>\n",
       "  </tbody>\n",
       "</table>\n",
       "</div>"
      ],
      "text/plain": [
       "  AnimalID     Name             DateTime      OutcomeType OutcomeSubtype  \\\n",
       "0  A671945  Hambone  2014-02-12 18:22:00  Return_to_owner            NaN   \n",
       "1  A656520    Emily  2013-10-13 12:44:00       Euthanasia      Suffering   \n",
       "2  A686464   Pearce  2015-01-31 12:28:00         Adoption         Foster   \n",
       "3  A683430      NaN  2014-07-11 19:09:00         Transfer        Partner   \n",
       "4  A667013      NaN  2013-11-15 12:52:00         Transfer        Partner   \n",
       "\n",
       "  AnimalType SexuponOutcome AgeuponOutcome                        Breed  \\\n",
       "0        Dog  Neutered Male         1 year        Shetland Sheepdog Mix   \n",
       "1        Cat  Spayed Female         1 year       Domestic Shorthair Mix   \n",
       "2        Dog  Neutered Male        2 years                 Pit Bull Mix   \n",
       "3        Cat    Intact Male        3 weeks       Domestic Shorthair Mix   \n",
       "4        Dog  Neutered Male        2 years  Lhasa Apso/Miniature Poodle   \n",
       "\n",
       "         Color  \n",
       "0  Brown/White  \n",
       "1  Cream Tabby  \n",
       "2   Blue/White  \n",
       "3   Blue Cream  \n",
       "4          Tan  "
      ]
     },
     "execution_count": 9,
     "metadata": {},
     "output_type": "execute_result"
    }
   ],
   "source": [
    "df = pd.read_csv('../input/train.csv')\n",
    "df.head()"
   ]
  },
  {
   "cell_type": "code",
   "execution_count": 10,
   "metadata": {
    "collapsed": false
   },
   "outputs": [
    {
     "name": "stdout",
     "output_type": "stream",
     "text": [
      "<class 'pandas.core.frame.DataFrame'>\n",
      "Int64Index: 26729 entries, 0 to 26728\n",
      "Data columns (total 27 columns):\n",
      "AnimalID          26729 non-null object\n",
      "Name              19038 non-null object\n",
      "DateTime          26729 non-null datetime64[ns]\n",
      "OutcomeType       26729 non-null object\n",
      "OutcomeSubtype    13117 non-null object\n",
      "AnimalType        26729 non-null object\n",
      "SexuponOutcome    26728 non-null object\n",
      "AgeuponOutcome    26711 non-null object\n",
      "Breed             26729 non-null object\n",
      "Color             26729 non-null object\n",
      "has_name          26729 non-null bool\n",
      "year              26729 non-null category\n",
      "month             26729 non-null category\n",
      "weekday           26729 non-null category\n",
      "week_end          26729 non-null bool\n",
      "hour              26729 non-null category\n",
      "period            26729 non-null object\n",
      "is_dog            26729 non-null bool\n",
      "condition         26728 non-null object\n",
      "is_male           26729 non-null bool\n",
      "age_in_days       26711 non-null float64\n",
      "age_in_years      26711 non-null float64\n",
      "age_in_months     26711 non-null float64\n",
      "pure_breed        26729 non-null bool\n",
      "cores_1           26729 non-null object\n",
      "cores_2           13924 non-null object\n",
      "bi_color          26729 non-null bool\n",
      "dtypes: bool(6), category(4), datetime64[ns](1), float64(3), object(13)\n",
      "memory usage: 3.9+ MB\n"
     ]
    }
   ],
   "source": [
    "df['has_name'] = pd.notnull(df['Name']).astype('bool8')\n",
    "#####\n",
    "df.DateTime = pd.to_datetime(df.DateTime)\n",
    "df['year'] = df.DateTime.dt.year.astype('category')\n",
    "df['month'] = df.DateTime.dt.month.astype('category')\n",
    "df['weekday'] = df.DateTime.dt.weekday.astype('category')\n",
    "df['week_end'] = df.weekday.isin([5,6])\n",
    "df['hour'] = df.DateTime.dt.hour.astype('category')\n",
    "def hour_period_map(x):\n",
    "    if x in [7,8,9,10,11,12]:\n",
    "        return 'morning'\n",
    "    elif x in [13,14,15,16,17,18]:\n",
    "        return 'afternoon'\n",
    "    elif x in [19,20,21,22,23]:\n",
    "        return 'night'\n",
    "    else:  # [0,1,2,3,4,5,6]\n",
    "        return 'dawn'\n",
    "    \n",
    "df['period'] = df.hour.apply(hour_period_map)\n",
    "#####\n",
    "df['is_dog'] = (df['AnimalType'] == 'Dog')\n",
    "####\n",
    "foo = df['SexuponOutcome'].str.split(expand=True)\n",
    "df['condition'] = foo[0].map({'Neutered': 'operated', 'Spayed':'operated', 'Intact': 'intact', 'Unknown': 'unknown'})\n",
    "df['is_male'] = (foo[1] == 'Male')\n",
    "#####\n",
    "time_multiplier = dict(year = 365, years=365, weeks = 7, month = 30, months=30, days = 1, week = 7, day= 1)\n",
    "foo = df['AgeuponOutcome'].str.split(expand=True)\n",
    "age = foo[0].astype('float32')\n",
    "period = foo[1]\n",
    "period = period.map(time_multiplier)\n",
    "df['age_in_days'] = age * period\n",
    "df['age_in_years'] = (df['age_in_days'] / 365).round()\n",
    "df['age_in_months'] = (df['age_in_days'] / 30).round()\n",
    "#####\n",
    "df['pure_breed'] = df.Breed.apply(lambda x : 'mix' not in x.lower()).astype('bool8')\n",
    "####\n",
    "cores = df.Color.str.split('/', expand=True)\n",
    "\n",
    "df['cores_1'] = cores[0].str.split(expand=True).ix[:,0]\n",
    "df['cores_2'] = cores[1].str.split(expand=True).ix[:,0]\n",
    "df['bi_color'] =  df.Color.str.contains('/').astype('bool8')\n",
    "####\n",
    "df.info()"
   ]
  },
  {
   "cell_type": "code",
   "execution_count": 11,
   "metadata": {
    "collapsed": false
   },
   "outputs": [],
   "source": [
    "#foo = df.groupby(['OutcomeType','cores_1'])['AnimalID'].count()\n",
    "#foo = foo.unstack(level=0)\n",
    "\n",
    "#foo.divide(np.sum(foo, axis=1), axis=0)\n",
    "#foo = ' '.join(df.Breed.ravel()).replace('/', ' ').split()\n",
    "#hair =  pd.value_counts([f for f in foo if 'hair' in f.lower()])\n"
   ]
  },
  {
   "cell_type": "code",
   "execution_count": 12,
   "metadata": {
    "collapsed": false
   },
   "outputs": [],
   "source": [
    "df2 = df[['has_name', \n",
    "          'year',\n",
    "          'month', \n",
    "          'weekday', \n",
    "          #'weekend',\n",
    "          #'period', \n",
    "          'hour',\n",
    "          'is_dog', \n",
    "          'condition', \n",
    "          'is_male', \n",
    "          #'age_in_days', \n",
    "          #'age_in_months',\n",
    "          'age_in_years',\n",
    "          'pure_breed', \n",
    "          'cores_1', \n",
    "          'cores_2', \n",
    "          'bi_color', \n",
    "          'OutcomeType']]\n",
    "df2 = pd.get_dummies(df2, columns=['year', \n",
    "                                   'month', \n",
    "                                   'weekday', \n",
    "                                   #'weekend',\n",
    "                                   #'period', \n",
    "                                   'hour',                                   \n",
    "                                   'condition', \n",
    "                                   'cores_1', \n",
    "                                   'cores_2'])\n",
    "df2.dropna(axis=0, inplace=True)\n",
    "y = df2['OutcomeType']\n",
    "x = df2.drop('OutcomeType', axis=1)\n",
    "#x_norm = normalize(x, 'l2')"
   ]
  },
  {
   "cell_type": "code",
   "execution_count": 13,
   "metadata": {
    "collapsed": false
   },
   "outputs": [
    {
     "name": "stdout",
     "output_type": "stream",
     "text": [
      "Fitting 3 folds for each of 15 candidates, totalling 45 fits\n",
      "[CV] min_samples_leaf=1, n_estimators=50, max_depth=15 ...............\n",
      "[CV] min_samples_leaf=1, n_estimators=50, max_depth=15 ...............\n",
      "[CV] min_samples_leaf=1, n_estimators=50, max_depth=15 ...............\n",
      "[CV] min_samples_leaf=2, n_estimators=50, max_depth=15 ...............\n",
      "[CV]  min_samples_leaf=1, n_estimators=50, max_depth=15, score=-0.826133 -   2.6s\n",
      "[CV] min_samples_leaf=2, n_estimators=50, max_depth=15 ...............\n"
     ]
    },
    {
     "name": "stderr",
     "output_type": "stream",
     "text": [
      "[Parallel(n_jobs=4)]: Done   1 jobs       | elapsed:    2.6s\n"
     ]
    },
    {
     "name": "stdout",
     "output_type": "stream",
     "text": [
      "[CV]  min_samples_leaf=1, n_estimators=50, max_depth=15, score=-0.820980 -   2.8s\n",
      "[CV]  min_samples_leaf=2, n_estimators=50, max_depth=15, score=-0.832302 -   2.6s\n",
      "[CV] min_samples_leaf=2, n_estimators=50, max_depth=15 ...............\n",
      "[CV] min_samples_leaf=3, n_estimators=50, max_depth=15 ...............\n",
      "[CV]  min_samples_leaf=1, n_estimators=50, max_depth=15, score=-0.813493 -   2.9s\n",
      "[CV] min_samples_leaf=3, n_estimators=50, max_depth=15 ...............\n",
      "[CV]  min_samples_leaf=2, n_estimators=50, max_depth=15, score=-0.819005 -   2.5s\n",
      "[CV] min_samples_leaf=3, n_estimators=50, max_depth=15 ...............\n",
      "[CV]  min_samples_leaf=2, n_estimators=50, max_depth=15, score=-0.824517 -   2.9s\n",
      "[CV]  min_samples_leaf=3, n_estimators=50, max_depth=15, score=-0.834168 -   2.5s\n",
      "[CV] min_samples_leaf=1, n_estimators=50, max_depth=18 ...............\n",
      "[CV] min_samples_leaf=1, n_estimators=50, max_depth=18 ...............\n",
      "[CV]  min_samples_leaf=3, n_estimators=50, max_depth=15, score=-0.831539 -   2.6s\n",
      "[CV] min_samples_leaf=1, n_estimators=50, max_depth=18 ...............\n",
      "[CV]  min_samples_leaf=3, n_estimators=50, max_depth=15, score=-0.824748 -   2.5s\n",
      "[CV] min_samples_leaf=2, n_estimators=50, max_depth=18 ...............\n",
      "[CV]  min_samples_leaf=1, n_estimators=50, max_depth=18, score=-0.812627 -   3.0s\n",
      "[CV] min_samples_leaf=2, n_estimators=50, max_depth=18 ...............\n",
      "[CV]  min_samples_leaf=1, n_estimators=50, max_depth=18, score=-0.803940 -   3.0s\n",
      "[CV] min_samples_leaf=2, n_estimators=50, max_depth=18 ...............\n",
      "[CV]  min_samples_leaf=1, n_estimators=50, max_depth=18, score=-0.815379 -   3.5s\n",
      "[CV] min_samples_leaf=3, n_estimators=50, max_depth=18 ...............\n",
      "[CV]  min_samples_leaf=2, n_estimators=50, max_depth=18, score=-0.818538 -   2.8s\n",
      "[CV] min_samples_leaf=3, n_estimators=50, max_depth=18 ...............\n",
      "[CV]  min_samples_leaf=2, n_estimators=50, max_depth=18, score=-0.812692 -   2.8s\n",
      "[CV] min_samples_leaf=3, n_estimators=50, max_depth=18 ...............\n",
      "[CV]  min_samples_leaf=3, n_estimators=50, max_depth=18, score=-0.824923 -   2.9s\n",
      "[CV] min_samples_leaf=1, n_estimators=50, max_depth=22 ...............\n",
      "[CV]  min_samples_leaf=2, n_estimators=50, max_depth=18, score=-0.807548 -   3.1s\n",
      "[CV] min_samples_leaf=1, n_estimators=50, max_depth=22 ...............\n",
      "[CV]  min_samples_leaf=3, n_estimators=50, max_depth=18, score=-0.824533 -   2.6s\n",
      "[CV] min_samples_leaf=1, n_estimators=50, max_depth=22 ...............\n",
      "[CV]  min_samples_leaf=3, n_estimators=50, max_depth=18, score=-0.811832 -   3.0s\n",
      "[CV] min_samples_leaf=2, n_estimators=50, max_depth=22 ...............\n",
      "[CV]  min_samples_leaf=1, n_estimators=50, max_depth=22, score=-0.822224 -   3.9s\n",
      "[CV] min_samples_leaf=2, n_estimators=50, max_depth=22 ...............\n",
      "[CV]  min_samples_leaf=1, n_estimators=50, max_depth=22, score=-0.816494 -   4.0s\n",
      "[CV] min_samples_leaf=2, n_estimators=50, max_depth=22 ...............\n",
      "[CV]  min_samples_leaf=2, n_estimators=50, max_depth=22, score=-0.811568 -   3.4s\n",
      "[CV] min_samples_leaf=3, n_estimators=50, max_depth=22 ...............\n",
      "[CV]  min_samples_leaf=1, n_estimators=50, max_depth=22, score=-0.814442 -   4.6s\n",
      "[CV] min_samples_leaf=3, n_estimators=50, max_depth=22 ...............\n",
      "[CV]  min_samples_leaf=2, n_estimators=50, max_depth=22, score=-0.804860 -   3.1s\n",
      "[CV]  min_samples_leaf=2, n_estimators=50, max_depth=22, score=-0.813947 -   3.3s\n",
      "[CV] min_samples_leaf=3, n_estimators=50, max_depth=22 ...............\n",
      "[CV] min_samples_leaf=1, n_estimators=50, max_depth=26 ...............\n",
      "[CV]  min_samples_leaf=3, n_estimators=50, max_depth=22, score=-0.820931 -   2.9s\n",
      "[CV] min_samples_leaf=1, n_estimators=50, max_depth=26 ...............\n",
      "[CV]  min_samples_leaf=3, n_estimators=50, max_depth=22, score=-0.818043 -   3.1s\n",
      "[CV] min_samples_leaf=1, n_estimators=50, max_depth=26 ...............\n",
      "[CV]  min_samples_leaf=3, n_estimators=50, max_depth=22, score=-0.807595 -   2.9s\n",
      "[CV] min_samples_leaf=2, n_estimators=50, max_depth=26 ...............\n",
      "[CV]  min_samples_leaf=1, n_estimators=50, max_depth=26, score=-0.857685 -   3.9s\n",
      "[CV] min_samples_leaf=2, n_estimators=50, max_depth=26 ...............\n",
      "[CV]  min_samples_leaf=1, n_estimators=50, max_depth=26, score=-0.885832 -   3.8s\n",
      "[CV] min_samples_leaf=2, n_estimators=50, max_depth=26 ...............\n",
      "[CV]  min_samples_leaf=2, n_estimators=50, max_depth=26, score=-0.830386 -   3.1s\n",
      "[CV] min_samples_leaf=3, n_estimators=50, max_depth=26 ...............\n",
      "[CV]  min_samples_leaf=1, n_estimators=50, max_depth=26, score=-0.835845 -   4.1s\n",
      "[CV] min_samples_leaf=3, n_estimators=50, max_depth=26 ...............\n",
      "[CV]  min_samples_leaf=2, n_estimators=50, max_depth=26, score=-0.818694 -   3.3s\n",
      "[CV] min_samples_leaf=3, n_estimators=50, max_depth=26 ...............\n"
     ]
    },
    {
     "name": "stderr",
     "output_type": "stream",
     "text": [
      "[Parallel(n_jobs=4)]: Done  32 jobs       | elapsed:   26.8s\n"
     ]
    },
    {
     "name": "stdout",
     "output_type": "stream",
     "text": [
      "[CV]  min_samples_leaf=2, n_estimators=50, max_depth=26, score=-0.809888 -   3.2s\n",
      "[CV] min_samples_leaf=1, n_estimators=50, max_depth=30 ...............\n",
      "[CV]  min_samples_leaf=3, n_estimators=50, max_depth=26, score=-0.826535 -   3.1s\n",
      "[CV] min_samples_leaf=1, n_estimators=50, max_depth=30 ...............\n",
      "[CV]  min_samples_leaf=3, n_estimators=50, max_depth=26, score=-0.816385 -   3.1s\n",
      "[CV] min_samples_leaf=1, n_estimators=50, max_depth=30 ...............\n",
      "[CV]  min_samples_leaf=3, n_estimators=50, max_depth=26, score=-0.813794 -   3.3s\n",
      "[CV] min_samples_leaf=2, n_estimators=50, max_depth=30 ...............\n",
      "[CV]  min_samples_leaf=1, n_estimators=50, max_depth=30, score=-0.943921 -   4.1s\n",
      "[CV] min_samples_leaf=2, n_estimators=50, max_depth=30 ...............\n",
      "[CV]  min_samples_leaf=1, n_estimators=50, max_depth=30, score=-0.945700 -   3.8s\n",
      "[CV] min_samples_leaf=2, n_estimators=50, max_depth=30 ...............\n",
      "[CV]  min_samples_leaf=1, n_estimators=50, max_depth=30, score=-0.953527 -   4.0s\n",
      "[CV] min_samples_leaf=3, n_estimators=50, max_depth=30 ...............\n"
     ]
    },
    {
     "name": "stderr",
     "output_type": "stream",
     "text": [
      "[Parallel(n_jobs=4)]: Done  39 out of  45 | elapsed:   33.0s remaining:    5.1s\n"
     ]
    },
    {
     "name": "stdout",
     "output_type": "stream",
     "text": [
      "[CV]  min_samples_leaf=2, n_estimators=50, max_depth=30, score=-0.822863 -   3.4s\n",
      "[CV] min_samples_leaf=3, n_estimators=50, max_depth=30 ...............\n",
      "[CV]  min_samples_leaf=2, n_estimators=50, max_depth=30, score=-0.822546 -   3.4s\n",
      "[CV] min_samples_leaf=3, n_estimators=50, max_depth=30 ...............\n",
      "[CV]  min_samples_leaf=2, n_estimators=50, max_depth=30, score=-0.810669 -   3.4s\n",
      "[CV]  min_samples_leaf=3, n_estimators=50, max_depth=30, score=-0.831143 -   3.1s\n",
      "[CV]  min_samples_leaf=3, n_estimators=50, max_depth=30, score=-0.819814 -   2.7s\n",
      "[CV]  min_samples_leaf=3, n_estimators=50, max_depth=30, score=-0.816479 -   1.9s\n"
     ]
    },
    {
     "name": "stderr",
     "output_type": "stream",
     "text": [
      "[Parallel(n_jobs=4)]: Done  45 out of  45 | elapsed:   37.7s finished\n"
     ]
    },
    {
     "name": "stdout",
     "output_type": "stream",
     "text": [
      "-0.810125806577\n",
      "{'min_samples_leaf': 2, 'n_estimators': 50, 'max_depth': 22}\n"
     ]
    }
   ],
   "source": [
    "rfc_params = {\n",
    "    'n_estimators' : [50], # np.linspace(100, 700, 3, dtype='int'),\n",
    "    'max_depth': np.linspace(15, 30, 5, dtype='int'),\n",
    "    'min_samples_leaf': [1,2,3], # np.linspace(1, 3, 2, dtype='int'),   \n",
    "    #'class_weight' : [None, 'balanced'],\n",
    "}\n",
    "rf_grid = GridSearchCV(RandomForestClassifier(), rfc_params, verbose=3, scoring='log_loss', n_jobs=4)\n",
    "rf_grid.fit(x, y)\n",
    "print(rf_grid.best_score_)\n",
    "print(rf_grid.best_params_)"
   ]
  },
  {
   "cell_type": "code",
   "execution_count": 15,
   "metadata": {
    "collapsed": false
   },
   "outputs": [
    {
     "name": "stdout",
     "output_type": "stream",
     "text": [
      "Fitting 3 folds for each of 27 candidates, totalling 81 fits\n",
      "[CV] n_estimators=10, subsample=0.6, learning_rate=0.1, max_depth=4 ..\n",
      "[CV] n_estimators=10, subsample=0.6, learning_rate=0.1, max_depth=4 ..\n",
      "[CV] n_estimators=10, subsample=0.6, learning_rate=0.1, max_depth=4 ..\n",
      "[CV] n_estimators=10, subsample=0.8, learning_rate=0.1, max_depth=4 ..\n",
      "[CV]  n_estimators=10, subsample=0.6, learning_rate=0.1, max_depth=4, score=-0.960435 -   8.2s\n",
      "[CV] n_estimators=10, subsample=0.8, learning_rate=0.1, max_depth=4 ..\n",
      "[CV]  n_estimators=10, subsample=0.6, learning_rate=0.1, max_depth=4, score=-0.958243 -   8.2s\n",
      "[CV] n_estimators=10, subsample=0.8, learning_rate=0.1, max_depth=4 ..\n"
     ]
    },
    {
     "name": "stderr",
     "output_type": "stream",
     "text": [
      "[Parallel(n_jobs=4)]: Done   1 jobs       | elapsed:    8.3s\n"
     ]
    },
    {
     "name": "stdout",
     "output_type": "stream",
     "text": [
      "[CV]  n_estimators=10, subsample=0.6, learning_rate=0.1, max_depth=4, score=-0.956274 -   8.3s\n",
      "[CV] n_estimators=10, subsample=1.0, learning_rate=0.1, max_depth=4 ..\n",
      "[CV]  n_estimators=10, subsample=0.8, learning_rate=0.1, max_depth=4, score=-0.962637 -   9.8s\n",
      "[CV] n_estimators=10, subsample=1.0, learning_rate=0.1, max_depth=4 ..\n",
      "[CV]  n_estimators=10, subsample=0.8, learning_rate=0.1, max_depth=4, score=-0.958735 -   9.0s\n",
      "[CV] n_estimators=10, subsample=1.0, learning_rate=0.1, max_depth=4 ..\n",
      "[CV]  n_estimators=10, subsample=1.0, learning_rate=0.1, max_depth=4, score=-0.963287 -   9.3s\n",
      "[CV] n_estimators=10, subsample=0.6, learning_rate=0.1, max_depth=6 ..\n",
      "[CV]  n_estimators=10, subsample=0.8, learning_rate=0.1, max_depth=4, score=-0.955485 -   9.5s\n",
      "[CV] n_estimators=10, subsample=0.6, learning_rate=0.1, max_depth=6 ..\n",
      "[CV]  n_estimators=10, subsample=1.0, learning_rate=0.1, max_depth=4, score=-0.959254 -   9.2s\n",
      "[CV] n_estimators=10, subsample=0.6, learning_rate=0.1, max_depth=6 ..\n",
      "[CV]  n_estimators=10, subsample=1.0, learning_rate=0.1, max_depth=4, score=-0.955434 -   9.6s\n",
      "[CV] n_estimators=10, subsample=0.8, learning_rate=0.1, max_depth=6 ..\n",
      "[CV]  n_estimators=10, subsample=0.6, learning_rate=0.1, max_depth=6, score=-0.934321 -  16.4s\n",
      "[CV] n_estimators=10, subsample=0.8, learning_rate=0.1, max_depth=6 ..\n",
      "[CV]  n_estimators=10, subsample=0.6, learning_rate=0.1, max_depth=6, score=-0.931756 -  17.2s\n",
      "[CV]  n_estimators=10, subsample=0.6, learning_rate=0.1, max_depth=6, score=-0.937436 -  18.7s\n",
      "[CV] n_estimators=10, subsample=0.8, learning_rate=0.1, max_depth=6 ..\n",
      "[CV] n_estimators=10, subsample=1.0, learning_rate=0.1, max_depth=6 ..\n",
      "[CV]  n_estimators=10, subsample=0.8, learning_rate=0.1, max_depth=6, score=-0.937861 -  19.6s\n",
      "[CV] n_estimators=10, subsample=1.0, learning_rate=0.1, max_depth=6 ..\n",
      "[CV]  n_estimators=10, subsample=0.8, learning_rate=0.1, max_depth=6, score=-0.934584 -  18.1s\n",
      "[CV] n_estimators=10, subsample=1.0, learning_rate=0.1, max_depth=6 ..\n",
      "[CV]  n_estimators=10, subsample=0.8, learning_rate=0.1, max_depth=6, score=-0.931991 -  19.6s\n",
      "[CV] n_estimators=10, subsample=0.6, learning_rate=0.1, max_depth=8 ..\n",
      "[CV]  n_estimators=10, subsample=1.0, learning_rate=0.1, max_depth=6, score=-0.939016 -  20.3s\n",
      "[CV] n_estimators=10, subsample=0.6, learning_rate=0.1, max_depth=8 ..\n",
      "[CV]  n_estimators=10, subsample=1.0, learning_rate=0.1, max_depth=6, score=-0.935502 -  18.8s\n",
      "[CV] n_estimators=10, subsample=0.6, learning_rate=0.1, max_depth=8 ..\n",
      "[CV]  n_estimators=10, subsample=1.0, learning_rate=0.1, max_depth=6, score=-0.931173 -  19.3s\n",
      "[CV] n_estimators=10, subsample=0.8, learning_rate=0.1, max_depth=8 ..\n",
      "[CV]  n_estimators=10, subsample=0.6, learning_rate=0.1, max_depth=8, score=-0.923730 -  27.2s\n",
      "[CV] n_estimators=10, subsample=0.8, learning_rate=0.1, max_depth=8 ..\n",
      "[CV]  n_estimators=10, subsample=0.6, learning_rate=0.1, max_depth=8, score=-0.920392 -  27.9s\n",
      "[CV] n_estimators=10, subsample=0.8, learning_rate=0.1, max_depth=8 ..\n",
      "[CV]  n_estimators=10, subsample=0.6, learning_rate=0.1, max_depth=8, score=-0.918982 -  27.1s\n",
      "[CV] n_estimators=10, subsample=1.0, learning_rate=0.1, max_depth=8 ..\n",
      "[CV]  n_estimators=10, subsample=0.8, learning_rate=0.1, max_depth=8, score=-0.921818 -  30.4s\n",
      "[CV] n_estimators=10, subsample=1.0, learning_rate=0.1, max_depth=8 ..\n",
      "[CV]  n_estimators=10, subsample=0.8, learning_rate=0.1, max_depth=8, score=-0.915934 -  30.2s\n",
      "[CV] n_estimators=10, subsample=1.0, learning_rate=0.1, max_depth=8 ..\n",
      "[CV]  n_estimators=10, subsample=0.8, learning_rate=0.1, max_depth=8, score=-0.921336 -  33.3s\n",
      "[CV] n_estimators=10, subsample=0.6, learning_rate=0.2, max_depth=4 ..\n",
      "[CV]  n_estimators=10, subsample=0.6, learning_rate=0.2, max_depth=4, score=-0.860928 -   8.1s\n",
      "[CV] n_estimators=10, subsample=0.6, learning_rate=0.2, max_depth=4 ..\n",
      "[CV]  n_estimators=10, subsample=1.0, learning_rate=0.1, max_depth=8, score=-0.925048 -  33.1s\n",
      "[CV] n_estimators=10, subsample=0.6, learning_rate=0.2, max_depth=4 ..\n",
      "[CV]  n_estimators=10, subsample=0.6, learning_rate=0.2, max_depth=4, score=-0.856425 -   7.9s\n",
      "[CV] n_estimators=10, subsample=0.8, learning_rate=0.2, max_depth=4 ..\n",
      "[CV]  n_estimators=10, subsample=0.6, learning_rate=0.2, max_depth=4, score=-0.851558 -   8.9s\n",
      "[CV] n_estimators=10, subsample=0.8, learning_rate=0.2, max_depth=4 ..\n",
      "[CV]  n_estimators=10, subsample=1.0, learning_rate=0.1, max_depth=8, score=-0.924551 -  33.8s\n",
      "[CV] n_estimators=10, subsample=0.8, learning_rate=0.2, max_depth=4 ..\n",
      "[CV]  n_estimators=10, subsample=0.8, learning_rate=0.2, max_depth=4, score=-0.858246 -   9.3s\n",
      "[CV] n_estimators=10, subsample=1.0, learning_rate=0.2, max_depth=4 ..\n",
      "[CV]  n_estimators=10, subsample=0.8, learning_rate=0.2, max_depth=4, score=-0.854194 -  10.5s\n",
      "[CV] n_estimators=10, subsample=1.0, learning_rate=0.2, max_depth=4 ..\n"
     ]
    },
    {
     "name": "stderr",
     "output_type": "stream",
     "text": [
      "[Parallel(n_jobs=4)]: Done  32 jobs       | elapsed:  2.4min\n"
     ]
    },
    {
     "name": "stdout",
     "output_type": "stream",
     "text": [
      "[CV]  n_estimators=10, subsample=0.8, learning_rate=0.2, max_depth=4, score=-0.848452 -   9.6s\n",
      "[CV] n_estimators=10, subsample=1.0, learning_rate=0.2, max_depth=4 ..\n",
      "[CV]  n_estimators=10, subsample=1.0, learning_rate=0.1, max_depth=8, score=-0.918481 -  34.6s\n",
      "[CV] n_estimators=10, subsample=0.6, learning_rate=0.2, max_depth=6 ..\n",
      "[CV]  n_estimators=10, subsample=1.0, learning_rate=0.2, max_depth=4, score=-0.858427 -   9.4s\n",
      "[CV] n_estimators=10, subsample=0.6, learning_rate=0.2, max_depth=6 ..\n",
      "[CV]  n_estimators=10, subsample=1.0, learning_rate=0.2, max_depth=4, score=-0.855656 -  10.0s\n",
      "[CV] n_estimators=10, subsample=0.6, learning_rate=0.2, max_depth=6 ..\n",
      "[CV]  n_estimators=10, subsample=1.0, learning_rate=0.2, max_depth=4, score=-0.848619 -   9.5s\n",
      "[CV] n_estimators=10, subsample=0.8, learning_rate=0.2, max_depth=6 ..\n",
      "[CV]  n_estimators=10, subsample=0.6, learning_rate=0.2, max_depth=6, score=-0.844474 -  15.1s\n",
      "[CV] n_estimators=10, subsample=0.8, learning_rate=0.2, max_depth=6 ..\n",
      "[CV]  n_estimators=10, subsample=0.6, learning_rate=0.2, max_depth=6, score=-0.837227 -  16.2s\n",
      "[CV] n_estimators=10, subsample=0.8, learning_rate=0.2, max_depth=6 ..\n",
      "[CV]  n_estimators=10, subsample=0.6, learning_rate=0.2, max_depth=6, score=-0.826731 -  15.4s\n",
      "[CV] n_estimators=10, subsample=1.0, learning_rate=0.2, max_depth=6 ..\n",
      "[CV]  n_estimators=10, subsample=0.8, learning_rate=0.2, max_depth=6, score=-0.841294 -  17.0s\n",
      "[CV] n_estimators=10, subsample=1.0, learning_rate=0.2, max_depth=6 ..\n",
      "[CV]  n_estimators=10, subsample=0.8, learning_rate=0.2, max_depth=6, score=-0.837182 -  17.2s\n",
      "[CV] n_estimators=10, subsample=1.0, learning_rate=0.2, max_depth=6 ..\n",
      "[CV]  n_estimators=10, subsample=0.8, learning_rate=0.2, max_depth=6, score=-0.825269 -  16.9s\n",
      "[CV] n_estimators=10, subsample=0.6, learning_rate=0.2, max_depth=8 ..\n",
      "[CV]  n_estimators=10, subsample=1.0, learning_rate=0.2, max_depth=6, score=-0.838753 -  18.3s\n",
      "[CV] n_estimators=10, subsample=0.6, learning_rate=0.2, max_depth=8 ..\n",
      "[CV]  n_estimators=10, subsample=1.0, learning_rate=0.2, max_depth=6, score=-0.833768 -  18.3s\n",
      "[CV] n_estimators=10, subsample=0.6, learning_rate=0.2, max_depth=8 ..\n",
      "[CV]  n_estimators=10, subsample=1.0, learning_rate=0.2, max_depth=6, score=-0.827209 -  19.6s\n",
      "[CV] n_estimators=10, subsample=0.8, learning_rate=0.2, max_depth=8 ..\n",
      "[CV]  n_estimators=10, subsample=0.6, learning_rate=0.2, max_depth=8, score=-0.834262 -  26.1s\n",
      "[CV] n_estimators=10, subsample=0.8, learning_rate=0.2, max_depth=8 ..\n",
      "[CV]  n_estimators=10, subsample=0.6, learning_rate=0.2, max_depth=8, score=-0.826642 -  26.3s\n",
      "[CV] n_estimators=10, subsample=0.8, learning_rate=0.2, max_depth=8 ..\n",
      "[CV]  n_estimators=10, subsample=0.6, learning_rate=0.2, max_depth=8, score=-0.834255 -  28.2s\n",
      "[CV] n_estimators=10, subsample=1.0, learning_rate=0.2, max_depth=8 ..\n",
      "[CV]  n_estimators=10, subsample=0.8, learning_rate=0.2, max_depth=8, score=-0.834693 -  29.7s\n",
      "[CV] n_estimators=10, subsample=1.0, learning_rate=0.2, max_depth=8 ..\n",
      "[CV]  n_estimators=10, subsample=0.8, learning_rate=0.2, max_depth=8, score=-0.836794 -  33.0s\n",
      "[CV] n_estimators=10, subsample=1.0, learning_rate=0.2, max_depth=8 ..\n",
      "[CV]  n_estimators=10, subsample=0.8, learning_rate=0.2, max_depth=8, score=-0.822255 -  30.2s\n",
      "[CV] n_estimators=10, subsample=0.6, learning_rate=0.3, max_depth=4 ..\n",
      "[CV]  n_estimators=10, subsample=1.0, learning_rate=0.2, max_depth=8, score=-0.836059 -  33.4s\n",
      "[CV] n_estimators=10, subsample=0.6, learning_rate=0.3, max_depth=4 ..\n",
      "[CV]  n_estimators=10, subsample=0.6, learning_rate=0.3, max_depth=4, score=-0.834629 -   8.6s\n",
      "[CV] n_estimators=10, subsample=0.6, learning_rate=0.3, max_depth=4 ..\n"
     ]
    },
    {
     "ename": "KeyboardInterrupt",
     "evalue": "",
     "output_type": "error",
     "traceback": [
      "\u001b[1;31m---------------------------------------------------------------------------\u001b[0m",
      "\u001b[1;31mKeyboardInterrupt\u001b[0m                         Traceback (most recent call last)",
      "\u001b[1;32m<ipython-input-15-0dfb3ba7947e>\u001b[0m in \u001b[0;36m<module>\u001b[1;34m()\u001b[0m\n\u001b[0;32m      6\u001b[0m }\n\u001b[0;32m      7\u001b[0m \u001b[0mgrad_grid\u001b[0m \u001b[1;33m=\u001b[0m \u001b[0mGridSearchCV\u001b[0m\u001b[1;33m(\u001b[0m\u001b[0mGradientBoostingClassifier\u001b[0m\u001b[1;33m(\u001b[0m\u001b[1;33m)\u001b[0m\u001b[1;33m,\u001b[0m \u001b[0mgrad_params\u001b[0m\u001b[1;33m,\u001b[0m \u001b[0mverbose\u001b[0m\u001b[1;33m=\u001b[0m\u001b[1;36m3\u001b[0m\u001b[1;33m,\u001b[0m \u001b[0mscoring\u001b[0m\u001b[1;33m=\u001b[0m\u001b[1;34m'log_loss'\u001b[0m\u001b[1;33m,\u001b[0m \u001b[0mn_jobs\u001b[0m\u001b[1;33m=\u001b[0m\u001b[1;36m4\u001b[0m\u001b[1;33m)\u001b[0m\u001b[1;33m\u001b[0m\u001b[0m\n\u001b[1;32m----> 8\u001b[1;33m \u001b[0mgrad_grid\u001b[0m\u001b[1;33m.\u001b[0m\u001b[0mfit\u001b[0m\u001b[1;33m(\u001b[0m\u001b[0mx\u001b[0m\u001b[1;33m,\u001b[0m \u001b[0my\u001b[0m\u001b[1;33m)\u001b[0m\u001b[1;33m\u001b[0m\u001b[0m\n\u001b[0m\u001b[0;32m      9\u001b[0m \u001b[0mprint\u001b[0m\u001b[1;33m(\u001b[0m\u001b[0mgrad_grid\u001b[0m\u001b[1;33m.\u001b[0m\u001b[0mbest_score_\u001b[0m\u001b[1;33m)\u001b[0m\u001b[1;33m\u001b[0m\u001b[0m\n\u001b[0;32m     10\u001b[0m \u001b[0mprint\u001b[0m\u001b[1;33m(\u001b[0m\u001b[0mgrad_grid\u001b[0m\u001b[1;33m.\u001b[0m\u001b[0mbest_params_\u001b[0m\u001b[1;33m)\u001b[0m\u001b[1;33m\u001b[0m\u001b[0m\n",
      "\u001b[1;32m/usr/lib64/python3.4/site-packages/sklearn/grid_search.py\u001b[0m in \u001b[0;36mfit\u001b[1;34m(self, X, y)\u001b[0m\n\u001b[0;32m    802\u001b[0m \u001b[1;33m\u001b[0m\u001b[0m\n\u001b[0;32m    803\u001b[0m         \"\"\"\n\u001b[1;32m--> 804\u001b[1;33m         \u001b[1;32mreturn\u001b[0m \u001b[0mself\u001b[0m\u001b[1;33m.\u001b[0m\u001b[0m_fit\u001b[0m\u001b[1;33m(\u001b[0m\u001b[0mX\u001b[0m\u001b[1;33m,\u001b[0m \u001b[0my\u001b[0m\u001b[1;33m,\u001b[0m \u001b[0mParameterGrid\u001b[0m\u001b[1;33m(\u001b[0m\u001b[0mself\u001b[0m\u001b[1;33m.\u001b[0m\u001b[0mparam_grid\u001b[0m\u001b[1;33m)\u001b[0m\u001b[1;33m)\u001b[0m\u001b[1;33m\u001b[0m\u001b[0m\n\u001b[0m\u001b[0;32m    805\u001b[0m \u001b[1;33m\u001b[0m\u001b[0m\n\u001b[0;32m    806\u001b[0m \u001b[1;33m\u001b[0m\u001b[0m\n",
      "\u001b[1;32m/usr/lib64/python3.4/site-packages/sklearn/grid_search.py\u001b[0m in \u001b[0;36m_fit\u001b[1;34m(self, X, y, parameter_iterable)\u001b[0m\n\u001b[0;32m    551\u001b[0m                                     \u001b[0mself\u001b[0m\u001b[1;33m.\u001b[0m\u001b[0mfit_params\u001b[0m\u001b[1;33m,\u001b[0m \u001b[0mreturn_parameters\u001b[0m\u001b[1;33m=\u001b[0m\u001b[1;32mTrue\u001b[0m\u001b[1;33m,\u001b[0m\u001b[1;33m\u001b[0m\u001b[0m\n\u001b[0;32m    552\u001b[0m                                     error_score=self.error_score)\n\u001b[1;32m--> 553\u001b[1;33m                 \u001b[1;32mfor\u001b[0m \u001b[0mparameters\u001b[0m \u001b[1;32min\u001b[0m \u001b[0mparameter_iterable\u001b[0m\u001b[1;33m\u001b[0m\u001b[0m\n\u001b[0m\u001b[0;32m    554\u001b[0m                 for train, test in cv)\n\u001b[0;32m    555\u001b[0m \u001b[1;33m\u001b[0m\u001b[0m\n",
      "\u001b[1;32m/usr/lib64/python3.4/site-packages/joblib/parallel.py\u001b[0m in \u001b[0;36m__call__\u001b[1;34m(self, iterable)\u001b[0m\n\u001b[0;32m    658\u001b[0m                 \u001b[1;31m# consumption.\u001b[0m\u001b[1;33m\u001b[0m\u001b[1;33m\u001b[0m\u001b[0m\n\u001b[0;32m    659\u001b[0m                 \u001b[0mself\u001b[0m\u001b[1;33m.\u001b[0m\u001b[0m_iterating\u001b[0m \u001b[1;33m=\u001b[0m \u001b[1;32mFalse\u001b[0m\u001b[1;33m\u001b[0m\u001b[0m\n\u001b[1;32m--> 660\u001b[1;33m             \u001b[0mself\u001b[0m\u001b[1;33m.\u001b[0m\u001b[0mretrieve\u001b[0m\u001b[1;33m(\u001b[0m\u001b[1;33m)\u001b[0m\u001b[1;33m\u001b[0m\u001b[0m\n\u001b[0m\u001b[0;32m    661\u001b[0m             \u001b[1;31m# Make sure that we get a last message telling us we are done\u001b[0m\u001b[1;33m\u001b[0m\u001b[1;33m\u001b[0m\u001b[0m\n\u001b[0;32m    662\u001b[0m             \u001b[0melapsed_time\u001b[0m \u001b[1;33m=\u001b[0m \u001b[0mtime\u001b[0m\u001b[1;33m.\u001b[0m\u001b[0mtime\u001b[0m\u001b[1;33m(\u001b[0m\u001b[1;33m)\u001b[0m \u001b[1;33m-\u001b[0m \u001b[0mself\u001b[0m\u001b[1;33m.\u001b[0m\u001b[0m_start_time\u001b[0m\u001b[1;33m\u001b[0m\u001b[0m\n",
      "\u001b[1;32m/usr/lib64/python3.4/site-packages/joblib/parallel.py\u001b[0m in \u001b[0;36mretrieve\u001b[1;34m(self)\u001b[0m\n\u001b[0;32m    524\u001b[0m                             \u001b[1;31m# We can now allow subprocesses again\u001b[0m\u001b[1;33m\u001b[0m\u001b[1;33m\u001b[0m\u001b[0m\n\u001b[0;32m    525\u001b[0m                             \u001b[0mos\u001b[0m\u001b[1;33m.\u001b[0m\u001b[0menviron\u001b[0m\u001b[1;33m.\u001b[0m\u001b[0mpop\u001b[0m\u001b[1;33m(\u001b[0m\u001b[1;34m'__JOBLIB_SPAWNED_PARALLEL__'\u001b[0m\u001b[1;33m,\u001b[0m \u001b[1;36m0\u001b[0m\u001b[1;33m)\u001b[0m\u001b[1;33m\u001b[0m\u001b[0m\n\u001b[1;32m--> 526\u001b[1;33m                         \u001b[1;32mraise\u001b[0m \u001b[0mexception\u001b[0m\u001b[1;33m\u001b[0m\u001b[0m\n\u001b[0m\u001b[0;32m    527\u001b[0m                     \u001b[1;32melif\u001b[0m \u001b[0misinstance\u001b[0m\u001b[1;33m(\u001b[0m\u001b[0mexception\u001b[0m\u001b[1;33m,\u001b[0m \u001b[0mTransportableException\u001b[0m\u001b[1;33m)\u001b[0m\u001b[1;33m:\u001b[0m\u001b[1;33m\u001b[0m\u001b[0m\n\u001b[0;32m    528\u001b[0m                         \u001b[1;31m# Capture exception to add information on the local\u001b[0m\u001b[1;33m\u001b[0m\u001b[1;33m\u001b[0m\u001b[0m\n",
      "\u001b[1;32m/usr/lib64/python3.4/site-packages/joblib/parallel.py\u001b[0m in \u001b[0;36mretrieve\u001b[1;34m(self)\u001b[0m\n\u001b[0;32m    510\u001b[0m                 \u001b[0mself\u001b[0m\u001b[1;33m.\u001b[0m\u001b[0m_lock\u001b[0m\u001b[1;33m.\u001b[0m\u001b[0mrelease\u001b[0m\u001b[1;33m(\u001b[0m\u001b[1;33m)\u001b[0m\u001b[1;33m\u001b[0m\u001b[0m\n\u001b[0;32m    511\u001b[0m             \u001b[1;32mtry\u001b[0m\u001b[1;33m:\u001b[0m\u001b[1;33m\u001b[0m\u001b[0m\n\u001b[1;32m--> 512\u001b[1;33m                 \u001b[0mself\u001b[0m\u001b[1;33m.\u001b[0m\u001b[0m_output\u001b[0m\u001b[1;33m.\u001b[0m\u001b[0mappend\u001b[0m\u001b[1;33m(\u001b[0m\u001b[0mjob\u001b[0m\u001b[1;33m.\u001b[0m\u001b[0mget\u001b[0m\u001b[1;33m(\u001b[0m\u001b[1;33m)\u001b[0m\u001b[1;33m)\u001b[0m\u001b[1;33m\u001b[0m\u001b[0m\n\u001b[0m\u001b[0;32m    513\u001b[0m             \u001b[1;32mexcept\u001b[0m \u001b[0mtuple\u001b[0m\u001b[1;33m(\u001b[0m\u001b[0mself\u001b[0m\u001b[1;33m.\u001b[0m\u001b[0mexceptions\u001b[0m\u001b[1;33m)\u001b[0m \u001b[1;32mas\u001b[0m \u001b[0mexception\u001b[0m\u001b[1;33m:\u001b[0m\u001b[1;33m\u001b[0m\u001b[0m\n\u001b[0;32m    514\u001b[0m                 \u001b[1;32mtry\u001b[0m\u001b[1;33m:\u001b[0m\u001b[1;33m\u001b[0m\u001b[0m\n",
      "\u001b[1;32m/usr/lib64/python3.4/multiprocessing/pool.py\u001b[0m in \u001b[0;36mget\u001b[1;34m(self, timeout)\u001b[0m\n\u001b[0;32m    591\u001b[0m \u001b[1;33m\u001b[0m\u001b[0m\n\u001b[0;32m    592\u001b[0m     \u001b[1;32mdef\u001b[0m \u001b[0mget\u001b[0m\u001b[1;33m(\u001b[0m\u001b[0mself\u001b[0m\u001b[1;33m,\u001b[0m \u001b[0mtimeout\u001b[0m\u001b[1;33m=\u001b[0m\u001b[1;32mNone\u001b[0m\u001b[1;33m)\u001b[0m\u001b[1;33m:\u001b[0m\u001b[1;33m\u001b[0m\u001b[0m\n\u001b[1;32m--> 593\u001b[1;33m         \u001b[0mself\u001b[0m\u001b[1;33m.\u001b[0m\u001b[0mwait\u001b[0m\u001b[1;33m(\u001b[0m\u001b[0mtimeout\u001b[0m\u001b[1;33m)\u001b[0m\u001b[1;33m\u001b[0m\u001b[0m\n\u001b[0m\u001b[0;32m    594\u001b[0m         \u001b[1;32mif\u001b[0m \u001b[1;32mnot\u001b[0m \u001b[0mself\u001b[0m\u001b[1;33m.\u001b[0m\u001b[0mready\u001b[0m\u001b[1;33m(\u001b[0m\u001b[1;33m)\u001b[0m\u001b[1;33m:\u001b[0m\u001b[1;33m\u001b[0m\u001b[0m\n\u001b[0;32m    595\u001b[0m             \u001b[1;32mraise\u001b[0m \u001b[0mTimeoutError\u001b[0m\u001b[1;33m\u001b[0m\u001b[0m\n",
      "\u001b[1;32m/usr/lib64/python3.4/multiprocessing/pool.py\u001b[0m in \u001b[0;36mwait\u001b[1;34m(self, timeout)\u001b[0m\n\u001b[0;32m    588\u001b[0m \u001b[1;33m\u001b[0m\u001b[0m\n\u001b[0;32m    589\u001b[0m     \u001b[1;32mdef\u001b[0m \u001b[0mwait\u001b[0m\u001b[1;33m(\u001b[0m\u001b[0mself\u001b[0m\u001b[1;33m,\u001b[0m \u001b[0mtimeout\u001b[0m\u001b[1;33m=\u001b[0m\u001b[1;32mNone\u001b[0m\u001b[1;33m)\u001b[0m\u001b[1;33m:\u001b[0m\u001b[1;33m\u001b[0m\u001b[0m\n\u001b[1;32m--> 590\u001b[1;33m         \u001b[0mself\u001b[0m\u001b[1;33m.\u001b[0m\u001b[0m_event\u001b[0m\u001b[1;33m.\u001b[0m\u001b[0mwait\u001b[0m\u001b[1;33m(\u001b[0m\u001b[0mtimeout\u001b[0m\u001b[1;33m)\u001b[0m\u001b[1;33m\u001b[0m\u001b[0m\n\u001b[0m\u001b[0;32m    591\u001b[0m \u001b[1;33m\u001b[0m\u001b[0m\n\u001b[0;32m    592\u001b[0m     \u001b[1;32mdef\u001b[0m \u001b[0mget\u001b[0m\u001b[1;33m(\u001b[0m\u001b[0mself\u001b[0m\u001b[1;33m,\u001b[0m \u001b[0mtimeout\u001b[0m\u001b[1;33m=\u001b[0m\u001b[1;32mNone\u001b[0m\u001b[1;33m)\u001b[0m\u001b[1;33m:\u001b[0m\u001b[1;33m\u001b[0m\u001b[0m\n",
      "\u001b[1;32m/usr/lib64/python3.4/threading.py\u001b[0m in \u001b[0;36mwait\u001b[1;34m(self, timeout)\u001b[0m\n\u001b[0;32m    551\u001b[0m             \u001b[0msignaled\u001b[0m \u001b[1;33m=\u001b[0m \u001b[0mself\u001b[0m\u001b[1;33m.\u001b[0m\u001b[0m_flag\u001b[0m\u001b[1;33m\u001b[0m\u001b[0m\n\u001b[0;32m    552\u001b[0m             \u001b[1;32mif\u001b[0m \u001b[1;32mnot\u001b[0m \u001b[0msignaled\u001b[0m\u001b[1;33m:\u001b[0m\u001b[1;33m\u001b[0m\u001b[0m\n\u001b[1;32m--> 553\u001b[1;33m                 \u001b[0msignaled\u001b[0m \u001b[1;33m=\u001b[0m \u001b[0mself\u001b[0m\u001b[1;33m.\u001b[0m\u001b[0m_cond\u001b[0m\u001b[1;33m.\u001b[0m\u001b[0mwait\u001b[0m\u001b[1;33m(\u001b[0m\u001b[0mtimeout\u001b[0m\u001b[1;33m)\u001b[0m\u001b[1;33m\u001b[0m\u001b[0m\n\u001b[0m\u001b[0;32m    554\u001b[0m             \u001b[1;32mreturn\u001b[0m \u001b[0msignaled\u001b[0m\u001b[1;33m\u001b[0m\u001b[0m\n\u001b[0;32m    555\u001b[0m         \u001b[1;32mfinally\u001b[0m\u001b[1;33m:\u001b[0m\u001b[1;33m\u001b[0m\u001b[0m\n",
      "\u001b[1;32m/usr/lib64/python3.4/threading.py\u001b[0m in \u001b[0;36mwait\u001b[1;34m(self, timeout)\u001b[0m\n\u001b[0;32m    288\u001b[0m         \u001b[1;32mtry\u001b[0m\u001b[1;33m:\u001b[0m    \u001b[1;31m# restore state no matter what (e.g., KeyboardInterrupt)\u001b[0m\u001b[1;33m\u001b[0m\u001b[0m\n\u001b[0;32m    289\u001b[0m             \u001b[1;32mif\u001b[0m \u001b[0mtimeout\u001b[0m \u001b[1;32mis\u001b[0m \u001b[1;32mNone\u001b[0m\u001b[1;33m:\u001b[0m\u001b[1;33m\u001b[0m\u001b[0m\n\u001b[1;32m--> 290\u001b[1;33m                 \u001b[0mwaiter\u001b[0m\u001b[1;33m.\u001b[0m\u001b[0macquire\u001b[0m\u001b[1;33m(\u001b[0m\u001b[1;33m)\u001b[0m\u001b[1;33m\u001b[0m\u001b[0m\n\u001b[0m\u001b[0;32m    291\u001b[0m                 \u001b[0mgotit\u001b[0m \u001b[1;33m=\u001b[0m \u001b[1;32mTrue\u001b[0m\u001b[1;33m\u001b[0m\u001b[0m\n\u001b[0;32m    292\u001b[0m             \u001b[1;32melse\u001b[0m\u001b[1;33m:\u001b[0m\u001b[1;33m\u001b[0m\u001b[0m\n",
      "\u001b[1;31mKeyboardInterrupt\u001b[0m: "
     ]
    }
   ],
   "source": [
    "grad_params = {\n",
    "    'n_estimators' : [10], # np.linspace(10, 40, 3, dtype='int'),\n",
    "    'max_depth': np.linspace(4, 8, 3, dtype='int'),    \n",
    "    'subsample' : np.linspace(0.6, 1.0, 3),\n",
    "    'learning_rate' : np.linspace(0.1, 0.3, 3),\n",
    "}\n",
    "grad_grid = GridSearchCV(GradientBoostingClassifier(), grad_params, verbose=3, scoring='log_loss', n_jobs=4)\n",
    "grad_grid.fit(x, y)\n",
    "print(grad_grid.best_score_)\n",
    "print(grad_grid.best_params_)"
   ]
  },
  {
   "cell_type": "code",
   "execution_count": null,
   "metadata": {
    "collapsed": false
   },
   "outputs": [],
   "source": [
    "bag_params = {\n",
    "    'max_samples' : np.linspace(0.6, 1.0, 3),\n",
    "    'max_features' : np.linspace(0.6, 1.0, 3),\n",
    "    'n_estimators' : np.linspace(10, 40, 3, dtype='int'),    \n",
    "    'bootstrap': [True, False],\n",
    "    'bootstrap_features' : [True, False]\n",
    "}\n",
    "bag_grid = GridSearchCV(BaggingClassifier(), bag_params, verbose=3, scoring='log_loss', n_jobs=4)\n",
    "bag_grid.fit(x, y)\n",
    "print(bag_grid.best_score_)\n",
    "print(bag_grid.best_params_)"
   ]
  },
  {
   "cell_type": "code",
   "execution_count": null,
   "metadata": {
    "collapsed": false
   },
   "outputs": [],
   "source": [
    "bag = BaggingClassifier(max_samples=0.8, max_features=0.7, n_estimators=40)\n",
    "#sgd = SGDClassifier(loss='log')\n",
    "grad = GradientBoostingClassifier(n_estimators=20, max_depth=4, verbose=0, subsample=0.9)\n",
    "rfc = RandomForestClassifier(max_depth=20, n_estimators=300)\n",
    "votecf = VotingClassifier([('rf1', rfc),\n",
    "                           ('bag', bag),\n",
    "                           ('grad', grad),\n",
    "                           ('sgd', sgd)\n",
    "                          ], 'soft')\n",
    "cross_val_score(votecf, x, y, cv = 5, scoring='log_loss', n_jobs=4)"
   ]
  },
  {
   "cell_type": "code",
   "execution_count": null,
   "metadata": {
    "collapsed": false,
    "scrolled": true
   },
   "outputs": [],
   "source": [
    "rfc = RandomForestClassifier(max_depth=10, n_estimators=50)\n",
    "rfc.fit(x, y)\n",
    "print('Top features')\n",
    "for score, feat in sorted(zip(rfc.feature_importances_, x.columns), reverse=True)[:10]:\n",
    "    print('{:.3f} {}'.format(score,feat))\n",
    "print()    \n",
    "print('Botton features')\n",
    "for score, feat in sorted(zip(rfc.feature_importances_, x.columns), reverse=True)[-20:]:\n",
    "    print('{:.5f} {}'.format(score,feat))"
   ]
  },
  {
   "cell_type": "code",
   "execution_count": null,
   "metadata": {
    "collapsed": false
   },
   "outputs": [],
   "source": [
    "#x_norm = normalize(x)\n",
    "#svc = SVC(probability=True)\n",
    "#cross_val_score(svc, x, y, cv=5, verbose=3, scoring='log_loss')"
   ]
  },
  {
   "cell_type": "code",
   "execution_count": null,
   "metadata": {
    "collapsed": false
   },
   "outputs": [],
   "source": [
    "#pca = PCA(0.999)\n",
    "#x_pca = pca.fit_transform(x)\n",
    "#x_pca.shape"
   ]
  },
  {
   "cell_type": "code",
   "execution_count": null,
   "metadata": {
    "collapsed": true
   },
   "outputs": [],
   "source": []
  }
 ],
 "metadata": {
  "anaconda-cloud": {},
  "kernelspec": {
   "display_name": "Python 3",
   "language": "python",
   "name": "python3"
  },
  "language_info": {
   "codemirror_mode": {
    "name": "ipython",
    "version": 3
   },
   "file_extension": ".py",
   "mimetype": "text/x-python",
   "name": "python",
   "nbconvert_exporter": "python",
   "pygments_lexer": "ipython3",
   "version": "3.4.3"
  }
 },
 "nbformat": 4,
 "nbformat_minor": 0
}
