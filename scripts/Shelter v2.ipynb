{
 "cells": [
  {
   "cell_type": "code",
   "execution_count": 1,
   "metadata": {
    "collapsed": false
   },
   "outputs": [],
   "source": [
    "%matplotlib inline\n",
    "\n",
    "import pandas as pd\n",
    "import seaborn as sns\n",
    "import numpy as np\n",
    "\n",
    "from matplotlib import pyplot as plt\n",
    "\n",
    "from sklearn.ensemble import RandomForestClassifier, BaggingClassifier, GradientBoostingClassifier\n",
    "from sklearn.svm import SVC\n",
    "from sklearn.preprocessing import label_binarize, normalize, LabelEncoder\n",
    "from sklearn.metrics import log_loss, classification_report\n",
    "from sklearn.decomposition import PCA\n",
    "\n",
    "from sklearn.cross_validation import cross_val_score, KFold, StratifiedKFold, train_test_split\n",
    "from sklearn.feature_selection import RFECV\n",
    "from sklearn.grid_search import GridSearchCV\n",
    "from sklearn.linear_model import SGDClassifier\n",
    "from sklearn.calibration import CalibratedClassifierCV\n",
    "\n",
    "#from xgboost import XGBClassifier\n",
    "#import xgboost as xgb"
   ]
  },
  {
   "cell_type": "code",
   "execution_count": 2,
   "metadata": {
    "collapsed": false
   },
   "outputs": [
    {
     "name": "stdout",
     "output_type": "stream",
     "text": [
      "<class 'pandas.core.frame.DataFrame'>\n",
      "Int64Index: 26729 entries, 0 to 26728\n",
      "Data columns (total 10 columns):\n",
      "AnimalID          26729 non-null object\n",
      "Name              19038 non-null object\n",
      "DateTime          26729 non-null object\n",
      "OutcomeType       26729 non-null object\n",
      "OutcomeSubtype    13117 non-null object\n",
      "AnimalType        26729 non-null object\n",
      "SexuponOutcome    26728 non-null object\n",
      "AgeuponOutcome    26711 non-null object\n",
      "Breed             26729 non-null object\n",
      "Color             26729 non-null object\n",
      "dtypes: object(10)\n",
      "memory usage: 2.2+ MB\n"
     ]
    }
   ],
   "source": [
    "df = pd.read_csv('../input/train.csv')\n",
    "df.info()"
   ]
  },
  {
   "cell_type": "code",
   "execution_count": 3,
   "metadata": {
    "collapsed": false
   },
   "outputs": [
    {
     "data": {
      "text/html": [
       "<div>\n",
       "<table border=\"1\" class=\"dataframe\">\n",
       "  <thead>\n",
       "    <tr style=\"text-align: right;\">\n",
       "      <th></th>\n",
       "      <th>AnimalID</th>\n",
       "      <th>Name</th>\n",
       "      <th>DateTime</th>\n",
       "      <th>OutcomeType</th>\n",
       "      <th>OutcomeSubtype</th>\n",
       "      <th>AnimalType</th>\n",
       "      <th>SexuponOutcome</th>\n",
       "      <th>AgeuponOutcome</th>\n",
       "      <th>Breed</th>\n",
       "      <th>Color</th>\n",
       "    </tr>\n",
       "  </thead>\n",
       "  <tbody>\n",
       "    <tr>\n",
       "      <th>0</th>\n",
       "      <td>A671945</td>\n",
       "      <td>Hambone</td>\n",
       "      <td>2014-02-12 18:22:00</td>\n",
       "      <td>Return_to_owner</td>\n",
       "      <td>NaN</td>\n",
       "      <td>Dog</td>\n",
       "      <td>Neutered Male</td>\n",
       "      <td>1 year</td>\n",
       "      <td>Shetland Sheepdog Mix</td>\n",
       "      <td>Brown/White</td>\n",
       "    </tr>\n",
       "    <tr>\n",
       "      <th>1</th>\n",
       "      <td>A656520</td>\n",
       "      <td>Emily</td>\n",
       "      <td>2013-10-13 12:44:00</td>\n",
       "      <td>Euthanasia</td>\n",
       "      <td>Suffering</td>\n",
       "      <td>Cat</td>\n",
       "      <td>Spayed Female</td>\n",
       "      <td>1 year</td>\n",
       "      <td>Domestic Shorthair Mix</td>\n",
       "      <td>Cream Tabby</td>\n",
       "    </tr>\n",
       "    <tr>\n",
       "      <th>2</th>\n",
       "      <td>A686464</td>\n",
       "      <td>Pearce</td>\n",
       "      <td>2015-01-31 12:28:00</td>\n",
       "      <td>Adoption</td>\n",
       "      <td>Foster</td>\n",
       "      <td>Dog</td>\n",
       "      <td>Neutered Male</td>\n",
       "      <td>2 years</td>\n",
       "      <td>Pit Bull Mix</td>\n",
       "      <td>Blue/White</td>\n",
       "    </tr>\n",
       "    <tr>\n",
       "      <th>3</th>\n",
       "      <td>A683430</td>\n",
       "      <td>NaN</td>\n",
       "      <td>2014-07-11 19:09:00</td>\n",
       "      <td>Transfer</td>\n",
       "      <td>Partner</td>\n",
       "      <td>Cat</td>\n",
       "      <td>Intact Male</td>\n",
       "      <td>3 weeks</td>\n",
       "      <td>Domestic Shorthair Mix</td>\n",
       "      <td>Blue Cream</td>\n",
       "    </tr>\n",
       "    <tr>\n",
       "      <th>4</th>\n",
       "      <td>A667013</td>\n",
       "      <td>NaN</td>\n",
       "      <td>2013-11-15 12:52:00</td>\n",
       "      <td>Transfer</td>\n",
       "      <td>Partner</td>\n",
       "      <td>Dog</td>\n",
       "      <td>Neutered Male</td>\n",
       "      <td>2 years</td>\n",
       "      <td>Lhasa Apso/Miniature Poodle</td>\n",
       "      <td>Tan</td>\n",
       "    </tr>\n",
       "  </tbody>\n",
       "</table>\n",
       "</div>"
      ],
      "text/plain": [
       "  AnimalID     Name             DateTime      OutcomeType OutcomeSubtype  \\\n",
       "0  A671945  Hambone  2014-02-12 18:22:00  Return_to_owner            NaN   \n",
       "1  A656520    Emily  2013-10-13 12:44:00       Euthanasia      Suffering   \n",
       "2  A686464   Pearce  2015-01-31 12:28:00         Adoption         Foster   \n",
       "3  A683430      NaN  2014-07-11 19:09:00         Transfer        Partner   \n",
       "4  A667013      NaN  2013-11-15 12:52:00         Transfer        Partner   \n",
       "\n",
       "  AnimalType SexuponOutcome AgeuponOutcome                        Breed  \\\n",
       "0        Dog  Neutered Male         1 year        Shetland Sheepdog Mix   \n",
       "1        Cat  Spayed Female         1 year       Domestic Shorthair Mix   \n",
       "2        Dog  Neutered Male        2 years                 Pit Bull Mix   \n",
       "3        Cat    Intact Male        3 weeks       Domestic Shorthair Mix   \n",
       "4        Dog  Neutered Male        2 years  Lhasa Apso/Miniature Poodle   \n",
       "\n",
       "         Color  \n",
       "0  Brown/White  \n",
       "1  Cream Tabby  \n",
       "2   Blue/White  \n",
       "3   Blue Cream  \n",
       "4          Tan  "
      ]
     },
     "execution_count": 3,
     "metadata": {},
     "output_type": "execute_result"
    }
   ],
   "source": [
    "df.head()"
   ]
  },
  {
   "cell_type": "markdown",
   "metadata": {},
   "source": [
    "Obviously the age of the animals should be importante, so we need to clean it up a bit.\n",
    "From the frist lines we can see that the age is in the format Numberperiod. \n",
    "\n",
    "Lets see what periods are there."
   ]
  },
  {
   "cell_type": "code",
   "execution_count": 4,
   "metadata": {
    "collapsed": false
   },
   "outputs": [
    {
     "data": {
      "text/plain": [
       "array(['year', 'years', 'weeks', 'month', 'months', 'days', 'week', 'day',\n",
       "       None], dtype=object)"
      ]
     },
     "execution_count": 4,
     "metadata": {},
     "output_type": "execute_result"
    }
   ],
   "source": [
    "df['AgeuponOutcome'].str.split(expand=True)[1].unique()"
   ]
  },
  {
   "cell_type": "markdown",
   "metadata": {},
   "source": [
    "So lets map each of these to a \"multiplier\", and calculate the age of the animals in days."
   ]
  },
  {
   "cell_type": "code",
   "execution_count": 5,
   "metadata": {
    "collapsed": false
   },
   "outputs": [],
   "source": [
    "time_multiplier = dict(year = 365, years=365, weeks = 7, month = 30, months=30, days = 1, week = 7, day= 1)\n",
    "foo = df['AgeuponOutcome'].str.split(expand=True)\n",
    "age = foo[0].astype('float32')\n",
    "period = foo[1]\n",
    "del foo\n",
    "period = period.map(time_multiplier)\n",
    "df['age_in_days'] = age * period\n",
    "df['age_in_years'] = df['age_in_days'] / 365\n",
    "df['age_in_months'] = df['age_in_days'] / 30"
   ]
  },
  {
   "cell_type": "code",
   "execution_count": 6,
   "metadata": {
    "collapsed": false
   },
   "outputs": [
    {
     "name": "stdout",
     "output_type": "stream",
     "text": [
      "['Neutered' 'Spayed' 'Intact' 'Unknown' nan]\n",
      "['Male' 'Female' None]\n"
     ]
    }
   ],
   "source": [
    "print(df['SexuponOutcome'].str.split(expand=True)[0].unique())\n",
    "print(df['SexuponOutcome'].str.split(expand=True)[1].unique())"
   ]
  },
  {
   "cell_type": "code",
   "execution_count": 7,
   "metadata": {
    "collapsed": false
   },
   "outputs": [
    {
     "data": {
      "text/plain": [
       "<matplotlib.axes._subplots.AxesSubplot at 0x7fd69e8ec0f0>"
      ]
     },
     "execution_count": 7,
     "metadata": {},
     "output_type": "execute_result"
    },
    {
     "data": {
      "image/png": "[encoded data removed]",
      "text/plain": [
       "<matplotlib.figure.Figure at 0x7fd69e8e18d0>"
      ]
     },
     "metadata": {},
     "output_type": "display_data"
    }
   ],
   "source": [
    "foo = df['SexuponOutcome'].str.split(expand=True)\n",
    "df['condition'] = foo[0].map({'Neutered': 'operated', 'Spayed':'operated', 'Intact': 'intact', 'Unknown': 'unknown'})\n",
    "df['sex'] = foo[1]\n",
    "sns.countplot(x='OutcomeType', data=df)"
   ]
  },
  {
   "cell_type": "markdown",
   "metadata": {},
   "source": [
    "So, it looks like most of the animals are being adopted or transfered. With some returning to their owner.\n",
    "Only a small part of them are suffering euthanasia or dying (thanks god).\n",
    "\n",
    "But how are these outcomes related to other characteristics of the animal? Are dogs and cats being are threated alike?"
   ]
  },
  {
   "cell_type": "code",
   "execution_count": 8,
   "metadata": {
    "collapsed": false
   },
   "outputs": [
    {
     "data": {
      "text/plain": [
       "<matplotlib.axes._subplots.AxesSubplot at 0x7fd69de87278>"
      ]
     },
     "execution_count": 8,
     "metadata": {},
     "output_type": "execute_result"
    },
    {
     "data": {
      "image/png": "[encoded data removed]",
      "text/plain": [
       "<matplotlib.figure.Figure at 0x7fd69de873c8>"
      ]
     },
     "metadata": {},
     "output_type": "display_data"
    }
   ],
   "source": [
    "sns.countplot(x='OutcomeType', data=df, hue='AnimalType')"
   ]
  },
  {
   "cell_type": "markdown",
   "metadata": {},
   "source": [
    "Dogs are prefered (as one would expect). The vast majority the animals returned to their owner are dogs. \n",
    "Dogs also haave a nice leading on adoption rate.\n",
    " \n",
    "What about the sex?"
   ]
  },
  {
   "cell_type": "code",
   "execution_count": 9,
   "metadata": {
    "collapsed": false
   },
   "outputs": [
    {
     "data": {
      "text/plain": [
       "<matplotlib.axes._subplots.AxesSubplot at 0x7fd69e815908>"
      ]
     },
     "execution_count": 9,
     "metadata": {},
     "output_type": "execute_result"
    },
    {
     "data": {
      "image/png": "[encoded data removed]",
      "text/plain": [
       "<matplotlib.figure.Figure at 0x7fd69e76f470>"
      ]
     },
     "metadata": {},
     "output_type": "display_data"
    }
   ],
   "source": [
    "sns.countplot(x='OutcomeType', data=df, hue='sex')"
   ]
  },
  {
   "cell_type": "markdown",
   "metadata": {},
   "source": [
    "So, in general the sex of the animal doesn't appear to have much influence on their final destinty."
   ]
  },
  {
   "cell_type": "code",
   "execution_count": 10,
   "metadata": {
    "collapsed": false
   },
   "outputs": [
    {
     "data": {
      "text/plain": [
       "<matplotlib.axes._subplots.AxesSubplot at 0x7fd69e791748>"
      ]
     },
     "execution_count": 10,
     "metadata": {},
     "output_type": "execute_result"
    },
    {
     "data": {
      "image/png": "[encoded data removed]",
      "text/plain": [
       "<matplotlib.figure.Figure at 0x7fd69e757898>"
      ]
     },
     "metadata": {},
     "output_type": "display_data"
    }
   ],
   "source": [
    "sns.countplot(x='OutcomeType', data=df, hue='condition')"
   ]
  },
  {
   "cell_type": "markdown",
   "metadata": {},
   "source": [
    "Thats not the case when dealing on the codition of the animal. Most of the adopted or returned animals are operated.\n",
    "\n",
    "Now lets see how the age influences this, for this we will use a boxplot."
   ]
  },
  {
   "cell_type": "code",
   "execution_count": 11,
   "metadata": {
    "collapsed": false
   },
   "outputs": [
    {
     "data": {
      "text/plain": [
       "<matplotlib.axes._subplots.AxesSubplot at 0x7fd69e6eb208>"
      ]
     },
     "execution_count": 11,
     "metadata": {},
     "output_type": "execute_result"
    },
    {
     "data": {
      "image/png": "[encoded data removed]",
      "text/plain": [
       "<matplotlib.figure.Figure at 0x7fd69e6c84e0>"
      ]
     },
     "metadata": {},
     "output_type": "display_data"
    }
   ],
   "source": [
    "sns.boxplot(x='OutcomeType', y='age_in_days', data=df, showfliers=False) #showfliers=false disable the display of the outliers"
   ]
  },
  {
   "cell_type": "markdown",
   "metadata": {},
   "source": [
    "Contrary to my initial expectations, young animals are the ones that die most, while old animmals return to their owner (the owner miss them?) or suffer from euthanasia (putting their out of their misery).\n",
    "\n",
    "Adoptions are mainly about youg animals.\n",
    "\n",
    "Lets see how the name of the animals influence their odds."
   ]
  },
  {
   "cell_type": "code",
   "execution_count": 12,
   "metadata": {
    "collapsed": false
   },
   "outputs": [
    {
     "data": {
      "text/plain": [
       "<matplotlib.axes._subplots.AxesSubplot at 0x7fd69e664ac8>"
      ]
     },
     "execution_count": 12,
     "metadata": {},
     "output_type": "execute_result"
    },
    {
     "data": {
      "image/png": "[encoded data removed]",
      "text/plain": [
       "<matplotlib.figure.Figure at 0x7fd69e63a208>"
      ]
     },
     "metadata": {},
     "output_type": "display_data"
    }
   ],
   "source": [
    "df['has_name'] = pd.notnull(df['Name'])\n",
    "sns.countplot(x='OutcomeType', data=df, hue='has_name')"
   ]
  },
  {
   "cell_type": "markdown",
   "metadata": {},
   "source": [
    "So, if the animal has a name people are more propensed to get them back or even adopt them (I get the case of return_to_owner, but... can't new owners give their pets a name?)."
   ]
  },
  {
   "cell_type": "code",
   "execution_count": 13,
   "metadata": {
    "collapsed": false
   },
   "outputs": [
    {
     "data": {
      "text/plain": [
       "<matplotlib.axes._subplots.AxesSubplot at 0x7fd69e656518>"
      ]
     },
     "execution_count": 13,
     "metadata": {},
     "output_type": "execute_result"
    },
    {
     "data": {
      "image/png": "[encoded data removed]",
      "text/plain": [
       "<matplotlib.figure.Figure at 0x7fd69e63a128>"
      ]
     },
     "metadata": {},
     "output_type": "display_data"
    }
   ],
   "source": [
    "df['pure_breed'] = df.Breed.apply(lambda x : 'mix' not in x.lower())\n",
    "sns.countplot(x='OutcomeType', data=df, hue='pure_breed')"
   ]
  },
  {
   "cell_type": "code",
   "execution_count": 14,
   "metadata": {
    "collapsed": false
   },
   "outputs": [
    {
     "data": {
      "text/plain": [
       "<matplotlib.axes._subplots.AxesSubplot at 0x7fd69e5c29b0>"
      ]
     },
     "execution_count": 14,
     "metadata": {},
     "output_type": "execute_result"
    },
    {
     "data": {
      "image/png": "[encoded data removed]",
      "text/plain": [
       "<matplotlib.figure.Figure at 0x7fd69e5884a8>"
      ]
     },
     "metadata": {},
     "output_type": "display_data"
    }
   ],
   "source": [
    "df.DateTime = pd.to_datetime(df.DateTime)\n",
    "df['month'] = df.DateTime.dt.month.astype('category')\n",
    "df['weekday'] = df.DateTime.dt.weekday.astype('category')\n",
    "df['hour'] = df.DateTime.dt.hour.astype('category')\n",
    "sns.countplot(x='OutcomeType', data=df, hue='month')"
   ]
  },
  {
   "cell_type": "code",
   "execution_count": 15,
   "metadata": {
    "collapsed": false
   },
   "outputs": [
    {
     "data": {
      "text/plain": [
       "<matplotlib.axes._subplots.AxesSubplot at 0x7fd69e556d30>"
      ]
     },
     "execution_count": 15,
     "metadata": {},
     "output_type": "execute_result"
    },
    {
     "data": {
      "image/png": "[encoded data removed]",
      "text/plain": [
       "<matplotlib.figure.Figure at 0x7fd69e6c8400>"
      ]
     },
     "metadata": {},
     "output_type": "display_data"
    }
   ],
   "source": [
    "sns.countplot(x='OutcomeType', data=df, hue='weekday')"
   ]
  },
  {
   "cell_type": "code",
   "execution_count": 16,
   "metadata": {
    "collapsed": false
   },
   "outputs": [
    {
     "data": {
      "text/plain": [
       "<matplotlib.axes._subplots.AxesSubplot at 0x7fd69e20cf98>"
      ]
     },
     "execution_count": 16,
     "metadata": {},
     "output_type": "execute_result"
    },
    {
     "data": {
      "image/png": "[encoded data removed]",
      "text/plain": [
       "<matplotlib.figure.Figure at 0x7fd69e1eab38>"
      ]
     },
     "metadata": {},
     "output_type": "display_data"
    }
   ],
   "source": [
    "sns.countplot(x='OutcomeType', data=df, hue='hour')"
   ]
  },
  {
   "cell_type": "code",
   "execution_count": 17,
   "metadata": {
    "collapsed": false
   },
   "outputs": [
    {
     "name": "stdout",
     "output_type": "stream",
     "text": [
      "['Brown' 'Cream Tabby' 'Blue' 'Blue Cream' 'Tan' 'Black' 'Blue Tabby'\n",
      " 'Brown Tabby' 'Red' 'White' 'Silver' 'Orange Tabby' 'Brown Brindle'\n",
      " 'Chocolate' 'Calico' 'Torbie' 'Yellow' 'Tricolor' 'Tortie' 'Gray' 'Buff'\n",
      " 'Seal Point' 'Yellow Brindle' 'Fawn' 'Flame Point' 'Black Tabby'\n",
      " 'Red Tick' 'Blue Merle' 'Sable' 'Brown Merle' 'Brown Tiger' 'Liver'\n",
      " 'Cream' 'Blue Point' 'Apricot' 'Red Merle' 'Lynx Point' 'Lilac Point'\n",
      " 'Tortie Point' 'Gray Tabby' 'Blue Tiger' 'Gold' 'Blue Tick' 'Black Smoke'\n",
      " 'Calico Point' 'Black Brindle' 'Silver Tabby' 'Orange' 'Chocolate Point'\n",
      " 'Agouti' 'Blue Smoke' 'Liver Tick' 'Pink' 'Silver Lynx Point' 'Ruddy'\n",
      " 'Black Tiger' 'Orange Tiger']\n",
      "['White' None 'Tan' 'Red' 'Cream' 'Brown' 'Black' 'Calico' 'Brown Brindle'\n",
      " 'Gray' 'Silver' 'Cream Tabby' 'Blue Tabby' 'Brown Tabby' 'Red Tick' 'Blue'\n",
      " 'Orange Tabby' 'Tricolor' 'Orange' 'Blue Tiger' 'Lynx Point' 'Buff'\n",
      " 'Chocolate Point' 'Liver' 'Gold' 'Black Brindle' 'Blue Merle' 'Blue Tick'\n",
      " 'Chocolate' 'Blue Cream' 'Black Tabby' 'Silver Tabby' 'Brown Tiger'\n",
      " 'Apricot' 'Brown Merle' 'Red Merle' 'Black Smoke' 'Tortie' 'Yellow'\n",
      " 'Yellow Brindle' 'Blue Smoke' 'Pink' 'Gray Tabby' 'Flame Point'\n",
      " 'Seal Point']\n"
     ]
    }
   ],
   "source": [
    "color_split = df.Color.str.split('/', expand=True)\n",
    "df['color_1'] = color_split[0]\n",
    "print(df.color_1.unique())\n",
    "df['color_2'] = color_split[1]\n",
    "print(df.color_2.unique())"
   ]
  },
  {
   "cell_type": "code",
   "execution_count": 18,
   "metadata": {
    "collapsed": false
   },
   "outputs": [
    {
     "name": "stdout",
     "output_type": "stream",
     "text": [
      "Domestic Shorthair Mix       8810\n",
      "Pit Bull Mix                 1906\n",
      "Chihuahua Shorthair Mix      1766\n",
      "Labrador Retriever Mix       1363\n",
      "Domestic Medium Hair Mix      839\n",
      "German Shepherd Mix           575\n",
      "Domestic Longhair Mix         520\n",
      "Siamese Mix                   389\n",
      "Australian Cattle Dog Mix     367\n",
      "Dachshund Mix                 318\n",
      "Name: Breed, dtype: int64\n",
      "---------\n",
      "Domestic Shorthair       8953\n",
      "Pit Bull                 1972\n",
      "Chihuahua Shorthair      1851\n",
      "Labrador Retriever       1432\n",
      "Domestic Medium Hair      881\n",
      "German Shepherd           652\n",
      "Domestic Longhair         543\n",
      "Siamese                   413\n",
      "Australian Cattle Dog     392\n",
      "Dachshund                 364\n",
      "Name: Breed, dtype: int64\n",
      "\n",
      "\n",
      "1380\n",
      "1244\n"
     ]
    }
   ],
   "source": [
    "print(df.Breed.value_counts()[:10])\n",
    "print('---------')\n",
    "print(df.Breed.str.replace(' Mix', '').value_counts()[:10])\n",
    "print()\n",
    "print()\n",
    "print(len(df.Breed.value_counts()))\n",
    "print(len(df.Breed.str.replace(' Mix', '').value_counts()))\n",
    "df.Breed.value_counts()\n",
    "df['breed_rarity']=  pd.cut(df.Breed.value_counts(), 5, include_lowest=True, labels=['super rare', 'rare', 'comon', 'very comon', 'very very common' ])"
   ]
  },
  {
   "cell_type": "code",
   "execution_count": 19,
   "metadata": {
    "collapsed": false
   },
   "outputs": [
    {
     "name": "stdout",
     "output_type": "stream",
     "text": [
      "<class 'pandas.core.frame.DataFrame'>\n",
      "Int64Index: 26729 entries, 0 to 26728\n",
      "Data columns (total 157 columns):\n",
      "age_in_days                      26711 non-null float64\n",
      "age_in_years                     26711 non-null float64\n",
      "age_in_months                    26711 non-null float64\n",
      "has_name                         26729 non-null bool\n",
      "pure_breed                       26729 non-null bool\n",
      "condition_intact                 26729 non-null float64\n",
      "condition_operated               26729 non-null float64\n",
      "condition_unknown                26729 non-null float64\n",
      "sex_Female                       26729 non-null float64\n",
      "sex_Male                         26729 non-null float64\n",
      "AnimalType_Cat                   26729 non-null float64\n",
      "AnimalType_Dog                   26729 non-null float64\n",
      "color_1_Agouti                   26729 non-null float64\n",
      "color_1_Apricot                  26729 non-null float64\n",
      "color_1_Black                    26729 non-null float64\n",
      "color_1_Black Brindle            26729 non-null float64\n",
      "color_1_Black Smoke              26729 non-null float64\n",
      "color_1_Black Tabby              26729 non-null float64\n",
      "color_1_Black Tiger              26729 non-null float64\n",
      "color_1_Blue                     26729 non-null float64\n",
      "color_1_Blue Cream               26729 non-null float64\n",
      "color_1_Blue Merle               26729 non-null float64\n",
      "color_1_Blue Point               26729 non-null float64\n",
      "color_1_Blue Smoke               26729 non-null float64\n",
      "color_1_Blue Tabby               26729 non-null float64\n",
      "color_1_Blue Tick                26729 non-null float64\n",
      "color_1_Blue Tiger               26729 non-null float64\n",
      "color_1_Brown                    26729 non-null float64\n",
      "color_1_Brown Brindle            26729 non-null float64\n",
      "color_1_Brown Merle              26729 non-null float64\n",
      "color_1_Brown Tabby              26729 non-null float64\n",
      "color_1_Brown Tiger              26729 non-null float64\n",
      "color_1_Buff                     26729 non-null float64\n",
      "color_1_Calico                   26729 non-null float64\n",
      "color_1_Calico Point             26729 non-null float64\n",
      "color_1_Chocolate                26729 non-null float64\n",
      "color_1_Chocolate Point          26729 non-null float64\n",
      "color_1_Cream                    26729 non-null float64\n",
      "color_1_Cream Tabby              26729 non-null float64\n",
      "color_1_Fawn                     26729 non-null float64\n",
      "color_1_Flame Point              26729 non-null float64\n",
      "color_1_Gold                     26729 non-null float64\n",
      "color_1_Gray                     26729 non-null float64\n",
      "color_1_Gray Tabby               26729 non-null float64\n",
      "color_1_Lilac Point              26729 non-null float64\n",
      "color_1_Liver                    26729 non-null float64\n",
      "color_1_Liver Tick               26729 non-null float64\n",
      "color_1_Lynx Point               26729 non-null float64\n",
      "color_1_Orange                   26729 non-null float64\n",
      "color_1_Orange Tabby             26729 non-null float64\n",
      "color_1_Orange Tiger             26729 non-null float64\n",
      "color_1_Pink                     26729 non-null float64\n",
      "color_1_Red                      26729 non-null float64\n",
      "color_1_Red Merle                26729 non-null float64\n",
      "color_1_Red Tick                 26729 non-null float64\n",
      "color_1_Ruddy                    26729 non-null float64\n",
      "color_1_Sable                    26729 non-null float64\n",
      "color_1_Seal Point               26729 non-null float64\n",
      "color_1_Silver                   26729 non-null float64\n",
      "color_1_Silver Lynx Point        26729 non-null float64\n",
      "color_1_Silver Tabby             26729 non-null float64\n",
      "color_1_Tan                      26729 non-null float64\n",
      "color_1_Torbie                   26729 non-null float64\n",
      "color_1_Tortie                   26729 non-null float64\n",
      "color_1_Tortie Point             26729 non-null float64\n",
      "color_1_Tricolor                 26729 non-null float64\n",
      "color_1_White                    26729 non-null float64\n",
      "color_1_Yellow                   26729 non-null float64\n",
      "color_1_Yellow Brindle           26729 non-null float64\n",
      "color_2_Apricot                  26729 non-null float64\n",
      "color_2_Black                    26729 non-null float64\n",
      "color_2_Black Brindle            26729 non-null float64\n",
      "color_2_Black Smoke              26729 non-null float64\n",
      "color_2_Black Tabby              26729 non-null float64\n",
      "color_2_Blue                     26729 non-null float64\n",
      "color_2_Blue Cream               26729 non-null float64\n",
      "color_2_Blue Merle               26729 non-null float64\n",
      "color_2_Blue Smoke               26729 non-null float64\n",
      "color_2_Blue Tabby               26729 non-null float64\n",
      "color_2_Blue Tick                26729 non-null float64\n",
      "color_2_Blue Tiger               26729 non-null float64\n",
      "color_2_Brown                    26729 non-null float64\n",
      "color_2_Brown Brindle            26729 non-null float64\n",
      "color_2_Brown Merle              26729 non-null float64\n",
      "color_2_Brown Tabby              26729 non-null float64\n",
      "color_2_Brown Tiger              26729 non-null float64\n",
      "color_2_Buff                     26729 non-null float64\n",
      "color_2_Calico                   26729 non-null float64\n",
      "color_2_Chocolate                26729 non-null float64\n",
      "color_2_Chocolate Point          26729 non-null float64\n",
      "color_2_Cream                    26729 non-null float64\n",
      "color_2_Cream Tabby              26729 non-null float64\n",
      "color_2_Flame Point              26729 non-null float64\n",
      "color_2_Gold                     26729 non-null float64\n",
      "color_2_Gray                     26729 non-null float64\n",
      "color_2_Gray Tabby               26729 non-null float64\n",
      "color_2_Liver                    26729 non-null float64\n",
      "color_2_Lynx Point               26729 non-null float64\n",
      "color_2_Orange                   26729 non-null float64\n",
      "color_2_Orange Tabby             26729 non-null float64\n",
      "color_2_Pink                     26729 non-null float64\n",
      "color_2_Red                      26729 non-null float64\n",
      "color_2_Red Merle                26729 non-null float64\n",
      "color_2_Red Tick                 26729 non-null float64\n",
      "color_2_Seal Point               26729 non-null float64\n",
      "color_2_Silver                   26729 non-null float64\n",
      "color_2_Silver Tabby             26729 non-null float64\n",
      "color_2_Tan                      26729 non-null float64\n",
      "color_2_Tortie                   26729 non-null float64\n",
      "color_2_Tricolor                 26729 non-null float64\n",
      "color_2_White                    26729 non-null float64\n",
      "color_2_Yellow                   26729 non-null float64\n",
      "color_2_Yellow Brindle           26729 non-null float64\n",
      "breed_rarity_super rare          26729 non-null float64\n",
      "breed_rarity_rare                26729 non-null float64\n",
      "breed_rarity_comon               26729 non-null float64\n",
      "breed_rarity_very comon          26729 non-null float64\n",
      "breed_rarity_very very common    26729 non-null float64\n",
      "hour_0                           26729 non-null float64\n",
      "hour_5                           26729 non-null float64\n",
      "hour_6                           26729 non-null float64\n",
      "hour_7                           26729 non-null float64\n",
      "hour_8                           26729 non-null float64\n",
      "hour_9                           26729 non-null float64\n",
      "hour_10                          26729 non-null float64\n",
      "hour_11                          26729 non-null float64\n",
      "hour_12                          26729 non-null float64\n",
      "hour_13                          26729 non-null float64\n",
      "hour_14                          26729 non-null float64\n",
      "hour_15                          26729 non-null float64\n",
      "hour_16                          26729 non-null float64\n",
      "hour_17                          26729 non-null float64\n",
      "hour_18                          26729 non-null float64\n",
      "hour_19                          26729 non-null float64\n",
      "hour_20                          26729 non-null float64\n",
      "hour_21                          26729 non-null float64\n",
      "hour_22                          26729 non-null float64\n",
      "hour_23                          26729 non-null float64\n",
      "weekday_0                        26729 non-null float64\n",
      "weekday_1                        26729 non-null float64\n",
      "weekday_2                        26729 non-null float64\n",
      "weekday_3                        26729 non-null float64\n",
      "weekday_4                        26729 non-null float64\n",
      "weekday_5                        26729 non-null float64\n",
      "weekday_6                        26729 non-null float64\n",
      "month_1                          26729 non-null float64\n",
      "month_2                          26729 non-null float64\n",
      "month_3                          26729 non-null float64\n",
      "month_4                          26729 non-null float64\n",
      "month_5                          26729 non-null float64\n",
      "month_6                          26729 non-null float64\n",
      "month_7                          26729 non-null float64\n",
      "month_8                          26729 non-null float64\n",
      "month_9                          26729 non-null float64\n",
      "month_10                         26729 non-null float64\n",
      "month_11                         26729 non-null float64\n",
      "month_12                         26729 non-null float64\n",
      "dtypes: bool(2), float64(155)\n",
      "memory usage: 31.9 MB\n"
     ]
    }
   ],
   "source": [
    "y = df['OutcomeType']\n",
    "x = df[['age_in_days', 'age_in_years', 'age_in_months', 'condition', 'sex','AnimalType', 'has_name', 'color_1', 'color_2', 'pure_breed', 'breed_rarity', 'hour', 'weekday', 'month']]\n",
    "x = pd.get_dummies(x)\n",
    "x.info(null_counts=True, memory_usage='deep', verbose=True)"
   ]
  },
  {
   "cell_type": "markdown",
   "metadata": {},
   "source": [
    "Age in days has some null values. Lets fix it."
   ]
  },
  {
   "cell_type": "code",
   "execution_count": 20,
   "metadata": {
    "collapsed": false
   },
   "outputs": [
    {
     "name": "stdout",
     "output_type": "stream",
     "text": [
      "(26711, 159)\n",
      "(26711,)\n"
     ]
    }
   ],
   "source": [
    "df2 = df[['OutcomeType', 'age_in_days','age_in_years', 'age_in_months', 'condition', 'sex','AnimalType', 'has_name', 'color_1', 'color_2', 'pure_breed', 'breed_rarity', 'hour', 'weekday', 'month']]\n",
    "df2 = pd.get_dummies(df2.reindex(), columns=['condition', 'sex','AnimalType', 'has_name', 'color_1', 'color_2', 'pure_breed', 'breed_rarity', 'hour', 'weekday', 'month'])\n",
    "df2.dropna(axis=0, inplace=True)\n",
    "y = df2['OutcomeType']\n",
    "x = df2.drop('OutcomeType', axis=1)\n",
    "print(x.shape)\n",
    "print(y.shape)"
   ]
  },
  {
   "cell_type": "code",
   "execution_count": 21,
   "metadata": {
    "collapsed": false
   },
   "outputs": [
    {
     "name": "stdout",
     "output_type": "stream",
     "text": [
      "0.191086421917\n"
     ]
    }
   ],
   "source": [
    "rf = RandomForestClassifier()\n",
    "rf.fit(x, y)\n",
    "\n",
    "y_pred = rf.predict_proba(x)\n",
    "print(log_loss(y, y_pred))"
   ]
  },
  {
   "cell_type": "code",
   "execution_count": 22,
   "metadata": {
    "collapsed": false
   },
   "outputs": [
    {
     "name": "stdout",
     "output_type": "stream",
     "text": [
      "Top features\n",
      "0.082 condition_operated\n",
      "0.071 age_in_years\n",
      "0.069 age_in_days\n",
      "0.062 age_in_months\n",
      "0.044 has_name_False\n",
      "0.033 condition_intact\n",
      "0.023 color_2_White\n",
      "0.019 color_1_Black\n",
      "0.019 AnimalType_Dog\n",
      "0.015 hour_17\n",
      "\n",
      "Botton features\n",
      "0.00004 color_1_Liver Tick\n",
      "0.00003 color_2_Apricot\n",
      "0.00002 color_2_Black Smoke\n",
      "0.00001 color_2_Brown Tiger\n",
      "0.00001 color_2_Seal Point\n",
      "0.00001 color_2_Blue Tiger\n",
      "0.00001 hour_5\n",
      "0.00000 color_1_Ruddy\n",
      "0.00000 color_1_Silver Lynx Point\n",
      "0.00000 color_2_Chocolate Point\n",
      "0.00000 color_2_Lynx Point\n",
      "0.00000 color_2_Black Tabby\n",
      "0.00000 color_2_Flame Point\n",
      "0.00000 color_2_Silver Tabby\n",
      "0.00000 color_1_Pink\n",
      "0.00000 breed_rarity_very very common\n",
      "0.00000 breed_rarity_very comon\n",
      "0.00000 breed_rarity_super rare\n",
      "0.00000 breed_rarity_rare\n",
      "0.00000 breed_rarity_comon\n"
     ]
    }
   ],
   "source": [
    "print('Top features')\n",
    "for score, feat in sorted(zip(rf.feature_importances_, x.columns), reverse=True)[:10]:\n",
    "    print('{:.3f} {}'.format(score,feat))\n",
    "print()    \n",
    "print('Botton features')\n",
    "for score, feat in sorted(zip(rf.feature_importances_, x.columns), reverse=True)[-20:]:\n",
    "    print('{:.5f} {}'.format(score,feat))"
   ]
  },
  {
   "cell_type": "markdown",
   "metadata": {},
   "source": [
    "So age in days is really important... What if we bin it?\n",
    " \n",
    "Also breed_rarity didn't help a bit. So lets remove it."
   ]
  },
  {
   "cell_type": "code",
   "execution_count": 23,
   "metadata": {
    "collapsed": false
   },
   "outputs": [
    {
     "name": "stdout",
     "output_type": "stream",
     "text": [
      "(26729, 161)\n",
      "(26729,)\n",
      "0.201897527649\n"
     ]
    }
   ],
   "source": [
    "df['age_bined'] =  pd.cut(df.age_in_days, 10, include_lowest=True)\n",
    "\n",
    "df2 = df[['age_bined', 'OutcomeType', 'condition', 'sex','AnimalType', 'has_name', 'color_1', 'color_2', 'pure_breed', 'hour', 'weekday', 'month']]\n",
    "df2 = pd.get_dummies(df2.reindex(), columns=['age_bined', 'condition', 'sex','AnimalType', 'has_name', 'color_1', 'color_2', 'pure_breed', 'hour', 'weekday', 'month'])\n",
    "df2.dropna(axis=0, inplace=True)\n",
    "y = df2['OutcomeType']\n",
    "x = df2.drop('OutcomeType', axis=1)\n",
    "\n",
    "print(x.shape)\n",
    "print(y.shape)\n",
    "\n",
    "rf = RandomForestClassifier(n_estimators=30, max_depth=None)\n",
    "rf.fit(x, y)\n",
    "y_pred = rf.predict_proba(x)\n",
    "print(log_loss(y, y_pred))"
   ]
  },
  {
   "cell_type": "code",
   "execution_count": 24,
   "metadata": {
    "collapsed": false
   },
   "outputs": [
    {
     "name": "stdout",
     "output_type": "stream",
     "text": [
      "Top features\n",
      "0.072 condition_operated\n",
      "0.048 condition_intact\n",
      "0.035 has_name_False\n",
      "0.031 color_2_White\n",
      "0.030 age_bined_[-7.3, 730]\n",
      "0.025 has_name_True\n",
      "0.023 color_1_Black\n",
      "0.018 hour_17\n",
      "0.018 sex_Female\n",
      "0.017 sex_Male\n",
      "\n",
      "Botton features\n",
      "0.00002 color_2_Black Tabby\n",
      "0.00001 color_2_Blue Tiger\n",
      "0.00001 hour_5\n",
      "0.00001 color_1_Silver Lynx Point\n",
      "0.00001 color_2_Brown Tiger\n",
      "0.00000 color_1_Ruddy\n",
      "0.00000 color_2_Flame Point\n",
      "0.00000 color_2_Silver Tabby\n",
      "0.00000 color_2_Chocolate Point\n",
      "0.00000 color_1_Pink\n"
     ]
    }
   ],
   "source": [
    "print('Top features')\n",
    "for score, feat in sorted(zip(rf.feature_importances_, x.columns), reverse=True)[:10]:\n",
    "    print('{:.3f} {}'.format(score,feat))\n",
    "print()    \n",
    "print('Botton features')\n",
    "for score, feat in sorted(zip(rf.feature_importances_, x.columns), reverse=True)[-10:]:\n",
    "    print('{:.5f} {}'.format(score,feat))"
   ]
  },
  {
   "cell_type": "markdown",
   "metadata": {},
   "source": [
    "So... binning the age didn't help a bit... Lets keep the age_in_days.\n",
    " \n",
    "We can try using the breed information to augment the dataset, but its too large (lots of different values).\n",
    "We can use it, but first we have to reduce the number of feature (columns) using PCA."
   ]
  },
  {
   "cell_type": "code",
   "execution_count": 25,
   "metadata": {
    "collapsed": false
   },
   "outputs": [
    {
     "name": "stdout",
     "output_type": "stream",
     "text": [
      "(26729, 20)\n",
      "0.655448918617\n"
     ]
    }
   ],
   "source": [
    "pca = PCA(20)\n",
    "breed = pca.fit_transform(pd.get_dummies(df['Breed']))\n",
    "print(breed.shape)\n",
    "print(np.sum(pca.explained_variance_ratio_))\n",
    "\n",
    "breed = pd.DataFrame(breed, columns=['breed_' + str(i) for i in range(breed.shape[1]) ])"
   ]
  },
  {
   "cell_type": "code",
   "execution_count": 26,
   "metadata": {
    "collapsed": false
   },
   "outputs": [
    {
     "name": "stdout",
     "output_type": "stream",
     "text": [
      "0.189216808415\n"
     ]
    }
   ],
   "source": [
    "#df2 = df[['age_in_days', 'age_in_years', 'age_in_months', 'OutcomeType', 'condition', 'sex','AnimalType', 'has_name', 'color_1', 'color_2', 'pure_breed', 'hour', 'weekday', 'month']]\n",
    "df2 = df[['age_in_years', 'OutcomeType', 'condition', 'sex','AnimalType', 'has_name', 'color_1', 'color_2', 'pure_breed', 'hour', 'weekday', 'month']]\n",
    "df2 = pd.get_dummies(df2.reindex(), columns=['condition', 'sex','AnimalType', 'has_name', 'color_1', 'color_2', 'pure_breed', 'hour', 'weekday', 'month'])\n",
    "df2 = pd.concat((df2, breed), axis=1)\n",
    "\n",
    "df2.dropna(axis=0, inplace=True)\n",
    "y = df2['OutcomeType']\n",
    "x = df2.drop('OutcomeType', axis=1)\n",
    "\n",
    "rf = RandomForestClassifier(n_estimators=30, max_depth=None)\n",
    "rf.fit(x, y)\n",
    "y_pred = rf.predict_proba(x)\n",
    "print(log_loss(y, y_pred))"
   ]
  },
  {
   "cell_type": "code",
   "execution_count": 27,
   "metadata": {
    "collapsed": false
   },
   "outputs": [
    {
     "name": "stdout",
     "output_type": "stream",
     "text": [
      "Top features\n",
      "0.129 age_in_years\n",
      "0.065 condition_operated\n",
      "0.049 condition_intact\n",
      "0.027 has_name_False\n",
      "0.024 has_name_True\n",
      "0.019 color_2_White\n",
      "0.016 color_1_Black\n",
      "0.016 hour_17\n",
      "0.015 sex_Male\n",
      "0.015 sex_Female\n",
      "\n",
      "Botton features\n",
      "0.00001 color_2_Blue Tiger\n",
      "0.00001 color_2_Seal Point\n",
      "0.00001 hour_5\n",
      "0.00000 color_1_Pink\n",
      "0.00000 color_1_Silver Lynx Point\n",
      "0.00000 color_2_Brown Tiger\n",
      "0.00000 color_2_Silver Tabby\n",
      "0.00000 color_2_Chocolate Point\n",
      "0.00000 color_2_Flame Point\n",
      "0.00000 color_1_Ruddy\n"
     ]
    }
   ],
   "source": [
    "print('Top features')\n",
    "for score, feat in sorted(zip(rf.feature_importances_, x.columns), reverse=True)[:10]:\n",
    "    print('{:.3f} {}'.format(score,feat))\n",
    "print()    \n",
    "print('Botton features')\n",
    "for score, feat in sorted(zip(rf.feature_importances_, x.columns), reverse=True)[-10:]:\n",
    "    print('{:.5f} {}'.format(score,feat))"
   ]
  },
  {
   "cell_type": "markdown",
   "metadata": {},
   "source": [
    "While not among the top 10 features, obviously the breed of the animal helped a bit\n",
    " \n",
    "Lets see how our model behaves on unseen data. To do it we will do crossvalidation"
   ]
  },
  {
   "cell_type": "code",
   "execution_count": 28,
   "metadata": {
    "collapsed": false
   },
   "outputs": [
    {
     "data": {
      "text/plain": [
       "array([-2.52991994, -2.46653841, -2.39445516])"
      ]
     },
     "execution_count": 28,
     "metadata": {},
     "output_type": "execute_result"
    }
   ],
   "source": [
    "cross_val_score(RandomForestClassifier(), x, y , cv =3, scoring='log_loss')"
   ]
  },
  {
   "cell_type": "markdown",
   "metadata": {},
   "source": [
    "eek! This is bad! The predictions are really BAD. But on the training set all was good... This indicates a problem of overfitting: the model understands the training really well but can't generalize to unseen problems.\n",
    "When dealing with trees one way to overcome this is to control the max_depth of the tree. Lets see how this influences the predictions."
   ]
  },
  {
   "cell_type": "code",
   "execution_count": 29,
   "metadata": {
    "collapsed": false
   },
   "outputs": [
    {
     "name": "stderr",
     "output_type": "stream",
     "text": [
      "/usr/lib64/python3.4/site-packages/matplotlib/collections.py:590: FutureWarning: elementwise comparison failed; returning scalar instead, but in the future will perform elementwise comparison\n",
      "  if self._edgecolors == str('face'):\n"
     ]
    },
    {
     "data": {
      "image/png": "[encoded data removed]",
      "text/plain": [
       "<matplotlib.figure.Figure at 0x7fd69d97bf98>"
      ]
     },
     "metadata": {},
     "output_type": "display_data"
    }
   ],
   "source": [
    "X_train, X_test, y_train,  y_test = train_test_split(x, y)\n",
    "depth = list(range(1, 30, 2))\n",
    "test_score = []\n",
    "train_score = []\n",
    "for d in depth:\n",
    "    rfc = RandomForestClassifier(max_depth=d)\n",
    "    rfc.fit(X_train, y_train)\n",
    "    train_score.append(log_loss(y_train, rfc.predict_proba(X_train)))\n",
    "    test_score.append(log_loss(y_test, rfc.predict_proba(X_test)))\n",
    "\n",
    "ax = sns.pointplot(depth, train_score, color='red')\n",
    "ax = sns.pointplot(depth, test_score, color='blue')"
   ]
  },
  {
   "cell_type": "markdown",
   "metadata": {},
   "source": [
    "Thats the problem! The depth plays an important role here. Until depth is 9-10 all is good and is helps lower the training scores (a bit), but when we go above 13 the test results start increasing REALLY fast. So lets keep the depth at check with a value of 10.\n",
    "\n",
    "As our data is also very unbalanced (very few animals die), we might take a look at the min_samples_leaf variable on RandomForests as well (this contrl how many itens must be at the leaf)."
   ]
  },
  {
   "cell_type": "code",
   "execution_count": 30,
   "metadata": {
    "collapsed": false
   },
   "outputs": [
    {
     "name": "stderr",
     "output_type": "stream",
     "text": [
      "/usr/lib64/python3.4/site-packages/matplotlib/collections.py:590: FutureWarning: elementwise comparison failed; returning scalar instead, but in the future will perform elementwise comparison\n",
      "  if self._edgecolors == str('face'):\n"
     ]
    },
    {
     "data": {
      "image/png": "[encoded data removed]",
      "text/plain": [
       "<matplotlib.figure.Figure at 0x7fd69d998048>"
      ]
     },
     "metadata": {},
     "output_type": "display_data"
    }
   ],
   "source": [
    "min_samples_leaf = list(range(1, 50, 2))\n",
    "test_score = []\n",
    "train_score = []\n",
    "for m in min_samples_leaf:\n",
    "    rfc = RandomForestClassifier(max_depth=10, min_samples_leaf= m, random_state=42)\n",
    "    rfc.fit(X_train, y_train)\n",
    "    train_score.append(log_loss(y_train, rfc.predict_proba(X_train)))\n",
    "    test_score.append(log_loss(y_test, rfc.predict_proba(X_test)))\n",
    "\n",
    "ax = sns.pointplot(min_samples_leaf, train_score, color='red')\n",
    "ax = sns.pointplot(min_samples_leaf, test_score, color='blue')"
   ]
  },
  {
   "cell_type": "code",
   "execution_count": 31,
   "metadata": {
    "collapsed": false
   },
   "outputs": [
    {
     "name": "stderr",
     "output_type": "stream",
     "text": [
      "/usr/lib64/python3.4/site-packages/matplotlib/collections.py:590: FutureWarning: elementwise comparison failed; returning scalar instead, but in the future will perform elementwise comparison\n",
      "  if self._edgecolors == str('face'):\n"
     ]
    },
    {
     "data": {
      "image/png": "[encoded data removed]",
      "text/plain": [
       "<matplotlib.figure.Figure at 0x7fd69e40a9e8>"
      ]
     },
     "metadata": {},
     "output_type": "display_data"
    }
   ],
   "source": [
    "estimators = list(range(10, 80, 10))\n",
    "test_score = []\n",
    "train_score = []\n",
    "for e in estimators:\n",
    "    rfc = RandomForestClassifier(max_depth=15, min_samples_leaf=1, random_state=42, n_estimators=e)\n",
    "    rfc.fit(X_train, y_train)\n",
    "    train_score.append(log_loss(y_train, rfc.predict_proba(X_train)))\n",
    "    test_score.append(log_loss(y_test, rfc.predict_proba(X_test)))\n",
    "\n",
    "ax = sns.pointplot(estimators, train_score, color='red')\n",
    "ax = sns.pointplot(estimators, test_score, color='blue')"
   ]
  },
  {
   "cell_type": "markdown",
   "metadata": {},
   "source": [
    "So, above 40 trees we don't see much improvement? But maybe, now that we have more trees some of the other parameters can be changed. While we could go back and check max_depth and min_samples_leaf with the new values there is a better way: grid search with cross validation."
   ]
  },
  {
   "cell_type": "code",
   "execution_count": 32,
   "metadata": {
    "collapsed": false
   },
   "outputs": [
    {
     "data": {
      "text/plain": [
       "array([-0.88085565, -0.87274527, -0.87020837])"
      ]
     },
     "execution_count": 32,
     "metadata": {},
     "output_type": "execute_result"
    }
   ],
   "source": [
    "df.age_in_days = df.age_in_days.astype('category')\n",
    "df2 = df[['age_in_days', 'OutcomeType', 'condition', 'sex','AnimalType', 'has_name', 'color_1', 'color_2', 'pure_breed', 'hour', 'weekday', 'month']]\n",
    "df2 = pd.get_dummies(df2.reindex(), columns=['condition', 'sex', 'AnimalType', 'has_name', 'color_1', 'color_2', 'pure_breed', 'hour', 'weekday', 'month'])\n",
    "df2 = pd.concat((df2, breed), axis=1)\n",
    "\n",
    "df2.dropna(axis=0, inplace=True)\n",
    "y = df2['OutcomeType']\n",
    "x = df2.drop('OutcomeType', axis=1)\n",
    "\n",
    "cross_val_score(RandomForestClassifier(max_depth=10, n_estimators=100), x, y , cv=3, scoring='log_loss')"
   ]
  },
  {
   "cell_type": "code",
   "execution_count": 33,
   "metadata": {
    "collapsed": false
   },
   "outputs": [
    {
     "name": "stdout",
     "output_type": "stream",
     "text": [
      "Fitting 3 folds for each of 90 candidates, totalling 270 fits\n",
      "[CV] max_depth=2, min_samples_leaf=1, n_estimators=10 ................\n",
      "[CV]  max_depth=2, min_samples_leaf=1, n_estimators=10, score=-1.058549 -   0.4s\n",
      "[CV] max_depth=2, min_samples_leaf=1, n_estimators=10 ................\n"
     ]
    },
    {
     "name": "stderr",
     "output_type": "stream",
     "text": [
      "[Parallel(n_jobs=1)]: Done   1 jobs       | elapsed:    0.4s\n"
     ]
    },
    {
     "name": "stdout",
     "output_type": "stream",
     "text": [
      "[CV]  max_depth=2, min_samples_leaf=1, n_estimators=10, score=-1.067245 -   0.4s\n",
      "[CV] max_depth=2, min_samples_leaf=1, n_estimators=10 ................\n",
      "[CV]  max_depth=2, min_samples_leaf=1, n_estimators=10, score=-1.071087 -   0.4s\n",
      "[CV] max_depth=2, min_samples_leaf=1, n_estimators=32 ................\n",
      "[CV]  max_depth=2, min_samples_leaf=1, n_estimators=32, score=-1.081722 -   0.5s\n",
      "[CV] max_depth=2, min_samples_leaf=1, n_estimators=32 ................\n",
      "[CV]  max_depth=2, min_samples_leaf=1, n_estimators=32, score=-1.073525 -   0.5s\n",
      "[CV] max_depth=2, min_samples_leaf=1, n_estimators=32 ................\n",
      "[CV]  max_depth=2, min_samples_leaf=1, n_estimators=32, score=-1.053566 -   0.6s\n",
      "[CV] max_depth=2, min_samples_leaf=1, n_estimators=55 ................\n",
      "[CV]  max_depth=2, min_samples_leaf=1, n_estimators=55, score=-1.087033 -   0.7s\n",
      "[CV] max_depth=2, min_samples_leaf=1, n_estimators=55 ................\n",
      "[CV]  max_depth=2, min_samples_leaf=1, n_estimators=55, score=-1.088596 -   0.7s\n",
      "[CV] max_depth=2, min_samples_leaf=1, n_estimators=55 ................\n",
      "[CV]  max_depth=2, min_samples_leaf=1, n_estimators=55, score=-1.090929 -   0.7s\n",
      "[CV] max_depth=2, min_samples_leaf=1, n_estimators=77 ................\n",
      "[CV]  max_depth=2, min_samples_leaf=1, n_estimators=77, score=-1.073786 -   0.8s\n",
      "[CV] max_depth=2, min_samples_leaf=1, n_estimators=77 ................\n",
      "[CV]  max_depth=2, min_samples_leaf=1, n_estimators=77, score=-1.080712 -   0.9s\n",
      "[CV] max_depth=2, min_samples_leaf=1, n_estimators=77 ................\n",
      "[CV]  max_depth=2, min_samples_leaf=1, n_estimators=77, score=-1.083650 -   0.8s\n",
      "[CV] max_depth=2, min_samples_leaf=1, n_estimators=100 ...............\n",
      "[CV]  max_depth=2, min_samples_leaf=1, n_estimators=100, score=-1.081264 -   1.0s\n",
      "[CV] max_depth=2, min_samples_leaf=1, n_estimators=100 ...............\n",
      "[CV]  max_depth=2, min_samples_leaf=1, n_estimators=100, score=-1.095474 -   1.0s\n",
      "[CV] max_depth=2, min_samples_leaf=1, n_estimators=100 ...............\n",
      "[CV]  max_depth=2, min_samples_leaf=1, n_estimators=100, score=-1.069996 -   1.0s\n",
      "[CV] max_depth=2, min_samples_leaf=8, n_estimators=10 ................\n",
      "[CV]  max_depth=2, min_samples_leaf=8, n_estimators=10, score=-1.068653 -   0.4s\n",
      "[CV] max_depth=2, min_samples_leaf=8, n_estimators=10 ................\n",
      "[CV]  max_depth=2, min_samples_leaf=8, n_estimators=10, score=-1.096855 -   0.4s\n",
      "[CV] max_depth=2, min_samples_leaf=8, n_estimators=10 ................\n",
      "[CV]  max_depth=2, min_samples_leaf=8, n_estimators=10, score=-1.092512 -   0.4s\n",
      "[CV] max_depth=2, min_samples_leaf=8, n_estimators=32 ................\n",
      "[CV]  max_depth=2, min_samples_leaf=8, n_estimators=32, score=-1.076217 -   0.5s\n",
      "[CV] max_depth=2, min_samples_leaf=8, n_estimators=32 ................\n",
      "[CV]  max_depth=2, min_samples_leaf=8, n_estimators=32, score=-1.071772 -   0.5s\n",
      "[CV] max_depth=2, min_samples_leaf=8, n_estimators=32 ................\n",
      "[CV]  max_depth=2, min_samples_leaf=8, n_estimators=32, score=-1.078262 -   0.5s\n",
      "[CV] max_depth=2, min_samples_leaf=8, n_estimators=55 ................\n",
      "[CV]  max_depth=2, min_samples_leaf=8, n_estimators=55, score=-1.086206 -   0.7s\n",
      "[CV] max_depth=2, min_samples_leaf=8, n_estimators=55 ................\n",
      "[CV]  max_depth=2, min_samples_leaf=8, n_estimators=55, score=-1.102044 -   0.7s\n",
      "[CV] max_depth=2, min_samples_leaf=8, n_estimators=55 ................\n",
      "[CV]  max_depth=2, min_samples_leaf=8, n_estimators=55, score=-1.085505 -   0.7s\n",
      "[CV] max_depth=2, min_samples_leaf=8, n_estimators=77 ................\n",
      "[CV]  max_depth=2, min_samples_leaf=8, n_estimators=77, score=-1.081083 -   0.8s\n",
      "[CV] max_depth=2, min_samples_leaf=8, n_estimators=77 ................\n",
      "[CV]  max_depth=2, min_samples_leaf=8, n_estimators=77, score=-1.065610 -   0.8s\n",
      "[CV] max_depth=2, min_samples_leaf=8, n_estimators=77 ................\n",
      "[CV]  max_depth=2, min_samples_leaf=8, n_estimators=77, score=-1.064808 -   0.9s\n",
      "[CV] max_depth=2, min_samples_leaf=8, n_estimators=100 ...............\n",
      "[CV]  max_depth=2, min_samples_leaf=8, n_estimators=100, score=-1.083141 -   1.0s\n",
      "[CV] max_depth=2, min_samples_leaf=8, n_estimators=100 ...............\n",
      "[CV]  max_depth=2, min_samples_leaf=8, n_estimators=100, score=-1.087971 -   1.1s\n",
      "[CV] max_depth=2, min_samples_leaf=8, n_estimators=100 ...............\n",
      "[CV]  max_depth=2, min_samples_leaf=8, n_estimators=100, score=-1.089235 -   1.0s\n",
      "[CV] max_depth=2, min_samples_leaf=15, n_estimators=10 ...............\n",
      "[CV]  max_depth=2, min_samples_leaf=15, n_estimators=10, score=-1.066730 -   0.4s\n",
      "[CV] max_depth=2, min_samples_leaf=15, n_estimators=10 ...............\n",
      "[CV]  max_depth=2, min_samples_leaf=15, n_estimators=10, score=-1.119762 -   0.4s\n",
      "[CV] max_depth=2, min_samples_leaf=15, n_estimators=10 ...............\n"
     ]
    },
    {
     "name": "stderr",
     "output_type": "stream",
     "text": [
      "[Parallel(n_jobs=1)]: Done  32 jobs       | elapsed:   21.8s\n"
     ]
    },
    {
     "name": "stdout",
     "output_type": "stream",
     "text": [
      "[CV]  max_depth=2, min_samples_leaf=15, n_estimators=10, score=-1.106534 -   0.4s\n",
      "[CV] max_depth=2, min_samples_leaf=15, n_estimators=32 ...............\n",
      "[CV]  max_depth=2, min_samples_leaf=15, n_estimators=32, score=-1.092158 -   0.5s\n",
      "[CV] max_depth=2, min_samples_leaf=15, n_estimators=32 ...............\n",
      "[CV]  max_depth=2, min_samples_leaf=15, n_estimators=32, score=-1.074515 -   0.5s\n",
      "[CV] max_depth=2, min_samples_leaf=15, n_estimators=32 ...............\n",
      "[CV]  max_depth=2, min_samples_leaf=15, n_estimators=32, score=-1.072487 -   0.5s\n",
      "[CV] max_depth=2, min_samples_leaf=15, n_estimators=55 ...............\n",
      "[CV]  max_depth=2, min_samples_leaf=15, n_estimators=55, score=-1.096545 -   0.7s\n",
      "[CV] max_depth=2, min_samples_leaf=15, n_estimators=55 ...............\n",
      "[CV]  max_depth=2, min_samples_leaf=15, n_estimators=55, score=-1.080642 -   0.7s\n",
      "[CV] max_depth=2, min_samples_leaf=15, n_estimators=55 ...............\n",
      "[CV]  max_depth=2, min_samples_leaf=15, n_estimators=55, score=-1.074717 -   0.7s\n",
      "[CV] max_depth=2, min_samples_leaf=15, n_estimators=77 ...............\n",
      "[CV]  max_depth=2, min_samples_leaf=15, n_estimators=77, score=-1.075947 -   0.9s\n",
      "[CV] max_depth=2, min_samples_leaf=15, n_estimators=77 ...............\n",
      "[CV]  max_depth=2, min_samples_leaf=15, n_estimators=77, score=-1.073161 -   0.8s\n",
      "[CV] max_depth=2, min_samples_leaf=15, n_estimators=77 ...............\n",
      "[CV]  max_depth=2, min_samples_leaf=15, n_estimators=77, score=-1.058343 -   0.8s\n",
      "[CV] max_depth=2, min_samples_leaf=15, n_estimators=100 ..............\n",
      "[CV]  max_depth=2, min_samples_leaf=15, n_estimators=100, score=-1.077430 -   1.0s\n",
      "[CV] max_depth=2, min_samples_leaf=15, n_estimators=100 ..............\n",
      "[CV]  max_depth=2, min_samples_leaf=15, n_estimators=100, score=-1.078180 -   1.0s\n",
      "[CV] max_depth=2, min_samples_leaf=15, n_estimators=100 ..............\n",
      "[CV]  max_depth=2, min_samples_leaf=15, n_estimators=100, score=-1.089758 -   1.0s\n",
      "[CV] max_depth=7, min_samples_leaf=1, n_estimators=10 ................\n",
      "[CV]  max_depth=7, min_samples_leaf=1, n_estimators=10, score=-0.922069 -   0.5s\n",
      "[CV] max_depth=7, min_samples_leaf=1, n_estimators=10 ................\n",
      "[CV]  max_depth=7, min_samples_leaf=1, n_estimators=10, score=-0.901163 -   0.5s\n",
      "[CV] max_depth=7, min_samples_leaf=1, n_estimators=10 ................\n",
      "[CV]  max_depth=7, min_samples_leaf=1, n_estimators=10, score=-0.922930 -   0.5s\n",
      "[CV] max_depth=7, min_samples_leaf=1, n_estimators=32 ................\n",
      "[CV]  max_depth=7, min_samples_leaf=1, n_estimators=32, score=-0.932536 -   0.8s\n",
      "[CV] max_depth=7, min_samples_leaf=1, n_estimators=32 ................\n",
      "[CV]  max_depth=7, min_samples_leaf=1, n_estimators=32, score=-0.924320 -   0.8s\n",
      "[CV] max_depth=7, min_samples_leaf=1, n_estimators=32 ................\n",
      "[CV]  max_depth=7, min_samples_leaf=1, n_estimators=32, score=-0.919111 -   0.8s\n",
      "[CV] max_depth=7, min_samples_leaf=1, n_estimators=55 ................\n",
      "[CV]  max_depth=7, min_samples_leaf=1, n_estimators=55, score=-0.924970 -   1.2s\n",
      "[CV] max_depth=7, min_samples_leaf=1, n_estimators=55 ................\n",
      "[CV]  max_depth=7, min_samples_leaf=1, n_estimators=55, score=-0.921613 -   1.2s\n",
      "[CV] max_depth=7, min_samples_leaf=1, n_estimators=55 ................\n",
      "[CV]  max_depth=7, min_samples_leaf=1, n_estimators=55, score=-0.914837 -   1.2s\n",
      "[CV] max_depth=7, min_samples_leaf=1, n_estimators=77 ................\n",
      "[CV]  max_depth=7, min_samples_leaf=1, n_estimators=77, score=-0.933065 -   1.6s\n",
      "[CV] max_depth=7, min_samples_leaf=1, n_estimators=77 ................\n",
      "[CV]  max_depth=7, min_samples_leaf=1, n_estimators=77, score=-0.919635 -   1.5s\n",
      "[CV] max_depth=7, min_samples_leaf=1, n_estimators=77 ................\n",
      "[CV]  max_depth=7, min_samples_leaf=1, n_estimators=77, score=-0.915249 -   1.5s\n",
      "[CV] max_depth=7, min_samples_leaf=1, n_estimators=100 ...............\n",
      "[CV]  max_depth=7, min_samples_leaf=1, n_estimators=100, score=-0.925219 -   1.9s\n",
      "[CV] max_depth=7, min_samples_leaf=1, n_estimators=100 ...............\n",
      "[CV]  max_depth=7, min_samples_leaf=1, n_estimators=100, score=-0.916547 -   1.9s\n",
      "[CV] max_depth=7, min_samples_leaf=1, n_estimators=100 ...............\n",
      "[CV]  max_depth=7, min_samples_leaf=1, n_estimators=100, score=-0.924409 -   1.9s\n",
      "[CV] max_depth=7, min_samples_leaf=8, n_estimators=10 ................\n",
      "[CV]  max_depth=7, min_samples_leaf=8, n_estimators=10, score=-0.919788 -   0.5s\n",
      "[CV] max_depth=7, min_samples_leaf=8, n_estimators=10 ................\n",
      "[CV]  max_depth=7, min_samples_leaf=8, n_estimators=10, score=-0.917041 -   0.5s\n",
      "[CV] max_depth=7, min_samples_leaf=8, n_estimators=10 ................\n",
      "[CV]  max_depth=7, min_samples_leaf=8, n_estimators=10, score=-0.940282 -   0.5s\n",
      "[CV] max_depth=7, min_samples_leaf=8, n_estimators=32 ................\n",
      "[CV]  max_depth=7, min_samples_leaf=8, n_estimators=32, score=-0.929603 -   0.8s\n",
      "[CV] max_depth=7, min_samples_leaf=8, n_estimators=32 ................\n",
      "[CV]  max_depth=7, min_samples_leaf=8, n_estimators=32, score=-0.924493 -   0.8s\n",
      "[CV] max_depth=7, min_samples_leaf=8, n_estimators=32 ................\n",
      "[CV]  max_depth=7, min_samples_leaf=8, n_estimators=32, score=-0.929774 -   0.8s\n",
      "[CV] max_depth=7, min_samples_leaf=8, n_estimators=55 ................\n",
      "[CV]  max_depth=7, min_samples_leaf=8, n_estimators=55, score=-0.920186 -   1.2s\n",
      "[CV] max_depth=7, min_samples_leaf=8, n_estimators=55 ................\n",
      "[CV]  max_depth=7, min_samples_leaf=8, n_estimators=55, score=-0.920194 -   1.2s\n",
      "[CV] max_depth=7, min_samples_leaf=8, n_estimators=55 ................\n",
      "[CV]  max_depth=7, min_samples_leaf=8, n_estimators=55, score=-0.919961 -   1.1s\n",
      "[CV] max_depth=7, min_samples_leaf=8, n_estimators=77 ................\n",
      "[CV]  max_depth=7, min_samples_leaf=8, n_estimators=77, score=-0.919664 -   1.6s\n",
      "[CV] max_depth=7, min_samples_leaf=8, n_estimators=77 ................\n",
      "[CV]  max_depth=7, min_samples_leaf=8, n_estimators=77, score=-0.916909 -   1.5s\n",
      "[CV] max_depth=7, min_samples_leaf=8, n_estimators=77 ................\n",
      "[CV]  max_depth=7, min_samples_leaf=8, n_estimators=77, score=-0.920717 -   1.6s\n",
      "[CV] max_depth=7, min_samples_leaf=8, n_estimators=100 ...............\n",
      "[CV]  max_depth=7, min_samples_leaf=8, n_estimators=100, score=-0.921924 -   1.8s\n",
      "[CV] max_depth=7, min_samples_leaf=8, n_estimators=100 ...............\n",
      "[CV]  max_depth=7, min_samples_leaf=8, n_estimators=100, score=-0.920119 -   1.9s\n",
      "[CV] max_depth=7, min_samples_leaf=8, n_estimators=100 ...............\n",
      "[CV]  max_depth=7, min_samples_leaf=8, n_estimators=100, score=-0.920422 -   1.9s\n",
      "[CV] max_depth=7, min_samples_leaf=15, n_estimators=10 ...............\n",
      "[CV]  max_depth=7, min_samples_leaf=15, n_estimators=10, score=-0.918290 -   0.5s\n",
      "[CV] max_depth=7, min_samples_leaf=15, n_estimators=10 ...............\n",
      "[CV]  max_depth=7, min_samples_leaf=15, n_estimators=10, score=-0.933793 -   0.5s\n",
      "[CV] max_depth=7, min_samples_leaf=15, n_estimators=10 ...............\n",
      "[CV]  max_depth=7, min_samples_leaf=15, n_estimators=10, score=-0.903060 -   0.5s\n",
      "[CV] max_depth=7, min_samples_leaf=15, n_estimators=32 ...............\n",
      "[CV]  max_depth=7, min_samples_leaf=15, n_estimators=32, score=-0.937895 -   0.8s\n",
      "[CV] max_depth=7, min_samples_leaf=15, n_estimators=32 ...............\n",
      "[CV]  max_depth=7, min_samples_leaf=15, n_estimators=32, score=-0.925016 -   0.8s\n",
      "[CV] max_depth=7, min_samples_leaf=15, n_estimators=32 ...............\n",
      "[CV]  max_depth=7, min_samples_leaf=15, n_estimators=32, score=-0.921641 -   0.8s\n",
      "[CV] max_depth=7, min_samples_leaf=15, n_estimators=55 ...............\n",
      "[CV]  max_depth=7, min_samples_leaf=15, n_estimators=55, score=-0.931044 -   1.2s\n",
      "[CV] max_depth=7, min_samples_leaf=15, n_estimators=55 ...............\n",
      "[CV]  max_depth=7, min_samples_leaf=15, n_estimators=55, score=-0.922331 -   1.2s\n",
      "[CV] max_depth=7, min_samples_leaf=15, n_estimators=55 ...............\n",
      "[CV]  max_depth=7, min_samples_leaf=15, n_estimators=55, score=-0.930256 -   1.1s\n",
      "[CV] max_depth=7, min_samples_leaf=15, n_estimators=77 ...............\n",
      "[CV]  max_depth=7, min_samples_leaf=15, n_estimators=77, score=-0.925825 -   1.5s\n",
      "[CV] max_depth=7, min_samples_leaf=15, n_estimators=77 ...............\n",
      "[CV]  max_depth=7, min_samples_leaf=15, n_estimators=77, score=-0.925718 -   1.5s\n",
      "[CV] max_depth=7, min_samples_leaf=15, n_estimators=77 ...............\n",
      "[CV]  max_depth=7, min_samples_leaf=15, n_estimators=77, score=-0.924222 -   1.6s\n",
      "[CV] max_depth=7, min_samples_leaf=15, n_estimators=100 ..............\n",
      "[CV]  max_depth=7, min_samples_leaf=15, n_estimators=100, score=-0.931557 -   1.8s\n",
      "[CV] max_depth=7, min_samples_leaf=15, n_estimators=100 ..............\n",
      "[CV]  max_depth=7, min_samples_leaf=15, n_estimators=100, score=-0.927094 -   1.9s\n",
      "[CV] max_depth=7, min_samples_leaf=15, n_estimators=100 ..............\n",
      "[CV]  max_depth=7, min_samples_leaf=15, n_estimators=100, score=-0.924422 -   1.9s\n",
      "[CV] max_depth=13, min_samples_leaf=1, n_estimators=10 ...............\n",
      "[CV]  max_depth=13, min_samples_leaf=1, n_estimators=10, score=-0.868144 -   0.6s\n",
      "[CV] max_depth=13, min_samples_leaf=1, n_estimators=10 ...............\n",
      "[CV]  max_depth=13, min_samples_leaf=1, n_estimators=10, score=-0.870467 -   0.6s\n",
      "[CV] max_depth=13, min_samples_leaf=1, n_estimators=10 ...............\n",
      "[CV]  max_depth=13, min_samples_leaf=1, n_estimators=10, score=-0.878462 -   0.6s\n",
      "[CV] max_depth=13, min_samples_leaf=1, n_estimators=32 ...............\n",
      "[CV]  max_depth=13, min_samples_leaf=1, n_estimators=32, score=-0.852625 -   1.3s\n",
      "[CV] max_depth=13, min_samples_leaf=1, n_estimators=32 ...............\n",
      "[CV]  max_depth=13, min_samples_leaf=1, n_estimators=32, score=-0.847723 -   1.2s\n",
      "[CV] max_depth=13, min_samples_leaf=1, n_estimators=32 ...............\n",
      "[CV]  max_depth=13, min_samples_leaf=1, n_estimators=32, score=-0.844635 -   1.2s\n",
      "[CV] max_depth=13, min_samples_leaf=1, n_estimators=55 ...............\n",
      "[CV]  max_depth=13, min_samples_leaf=1, n_estimators=55, score=-0.846314 -   1.9s\n",
      "[CV] max_depth=13, min_samples_leaf=1, n_estimators=55 ...............\n",
      "[CV]  max_depth=13, min_samples_leaf=1, n_estimators=55, score=-0.844512 -   1.9s\n",
      "[CV] max_depth=13, min_samples_leaf=1, n_estimators=55 ...............\n",
      "[CV]  max_depth=13, min_samples_leaf=1, n_estimators=55, score=-0.834316 -   1.9s\n",
      "[CV] max_depth=13, min_samples_leaf=1, n_estimators=77 ...............\n",
      "[CV]  max_depth=13, min_samples_leaf=1, n_estimators=77, score=-0.847429 -   2.6s\n",
      "[CV] max_depth=13, min_samples_leaf=1, n_estimators=77 ...............\n",
      "[CV]  max_depth=13, min_samples_leaf=1, n_estimators=77, score=-0.840280 -   2.5s\n",
      "[CV] max_depth=13, min_samples_leaf=1, n_estimators=77 ...............\n",
      "[CV]  max_depth=13, min_samples_leaf=1, n_estimators=77, score=-0.836183 -   2.5s\n",
      "[CV] max_depth=13, min_samples_leaf=1, n_estimators=100 ..............\n",
      "[CV]  max_depth=13, min_samples_leaf=1, n_estimators=100, score=-0.842800 -   3.1s\n",
      "[CV] max_depth=13, min_samples_leaf=1, n_estimators=100 ..............\n",
      "[CV]  max_depth=13, min_samples_leaf=1, n_estimators=100, score=-0.834989 -   3.2s\n",
      "[CV] max_depth=13, min_samples_leaf=1, n_estimators=100 ..............\n",
      "[CV]  max_depth=13, min_samples_leaf=1, n_estimators=100, score=-0.834369 -   3.2s\n",
      "[CV] max_depth=13, min_samples_leaf=8, n_estimators=10 ...............\n",
      "[CV]  max_depth=13, min_samples_leaf=8, n_estimators=10, score=-0.881255 -   0.6s\n",
      "[CV] max_depth=13, min_samples_leaf=8, n_estimators=10 ...............\n",
      "[CV]  max_depth=13, min_samples_leaf=8, n_estimators=10, score=-0.874455 -   0.6s\n",
      "[CV] max_depth=13, min_samples_leaf=8, n_estimators=10 ...............\n",
      "[CV]  max_depth=13, min_samples_leaf=8, n_estimators=10, score=-0.872126 -   0.6s\n",
      "[CV] max_depth=13, min_samples_leaf=8, n_estimators=32 ...............\n",
      "[CV]  max_depth=13, min_samples_leaf=8, n_estimators=32, score=-0.866276 -   1.1s\n",
      "[CV] max_depth=13, min_samples_leaf=8, n_estimators=32 ...............\n",
      "[CV]  max_depth=13, min_samples_leaf=8, n_estimators=32, score=-0.858844 -   1.1s\n",
      "[CV] max_depth=13, min_samples_leaf=8, n_estimators=32 ...............\n",
      "[CV]  max_depth=13, min_samples_leaf=8, n_estimators=32, score=-0.854830 -   1.1s\n",
      "[CV] max_depth=13, min_samples_leaf=8, n_estimators=55 ...............\n",
      "[CV]  max_depth=13, min_samples_leaf=8, n_estimators=55, score=-0.870160 -   1.7s\n",
      "[CV] max_depth=13, min_samples_leaf=8, n_estimators=55 ...............\n",
      "[CV]  max_depth=13, min_samples_leaf=8, n_estimators=55, score=-0.862293 -   1.7s\n",
      "[CV] max_depth=13, min_samples_leaf=8, n_estimators=55 ...............\n",
      "[CV]  max_depth=13, min_samples_leaf=8, n_estimators=55, score=-0.859386 -   1.7s\n",
      "[CV] max_depth=13, min_samples_leaf=8, n_estimators=77 ...............\n",
      "[CV]  max_depth=13, min_samples_leaf=8, n_estimators=77, score=-0.866655 -   2.2s\n",
      "[CV] max_depth=13, min_samples_leaf=8, n_estimators=77 ...............\n",
      "[CV]  max_depth=13, min_samples_leaf=8, n_estimators=77, score=-0.861265 -   2.2s\n",
      "[CV] max_depth=13, min_samples_leaf=8, n_estimators=77 ...............\n",
      "[CV]  max_depth=13, min_samples_leaf=8, n_estimators=77, score=-0.855316 -   2.3s\n",
      "[CV] max_depth=13, min_samples_leaf=8, n_estimators=100 ..............\n",
      "[CV]  max_depth=13, min_samples_leaf=8, n_estimators=100, score=-0.864816 -   2.7s\n",
      "[CV] max_depth=13, min_samples_leaf=8, n_estimators=100 ..............\n",
      "[CV]  max_depth=13, min_samples_leaf=8, n_estimators=100, score=-0.861204 -   2.8s\n",
      "[CV] max_depth=13, min_samples_leaf=8, n_estimators=100 ..............\n",
      "[CV]  max_depth=13, min_samples_leaf=8, n_estimators=100, score=-0.852794 -   2.8s\n",
      "[CV] max_depth=13, min_samples_leaf=15, n_estimators=10 ..............\n",
      "[CV]  max_depth=13, min_samples_leaf=15, n_estimators=10, score=-0.872783 -   0.5s\n",
      "[CV] max_depth=13, min_samples_leaf=15, n_estimators=10 ..............\n",
      "[CV]  max_depth=13, min_samples_leaf=15, n_estimators=10, score=-0.883985 -   0.5s\n",
      "[CV] max_depth=13, min_samples_leaf=15, n_estimators=10 ..............\n",
      "[CV]  max_depth=13, min_samples_leaf=15, n_estimators=10, score=-0.888325 -   0.5s\n",
      "[CV] max_depth=13, min_samples_leaf=15, n_estimators=32 ..............\n",
      "[CV]  max_depth=13, min_samples_leaf=15, n_estimators=32, score=-0.876879 -   1.0s\n",
      "[CV] max_depth=13, min_samples_leaf=15, n_estimators=32 ..............\n",
      "[CV]  max_depth=13, min_samples_leaf=15, n_estimators=32, score=-0.870443 -   1.1s\n",
      "[CV] max_depth=13, min_samples_leaf=15, n_estimators=32 ..............\n",
      "[CV]  max_depth=13, min_samples_leaf=15, n_estimators=32, score=-0.867442 -   1.1s\n",
      "[CV] max_depth=13, min_samples_leaf=15, n_estimators=55 ..............\n",
      "[CV]  max_depth=13, min_samples_leaf=15, n_estimators=55, score=-0.872127 -   1.6s\n",
      "[CV] max_depth=13, min_samples_leaf=15, n_estimators=55 ..............\n",
      "[CV]  max_depth=13, min_samples_leaf=15, n_estimators=55, score=-0.870740 -   1.6s\n",
      "[CV] max_depth=13, min_samples_leaf=15, n_estimators=55 ..............\n"
     ]
    },
    {
     "name": "stderr",
     "output_type": "stream",
     "text": [
      "[Parallel(n_jobs=1)]: Done 128 jobs       | elapsed:  2.4min\n"
     ]
    },
    {
     "name": "stdout",
     "output_type": "stream",
     "text": [
      "[CV]  max_depth=13, min_samples_leaf=15, n_estimators=55, score=-0.865791 -   1.6s\n",
      "[CV] max_depth=13, min_samples_leaf=15, n_estimators=77 ..............\n",
      "[CV]  max_depth=13, min_samples_leaf=15, n_estimators=77, score=-0.874210 -   2.1s\n",
      "[CV] max_depth=13, min_samples_leaf=15, n_estimators=77 ..............\n",
      "[CV]  max_depth=13, min_samples_leaf=15, n_estimators=77, score=-0.870379 -   2.1s\n",
      "[CV] max_depth=13, min_samples_leaf=15, n_estimators=77 ..............\n",
      "[CV]  max_depth=13, min_samples_leaf=15, n_estimators=77, score=-0.865293 -   2.1s\n",
      "[CV] max_depth=13, min_samples_leaf=15, n_estimators=100 .............\n",
      "[CV]  max_depth=13, min_samples_leaf=15, n_estimators=100, score=-0.874541 -   2.6s\n",
      "[CV] max_depth=13, min_samples_leaf=15, n_estimators=100 .............\n",
      "[CV]  max_depth=13, min_samples_leaf=15, n_estimators=100, score=-0.869401 -   2.7s\n",
      "[CV] max_depth=13, min_samples_leaf=15, n_estimators=100 .............\n",
      "[CV]  max_depth=13, min_samples_leaf=15, n_estimators=100, score=-0.865135 -   2.7s\n",
      "[CV] max_depth=18, min_samples_leaf=1, n_estimators=10 ...............\n",
      "[CV]  max_depth=18, min_samples_leaf=1, n_estimators=10, score=-0.950422 -   0.7s\n",
      "[CV] max_depth=18, min_samples_leaf=1, n_estimators=10 ...............\n",
      "[CV]  max_depth=18, min_samples_leaf=1, n_estimators=10, score=-0.982442 -   0.7s\n",
      "[CV] max_depth=18, min_samples_leaf=1, n_estimators=10 ...............\n",
      "[CV]  max_depth=18, min_samples_leaf=1, n_estimators=10, score=-0.921249 -   0.7s\n",
      "[CV] max_depth=18, min_samples_leaf=1, n_estimators=32 ...............\n",
      "[CV]  max_depth=18, min_samples_leaf=1, n_estimators=32, score=-0.837277 -   1.5s\n",
      "[CV] max_depth=18, min_samples_leaf=1, n_estimators=32 ...............\n",
      "[CV]  max_depth=18, min_samples_leaf=1, n_estimators=32, score=-0.839288 -   1.6s\n",
      "[CV] max_depth=18, min_samples_leaf=1, n_estimators=32 ...............\n",
      "[CV]  max_depth=18, min_samples_leaf=1, n_estimators=32, score=-0.843406 -   1.5s\n",
      "[CV] max_depth=18, min_samples_leaf=1, n_estimators=55 ...............\n",
      "[CV]  max_depth=18, min_samples_leaf=1, n_estimators=55, score=-0.829653 -   2.4s\n",
      "[CV] max_depth=18, min_samples_leaf=1, n_estimators=55 ...............\n",
      "[CV]  max_depth=18, min_samples_leaf=1, n_estimators=55, score=-0.827290 -   2.6s\n",
      "[CV] max_depth=18, min_samples_leaf=1, n_estimators=55 ...............\n",
      "[CV]  max_depth=18, min_samples_leaf=1, n_estimators=55, score=-0.814932 -   2.4s\n",
      "[CV] max_depth=18, min_samples_leaf=1, n_estimators=77 ...............\n",
      "[CV]  max_depth=18, min_samples_leaf=1, n_estimators=77, score=-0.822969 -   3.2s\n",
      "[CV] max_depth=18, min_samples_leaf=1, n_estimators=77 ...............\n",
      "[CV]  max_depth=18, min_samples_leaf=1, n_estimators=77, score=-0.823504 -   3.3s\n",
      "[CV] max_depth=18, min_samples_leaf=1, n_estimators=77 ...............\n",
      "[CV]  max_depth=18, min_samples_leaf=1, n_estimators=77, score=-0.809197 -   3.2s\n",
      "[CV] max_depth=18, min_samples_leaf=1, n_estimators=100 ..............\n",
      "[CV]  max_depth=18, min_samples_leaf=1, n_estimators=100, score=-0.823624 -   4.0s\n",
      "[CV] max_depth=18, min_samples_leaf=1, n_estimators=100 ..............\n",
      "[CV]  max_depth=18, min_samples_leaf=1, n_estimators=100, score=-0.820442 -   4.1s\n",
      "[CV] max_depth=18, min_samples_leaf=1, n_estimators=100 ..............\n",
      "[CV]  max_depth=18, min_samples_leaf=1, n_estimators=100, score=-0.810435 -   4.2s\n",
      "[CV] max_depth=18, min_samples_leaf=8, n_estimators=10 ...............\n",
      "[CV]  max_depth=18, min_samples_leaf=8, n_estimators=10, score=-0.888932 -   0.6s\n",
      "[CV] max_depth=18, min_samples_leaf=8, n_estimators=10 ...............\n",
      "[CV]  max_depth=18, min_samples_leaf=8, n_estimators=10, score=-0.891190 -   0.6s\n",
      "[CV] max_depth=18, min_samples_leaf=8, n_estimators=10 ...............\n",
      "[CV]  max_depth=18, min_samples_leaf=8, n_estimators=10, score=-0.852441 -   0.6s\n",
      "[CV] max_depth=18, min_samples_leaf=8, n_estimators=32 ...............\n",
      "[CV]  max_depth=18, min_samples_leaf=8, n_estimators=32, score=-0.857089 -   1.2s\n",
      "[CV] max_depth=18, min_samples_leaf=8, n_estimators=32 ...............\n",
      "[CV]  max_depth=18, min_samples_leaf=8, n_estimators=32, score=-0.855506 -   1.2s\n",
      "[CV] max_depth=18, min_samples_leaf=8, n_estimators=32 ...............\n",
      "[CV]  max_depth=18, min_samples_leaf=8, n_estimators=32, score=-0.849566 -   1.2s\n",
      "[CV] max_depth=18, min_samples_leaf=8, n_estimators=55 ...............\n",
      "[CV]  max_depth=18, min_samples_leaf=8, n_estimators=55, score=-0.856019 -   1.8s\n",
      "[CV] max_depth=18, min_samples_leaf=8, n_estimators=55 ...............\n",
      "[CV]  max_depth=18, min_samples_leaf=8, n_estimators=55, score=-0.847429 -   1.8s\n",
      "[CV] max_depth=18, min_samples_leaf=8, n_estimators=55 ...............\n",
      "[CV]  max_depth=18, min_samples_leaf=8, n_estimators=55, score=-0.845182 -   1.9s\n",
      "[CV] max_depth=18, min_samples_leaf=8, n_estimators=77 ...............\n",
      "[CV]  max_depth=18, min_samples_leaf=8, n_estimators=77, score=-0.860579 -   2.5s\n",
      "[CV] max_depth=18, min_samples_leaf=8, n_estimators=77 ...............\n",
      "[CV]  max_depth=18, min_samples_leaf=8, n_estimators=77, score=-0.852753 -   2.5s\n",
      "[CV] max_depth=18, min_samples_leaf=8, n_estimators=77 ...............\n",
      "[CV]  max_depth=18, min_samples_leaf=8, n_estimators=77, score=-0.839091 -   2.5s\n",
      "[CV] max_depth=18, min_samples_leaf=8, n_estimators=100 ..............\n",
      "[CV]  max_depth=18, min_samples_leaf=8, n_estimators=100, score=-0.855407 -   3.1s\n",
      "[CV] max_depth=18, min_samples_leaf=8, n_estimators=100 ..............\n",
      "[CV]  max_depth=18, min_samples_leaf=8, n_estimators=100, score=-0.846657 -   3.2s\n",
      "[CV] max_depth=18, min_samples_leaf=8, n_estimators=100 ..............\n",
      "[CV]  max_depth=18, min_samples_leaf=8, n_estimators=100, score=-0.842824 -   3.2s\n",
      "[CV] max_depth=18, min_samples_leaf=15, n_estimators=10 ..............\n",
      "[CV]  max_depth=18, min_samples_leaf=15, n_estimators=10, score=-0.893000 -   0.6s\n",
      "[CV] max_depth=18, min_samples_leaf=15, n_estimators=10 ..............\n",
      "[CV]  max_depth=18, min_samples_leaf=15, n_estimators=10, score=-0.881360 -   0.6s\n",
      "[CV] max_depth=18, min_samples_leaf=15, n_estimators=10 ..............\n",
      "[CV]  max_depth=18, min_samples_leaf=15, n_estimators=10, score=-0.871537 -   0.6s\n",
      "[CV] max_depth=18, min_samples_leaf=15, n_estimators=32 ..............\n",
      "[CV]  max_depth=18, min_samples_leaf=15, n_estimators=32, score=-0.866266 -   1.1s\n",
      "[CV] max_depth=18, min_samples_leaf=15, n_estimators=32 ..............\n",
      "[CV]  max_depth=18, min_samples_leaf=15, n_estimators=32, score=-0.867474 -   1.1s\n",
      "[CV] max_depth=18, min_samples_leaf=15, n_estimators=32 ..............\n",
      "[CV]  max_depth=18, min_samples_leaf=15, n_estimators=32, score=-0.859431 -   1.1s\n",
      "[CV] max_depth=18, min_samples_leaf=15, n_estimators=55 ..............\n",
      "[CV]  max_depth=18, min_samples_leaf=15, n_estimators=55, score=-0.871388 -   1.7s\n",
      "[CV] max_depth=18, min_samples_leaf=15, n_estimators=55 ..............\n",
      "[CV]  max_depth=18, min_samples_leaf=15, n_estimators=55, score=-0.867254 -   1.7s\n",
      "[CV] max_depth=18, min_samples_leaf=15, n_estimators=55 ..............\n",
      "[CV]  max_depth=18, min_samples_leaf=15, n_estimators=55, score=-0.857514 -   1.7s\n",
      "[CV] max_depth=18, min_samples_leaf=15, n_estimators=77 ..............\n",
      "[CV]  max_depth=18, min_samples_leaf=15, n_estimators=77, score=-0.867229 -   2.3s\n",
      "[CV] max_depth=18, min_samples_leaf=15, n_estimators=77 ..............\n",
      "[CV]  max_depth=18, min_samples_leaf=15, n_estimators=77, score=-0.861652 -   2.3s\n",
      "[CV] max_depth=18, min_samples_leaf=15, n_estimators=77 ..............\n",
      "[CV]  max_depth=18, min_samples_leaf=15, n_estimators=77, score=-0.856723 -   2.3s\n",
      "[CV] max_depth=18, min_samples_leaf=15, n_estimators=100 .............\n",
      "[CV]  max_depth=18, min_samples_leaf=15, n_estimators=100, score=-0.868816 -   2.9s\n",
      "[CV] max_depth=18, min_samples_leaf=15, n_estimators=100 .............\n",
      "[CV]  max_depth=18, min_samples_leaf=15, n_estimators=100, score=-0.861563 -   2.9s\n",
      "[CV] max_depth=18, min_samples_leaf=15, n_estimators=100 .............\n",
      "[CV]  max_depth=18, min_samples_leaf=15, n_estimators=100, score=-0.853186 -   3.0s\n",
      "[CV] max_depth=24, min_samples_leaf=1, n_estimators=10 ...............\n",
      "[CV]  max_depth=24, min_samples_leaf=1, n_estimators=10, score=-1.375159 -   0.8s\n",
      "[CV] max_depth=24, min_samples_leaf=1, n_estimators=10 ...............\n",
      "[CV]  max_depth=24, min_samples_leaf=1, n_estimators=10, score=-1.397239 -   0.8s\n",
      "[CV] max_depth=24, min_samples_leaf=1, n_estimators=10 ...............\n",
      "[CV]  max_depth=24, min_samples_leaf=1, n_estimators=10, score=-1.451073 -   0.8s\n",
      "[CV] max_depth=24, min_samples_leaf=1, n_estimators=32 ...............\n",
      "[CV]  max_depth=24, min_samples_leaf=1, n_estimators=32, score=-0.933216 -   1.8s\n",
      "[CV] max_depth=24, min_samples_leaf=1, n_estimators=32 ...............\n",
      "[CV]  max_depth=24, min_samples_leaf=1, n_estimators=32, score=-0.909887 -   1.9s\n",
      "[CV] max_depth=24, min_samples_leaf=1, n_estimators=32 ...............\n",
      "[CV]  max_depth=24, min_samples_leaf=1, n_estimators=32, score=-0.887985 -   1.9s\n",
      "[CV] max_depth=24, min_samples_leaf=1, n_estimators=55 ...............\n",
      "[CV]  max_depth=24, min_samples_leaf=1, n_estimators=55, score=-0.865250 -   2.9s\n",
      "[CV] max_depth=24, min_samples_leaf=1, n_estimators=55 ...............\n",
      "[CV]  max_depth=24, min_samples_leaf=1, n_estimators=55, score=-0.855897 -   3.0s\n",
      "[CV] max_depth=24, min_samples_leaf=1, n_estimators=55 ...............\n",
      "[CV]  max_depth=24, min_samples_leaf=1, n_estimators=55, score=-0.861123 -   2.9s\n",
      "[CV] max_depth=24, min_samples_leaf=1, n_estimators=77 ...............\n",
      "[CV]  max_depth=24, min_samples_leaf=1, n_estimators=77, score=-0.841741 -   3.9s\n",
      "[CV] max_depth=24, min_samples_leaf=1, n_estimators=77 ...............\n",
      "[CV]  max_depth=24, min_samples_leaf=1, n_estimators=77, score=-0.844756 -   3.9s\n",
      "[CV] max_depth=24, min_samples_leaf=1, n_estimators=77 ...............\n",
      "[CV]  max_depth=24, min_samples_leaf=1, n_estimators=77, score=-0.832068 -   3.9s\n",
      "[CV] max_depth=24, min_samples_leaf=1, n_estimators=100 ..............\n",
      "[CV]  max_depth=24, min_samples_leaf=1, n_estimators=100, score=-0.832912 -   4.9s\n",
      "[CV] max_depth=24, min_samples_leaf=1, n_estimators=100 ..............\n",
      "[CV]  max_depth=24, min_samples_leaf=1, n_estimators=100, score=-0.834511 -   5.3s\n",
      "[CV] max_depth=24, min_samples_leaf=1, n_estimators=100 ..............\n",
      "[CV]  max_depth=24, min_samples_leaf=1, n_estimators=100, score=-0.822372 -   5.1s\n",
      "[CV] max_depth=24, min_samples_leaf=8, n_estimators=10 ...............\n",
      "[CV]  max_depth=24, min_samples_leaf=8, n_estimators=10, score=-0.882582 -   0.6s\n",
      "[CV] max_depth=24, min_samples_leaf=8, n_estimators=10 ...............\n",
      "[CV]  max_depth=24, min_samples_leaf=8, n_estimators=10, score=-0.882637 -   0.6s\n",
      "[CV] max_depth=24, min_samples_leaf=8, n_estimators=10 ...............\n",
      "[CV]  max_depth=24, min_samples_leaf=8, n_estimators=10, score=-0.882194 -   0.6s\n",
      "[CV] max_depth=24, min_samples_leaf=8, n_estimators=32 ...............\n",
      "[CV]  max_depth=24, min_samples_leaf=8, n_estimators=32, score=-0.861269 -   1.3s\n",
      "[CV] max_depth=24, min_samples_leaf=8, n_estimators=32 ...............\n",
      "[CV]  max_depth=24, min_samples_leaf=8, n_estimators=32, score=-0.853291 -   1.3s\n",
      "[CV] max_depth=24, min_samples_leaf=8, n_estimators=32 ...............\n",
      "[CV]  max_depth=24, min_samples_leaf=8, n_estimators=32, score=-0.846827 -   1.3s\n",
      "[CV] max_depth=24, min_samples_leaf=8, n_estimators=55 ...............\n",
      "[CV]  max_depth=24, min_samples_leaf=8, n_estimators=55, score=-0.866581 -   1.9s\n",
      "[CV] max_depth=24, min_samples_leaf=8, n_estimators=55 ...............\n",
      "[CV]  max_depth=24, min_samples_leaf=8, n_estimators=55, score=-0.846893 -   2.0s\n",
      "[CV] max_depth=24, min_samples_leaf=8, n_estimators=55 ...............\n",
      "[CV]  max_depth=24, min_samples_leaf=8, n_estimators=55, score=-0.849988 -   2.0s\n",
      "[CV] max_depth=24, min_samples_leaf=8, n_estimators=77 ...............\n",
      "[CV]  max_depth=24, min_samples_leaf=8, n_estimators=77, score=-0.857664 -   2.6s\n",
      "[CV] max_depth=24, min_samples_leaf=8, n_estimators=77 ...............\n",
      "[CV]  max_depth=24, min_samples_leaf=8, n_estimators=77, score=-0.853350 -   2.7s\n",
      "[CV] max_depth=24, min_samples_leaf=8, n_estimators=77 ...............\n",
      "[CV]  max_depth=24, min_samples_leaf=8, n_estimators=77, score=-0.839495 -   2.7s\n",
      "[CV] max_depth=24, min_samples_leaf=8, n_estimators=100 ..............\n",
      "[CV]  max_depth=24, min_samples_leaf=8, n_estimators=100, score=-0.856480 -   3.3s\n",
      "[CV] max_depth=24, min_samples_leaf=8, n_estimators=100 ..............\n",
      "[CV]  max_depth=24, min_samples_leaf=8, n_estimators=100, score=-0.843523 -   3.4s\n",
      "[CV] max_depth=24, min_samples_leaf=8, n_estimators=100 ..............\n",
      "[CV]  max_depth=24, min_samples_leaf=8, n_estimators=100, score=-0.838862 -   3.4s\n",
      "[CV] max_depth=24, min_samples_leaf=15, n_estimators=10 ..............\n",
      "[CV]  max_depth=24, min_samples_leaf=15, n_estimators=10, score=-0.885640 -   0.6s\n",
      "[CV] max_depth=24, min_samples_leaf=15, n_estimators=10 ..............\n",
      "[CV]  max_depth=24, min_samples_leaf=15, n_estimators=10, score=-0.901756 -   0.6s\n",
      "[CV] max_depth=24, min_samples_leaf=15, n_estimators=10 ..............\n",
      "[CV]  max_depth=24, min_samples_leaf=15, n_estimators=10, score=-0.867425 -   0.6s\n",
      "[CV] max_depth=24, min_samples_leaf=15, n_estimators=32 ..............\n",
      "[CV]  max_depth=24, min_samples_leaf=15, n_estimators=32, score=-0.880779 -   1.2s\n",
      "[CV] max_depth=24, min_samples_leaf=15, n_estimators=32 ..............\n",
      "[CV]  max_depth=24, min_samples_leaf=15, n_estimators=32, score=-0.862039 -   1.2s\n",
      "[CV] max_depth=24, min_samples_leaf=15, n_estimators=32 ..............\n",
      "[CV]  max_depth=24, min_samples_leaf=15, n_estimators=32, score=-0.858673 -   1.2s\n",
      "[CV] max_depth=24, min_samples_leaf=15, n_estimators=55 ..............\n",
      "[CV]  max_depth=24, min_samples_leaf=15, n_estimators=55, score=-0.868776 -   1.8s\n",
      "[CV] max_depth=24, min_samples_leaf=15, n_estimators=55 ..............\n",
      "[CV]  max_depth=24, min_samples_leaf=15, n_estimators=55, score=-0.859332 -   1.8s\n",
      "[CV] max_depth=24, min_samples_leaf=15, n_estimators=55 ..............\n",
      "[CV]  max_depth=24, min_samples_leaf=15, n_estimators=55, score=-0.851412 -   1.8s\n",
      "[CV] max_depth=24, min_samples_leaf=15, n_estimators=77 ..............\n",
      "[CV]  max_depth=24, min_samples_leaf=15, n_estimators=77, score=-0.870357 -   2.3s\n",
      "[CV] max_depth=24, min_samples_leaf=15, n_estimators=77 ..............\n",
      "[CV]  max_depth=24, min_samples_leaf=15, n_estimators=77, score=-0.861779 -   2.4s\n",
      "[CV] max_depth=24, min_samples_leaf=15, n_estimators=77 ..............\n",
      "[CV]  max_depth=24, min_samples_leaf=15, n_estimators=77, score=-0.859298 -   2.4s\n",
      "[CV] max_depth=24, min_samples_leaf=15, n_estimators=100 .............\n",
      "[CV]  max_depth=24, min_samples_leaf=15, n_estimators=100, score=-0.864175 -   3.0s\n",
      "[CV] max_depth=24, min_samples_leaf=15, n_estimators=100 .............\n",
      "[CV]  max_depth=24, min_samples_leaf=15, n_estimators=100, score=-0.863355 -   3.1s\n",
      "[CV] max_depth=24, min_samples_leaf=15, n_estimators=100 .............\n",
      "[CV]  max_depth=24, min_samples_leaf=15, n_estimators=100, score=-0.854740 -   3.1s\n",
      "[CV] max_depth=30, min_samples_leaf=1, n_estimators=10 ...............\n",
      "[CV]  max_depth=30, min_samples_leaf=1, n_estimators=10, score=-2.074665 -   0.8s\n",
      "[CV] max_depth=30, min_samples_leaf=1, n_estimators=10 ...............\n",
      "[CV]  max_depth=30, min_samples_leaf=1, n_estimators=10, score=-1.988796 -   0.8s\n",
      "[CV] max_depth=30, min_samples_leaf=1, n_estimators=10 ...............\n",
      "[CV]  max_depth=30, min_samples_leaf=1, n_estimators=10, score=-1.994270 -   0.8s\n",
      "[CV] max_depth=30, min_samples_leaf=1, n_estimators=32 ...............\n",
      "[CV]  max_depth=30, min_samples_leaf=1, n_estimators=32, score=-1.130896 -   1.9s\n",
      "[CV] max_depth=30, min_samples_leaf=1, n_estimators=32 ...............\n",
      "[CV]  max_depth=30, min_samples_leaf=1, n_estimators=32, score=-1.067240 -   2.0s\n",
      "[CV] max_depth=30, min_samples_leaf=1, n_estimators=32 ...............\n",
      "[CV]  max_depth=30, min_samples_leaf=1, n_estimators=32, score=-1.018598 -   2.0s\n",
      "[CV] max_depth=30, min_samples_leaf=1, n_estimators=55 ...............\n",
      "[CV]  max_depth=30, min_samples_leaf=1, n_estimators=55, score=-0.977260 -   3.2s\n",
      "[CV] max_depth=30, min_samples_leaf=1, n_estimators=55 ...............\n",
      "[CV]  max_depth=30, min_samples_leaf=1, n_estimators=55, score=-0.964278 -   3.3s\n",
      "[CV] max_depth=30, min_samples_leaf=1, n_estimators=55 ...............\n",
      "[CV]  max_depth=30, min_samples_leaf=1, n_estimators=55, score=-0.947677 -   3.2s\n",
      "[CV] max_depth=30, min_samples_leaf=1, n_estimators=77 ...............\n",
      "[CV]  max_depth=30, min_samples_leaf=1, n_estimators=77, score=-0.908654 -   4.3s\n",
      "[CV] max_depth=30, min_samples_leaf=1, n_estimators=77 ...............\n",
      "[CV]  max_depth=30, min_samples_leaf=1, n_estimators=77, score=-0.894314 -   4.4s\n",
      "[CV] max_depth=30, min_samples_leaf=1, n_estimators=77 ...............\n",
      "[CV]  max_depth=30, min_samples_leaf=1, n_estimators=77, score=-0.880037 -   4.3s\n",
      "[CV] max_depth=30, min_samples_leaf=1, n_estimators=100 ..............\n",
      "[CV]  max_depth=30, min_samples_leaf=1, n_estimators=100, score=-0.894907 -   5.5s\n",
      "[CV] max_depth=30, min_samples_leaf=1, n_estimators=100 ..............\n",
      "[CV]  max_depth=30, min_samples_leaf=1, n_estimators=100, score=-0.889668 -   5.6s\n",
      "[CV] max_depth=30, min_samples_leaf=1, n_estimators=100 ..............\n",
      "[CV]  max_depth=30, min_samples_leaf=1, n_estimators=100, score=-0.856668 -   5.6s\n",
      "[CV] max_depth=30, min_samples_leaf=8, n_estimators=10 ...............\n",
      "[CV]  max_depth=30, min_samples_leaf=8, n_estimators=10, score=-0.900223 -   0.6s\n",
      "[CV] max_depth=30, min_samples_leaf=8, n_estimators=10 ...............\n",
      "[CV]  max_depth=30, min_samples_leaf=8, n_estimators=10, score=-0.886465 -   0.6s\n",
      "[CV] max_depth=30, min_samples_leaf=8, n_estimators=10 ...............\n",
      "[CV]  max_depth=30, min_samples_leaf=8, n_estimators=10, score=-0.889294 -   0.6s\n",
      "[CV] max_depth=30, min_samples_leaf=8, n_estimators=32 ...............\n",
      "[CV]  max_depth=30, min_samples_leaf=8, n_estimators=32, score=-0.858454 -   1.3s\n",
      "[CV] max_depth=30, min_samples_leaf=8, n_estimators=32 ...............\n",
      "[CV]  max_depth=30, min_samples_leaf=8, n_estimators=32, score=-0.866514 -   1.3s\n",
      "[CV] max_depth=30, min_samples_leaf=8, n_estimators=32 ...............\n",
      "[CV]  max_depth=30, min_samples_leaf=8, n_estimators=32, score=-0.845722 -   1.3s\n",
      "[CV] max_depth=30, min_samples_leaf=8, n_estimators=55 ...............\n",
      "[CV]  max_depth=30, min_samples_leaf=8, n_estimators=55, score=-0.857296 -   2.0s\n",
      "[CV] max_depth=30, min_samples_leaf=8, n_estimators=55 ...............\n",
      "[CV]  max_depth=30, min_samples_leaf=8, n_estimators=55, score=-0.842857 -   2.1s\n",
      "[CV] max_depth=30, min_samples_leaf=8, n_estimators=55 ...............\n",
      "[CV]  max_depth=30, min_samples_leaf=8, n_estimators=55, score=-0.837006 -   2.0s\n",
      "[CV] max_depth=30, min_samples_leaf=8, n_estimators=77 ...............\n",
      "[CV]  max_depth=30, min_samples_leaf=8, n_estimators=77, score=-0.851022 -   2.6s\n",
      "[CV] max_depth=30, min_samples_leaf=8, n_estimators=77 ...............\n",
      "[CV]  max_depth=30, min_samples_leaf=8, n_estimators=77, score=-0.852793 -   2.7s\n",
      "[CV] max_depth=30, min_samples_leaf=8, n_estimators=77 ...............\n",
      "[CV]  max_depth=30, min_samples_leaf=8, n_estimators=77, score=-0.841888 -   2.8s\n",
      "[CV] max_depth=30, min_samples_leaf=8, n_estimators=100 ..............\n",
      "[CV]  max_depth=30, min_samples_leaf=8, n_estimators=100, score=-0.855566 -   3.4s\n",
      "[CV] max_depth=30, min_samples_leaf=8, n_estimators=100 ..............\n",
      "[CV]  max_depth=30, min_samples_leaf=8, n_estimators=100, score=-0.848211 -   3.4s\n",
      "[CV] max_depth=30, min_samples_leaf=8, n_estimators=100 ..............\n",
      "[CV]  max_depth=30, min_samples_leaf=8, n_estimators=100, score=-0.840303 -   3.5s\n",
      "[CV] max_depth=30, min_samples_leaf=15, n_estimators=10 ..............\n",
      "[CV]  max_depth=30, min_samples_leaf=15, n_estimators=10, score=-0.886103 -   0.6s\n",
      "[CV] max_depth=30, min_samples_leaf=15, n_estimators=10 ..............\n",
      "[CV]  max_depth=30, min_samples_leaf=15, n_estimators=10, score=-0.889632 -   0.6s\n",
      "[CV] max_depth=30, min_samples_leaf=15, n_estimators=10 ..............\n",
      "[CV]  max_depth=30, min_samples_leaf=15, n_estimators=10, score=-0.869136 -   0.6s\n",
      "[CV] max_depth=30, min_samples_leaf=15, n_estimators=32 ..............\n",
      "[CV]  max_depth=30, min_samples_leaf=15, n_estimators=32, score=-0.862269 -   1.2s\n",
      "[CV] max_depth=30, min_samples_leaf=15, n_estimators=32 ..............\n",
      "[CV]  max_depth=30, min_samples_leaf=15, n_estimators=32, score=-0.865429 -   1.2s\n",
      "[CV] max_depth=30, min_samples_leaf=15, n_estimators=32 ..............\n",
      "[CV]  max_depth=30, min_samples_leaf=15, n_estimators=32, score=-0.853806 -   1.2s\n",
      "[CV] max_depth=30, min_samples_leaf=15, n_estimators=55 ..............\n",
      "[CV]  max_depth=30, min_samples_leaf=15, n_estimators=55, score=-0.872917 -   1.8s\n",
      "[CV] max_depth=30, min_samples_leaf=15, n_estimators=55 ..............\n",
      "[CV]  max_depth=30, min_samples_leaf=15, n_estimators=55, score=-0.864936 -   1.8s\n",
      "[CV] max_depth=30, min_samples_leaf=15, n_estimators=55 ..............\n",
      "[CV]  max_depth=30, min_samples_leaf=15, n_estimators=55, score=-0.855290 -   1.8s\n",
      "[CV] max_depth=30, min_samples_leaf=15, n_estimators=77 ..............\n",
      "[CV]  max_depth=30, min_samples_leaf=15, n_estimators=77, score=-0.868720 -   2.4s\n",
      "[CV] max_depth=30, min_samples_leaf=15, n_estimators=77 ..............\n",
      "[CV]  max_depth=30, min_samples_leaf=15, n_estimators=77, score=-0.862368 -   2.4s\n",
      "[CV] max_depth=30, min_samples_leaf=15, n_estimators=77 ..............\n",
      "[CV]  max_depth=30, min_samples_leaf=15, n_estimators=77, score=-0.855718 -   2.4s\n",
      "[CV] max_depth=30, min_samples_leaf=15, n_estimators=100 .............\n",
      "[CV]  max_depth=30, min_samples_leaf=15, n_estimators=100, score=-0.864683 -   3.2s\n",
      "[CV] max_depth=30, min_samples_leaf=15, n_estimators=100 .............\n",
      "[CV]  max_depth=30, min_samples_leaf=15, n_estimators=100, score=-0.859059 -   3.2s\n",
      "[CV] max_depth=30, min_samples_leaf=15, n_estimators=100 .............\n",
      "[CV]  max_depth=30, min_samples_leaf=15, n_estimators=100, score=-0.851073 -   3.1s\n"
     ]
    },
    {
     "name": "stderr",
     "output_type": "stream",
     "text": [
      "[Parallel(n_jobs=1)]: Done 270 out of 270 | elapsed:  7.6min finished\n"
     ]
    },
    {
     "name": "stdout",
     "output_type": "stream",
     "text": [
      "-0.818168525006\n",
      "{'max_depth': 18, 'min_samples_leaf': 1, 'n_estimators': 100}\n"
     ]
    }
   ],
   "source": [
    "rfc_params = {\n",
    "    'n_estimators' : np.linspace(10, 100, 5, dtype='int'),\n",
    "    'max_depth': np.linspace(2, 30, 6, dtype='int'),\n",
    "    'min_samples_leaf': np.linspace(1, 15, 3, dtype='int'), \n",
    "}\n",
    "grid = GridSearchCV(RandomForestClassifier(), rfc_params, verbose=3, scoring='log_loss', n_jobs=1)\n",
    "grid.fit(x, y)\n",
    "print(grid.best_score_)\n",
    "print(grid.best_params_)"
   ]
  },
  {
   "cell_type": "code",
   "execution_count": 34,
   "metadata": {
    "collapsed": false
   },
   "outputs": [],
   "source": [
    "#xgb_params = dict(objective='multi:softprob',                    \n",
    "#                  max_depth=6, \n",
    "#                  learning_rate=0.2,\n",
    "#                  num_class=5,\n",
    "#                  subsample=0.75, \n",
    "#                  colsample_bytree=0.85,)\n",
    "#data = xgb.DMatrix(x, y)\n",
    "#xgb.cv(xgb_params, data, num_boost_round=125,  metrics='mlogloss', verbose_eval=True)\n"
   ]
  },
  {
   "cell_type": "code",
   "execution_count": 35,
   "metadata": {
    "collapsed": false
   },
   "outputs": [],
   "source": [
    "#rfe = RFECV(RandomForestClassifier(max_depth=16, n_estimators=40), step=5, scoring='log_loss', verbose=0)\n",
    "#rfe.fit(x, y)\n",
    "#print(np.sum(rfe.support_))\n",
    "#rfe.grid_scores_"
   ]
  },
  {
   "cell_type": "code",
   "execution_count": 36,
   "metadata": {
    "collapsed": false
   },
   "outputs": [
    {
     "ename": "NameError",
     "evalue": "name 'rfe' is not defined",
     "output_type": "error",
     "traceback": [
      "\u001b[1;31m---------------------------------------------------------------------------\u001b[0m",
      "\u001b[1;31mNameError\u001b[0m                                 Traceback (most recent call last)",
      "\u001b[1;32m<ipython-input-36-238ae10da74d>\u001b[0m in \u001b[0;36m<module>\u001b[1;34m()\u001b[0m\n\u001b[1;32m----> 1\u001b[1;33m \u001b[0mx_reduzido\u001b[0m \u001b[1;33m=\u001b[0m \u001b[0mx\u001b[0m\u001b[1;33m.\u001b[0m\u001b[0mix\u001b[0m\u001b[1;33m[\u001b[0m\u001b[1;33m:\u001b[0m\u001b[1;33m,\u001b[0m \u001b[0mrfe\u001b[0m\u001b[1;33m.\u001b[0m\u001b[0mget_support\u001b[0m\u001b[1;33m(\u001b[0m\u001b[1;33m)\u001b[0m\u001b[1;33m]\u001b[0m\u001b[1;33m\u001b[0m\u001b[0m\n\u001b[0m\u001b[0;32m      2\u001b[0m \u001b[0mx_red_train\u001b[0m\u001b[1;33m,\u001b[0m \u001b[0mx_red_test\u001b[0m\u001b[1;33m,\u001b[0m \u001b[0my_train\u001b[0m\u001b[1;33m,\u001b[0m \u001b[0my_test\u001b[0m \u001b[1;33m=\u001b[0m \u001b[0mtrain_test_split\u001b[0m\u001b[1;33m(\u001b[0m\u001b[0mx_reduzido\u001b[0m\u001b[1;33m,\u001b[0m \u001b[0my\u001b[0m\u001b[1;33m,\u001b[0m \u001b[0mrandom_state\u001b[0m\u001b[1;33m=\u001b[0m\u001b[1;36m42\u001b[0m\u001b[1;33m)\u001b[0m\u001b[1;33m\u001b[0m\u001b[0m\n\u001b[0;32m      3\u001b[0m \u001b[0mrfc\u001b[0m \u001b[1;33m=\u001b[0m \u001b[0mRandomForestClassifier\u001b[0m\u001b[1;33m(\u001b[0m\u001b[0mmax_depth\u001b[0m\u001b[1;33m=\u001b[0m\u001b[1;36m15\u001b[0m\u001b[1;33m,\u001b[0m \u001b[0mn_estimators\u001b[0m\u001b[1;33m=\u001b[0m\u001b[1;36m60\u001b[0m\u001b[1;33m,\u001b[0m \u001b[0mclass_weight\u001b[0m\u001b[1;33m=\u001b[0m\u001b[1;34m'balanced_subsample'\u001b[0m\u001b[1;33m)\u001b[0m\u001b[1;33m\u001b[0m\u001b[0m\n\u001b[0;32m      4\u001b[0m \u001b[0mrfc\u001b[0m\u001b[1;33m.\u001b[0m\u001b[0mfit\u001b[0m\u001b[1;33m(\u001b[0m\u001b[0mx_red_train\u001b[0m\u001b[1;33m,\u001b[0m \u001b[0my_train\u001b[0m\u001b[1;33m)\u001b[0m\u001b[1;33m\u001b[0m\u001b[0m\n\u001b[0;32m      5\u001b[0m \u001b[0my_pred\u001b[0m \u001b[1;33m=\u001b[0m \u001b[0mrfc\u001b[0m\u001b[1;33m.\u001b[0m\u001b[0mpredict\u001b[0m\u001b[1;33m(\u001b[0m\u001b[0mx_red_test\u001b[0m\u001b[1;33m)\u001b[0m\u001b[1;33m\u001b[0m\u001b[0m\n",
      "\u001b[1;31mNameError\u001b[0m: name 'rfe' is not defined"
     ]
    }
   ],
   "source": [
    "x_reduzido = x.ix[:, rfe.get_support()]\n",
    "x_red_train, x_red_test, y_train, y_test = train_test_split(x_reduzido, y, random_state=42)\n",
    "rfc = RandomForestClassifier(max_depth=15, n_estimators=60, class_weight='balanced_subsample')\n",
    "rfc.fit(x_red_train, y_train)\n",
    "y_pred = rfc.predict(x_red_test)\n",
    "y_pred_proba = rfc.predict_proba(x_red_test)\n",
    "print(classification_report(y_test, y_pred))\n",
    "print()\n",
    "print(log_loss(y_test, y_pred_proba))\n",
    "\n",
    "cm = confusion_matrix(y_test, y_pred)\n",
    "print(cm)\n",
    "\n",
    "print(np.sum(cm, axis=0))\n"
   ]
  },
  {
   "cell_type": "code",
   "execution_count": null,
   "metadata": {
    "collapsed": false
   },
   "outputs": [],
   "source": [
    "#foo = pd.concat( (x, y), axis=1)\n",
    "#foo.shape\n",
    "#foo.to_csv('../input/saida1.csv', index=False)"
   ]
  },
  {
   "cell_type": "code",
   "execution_count": null,
   "metadata": {
    "collapsed": true
   },
   "outputs": [],
   "source": []
  }
 ],
 "metadata": {
  "kernelspec": {
   "display_name": "Python 3",
   "language": "python",
   "name": "python3"
  },
  "language_info": {
   "codemirror_mode": {
    "name": "ipython",
    "version": 3
   },
   "file_extension": ".py",
   "mimetype": "text/x-python",
   "name": "python",
   "nbconvert_exporter": "python",
   "pygments_lexer": "ipython3",
   "version": "3.4.3"
  }
 },
 "nbformat": 4,
 "nbformat_minor": 0
}
